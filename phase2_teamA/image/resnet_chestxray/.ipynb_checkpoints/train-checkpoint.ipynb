{
 "cells": [
  {
   "cell_type": "code",
   "execution_count": 1,
   "metadata": {},
   "outputs": [],
   "source": [
    "\n",
    "import os\n",
    "import argparse\n",
    "import logging\n",
    "\n",
    "import torch"
   ]
  },
  {
   "cell_type": "code",
   "execution_count": 2,
   "metadata": {},
   "outputs": [],
   "source": [
    "from resnet_chestxray.main_utils import ModelManager"
   ]
  },
  {
   "cell_type": "code",
   "execution_count": 4,
   "metadata": {},
   "outputs": [
    {
     "data": {
      "text/plain": [
       "_StoreAction(option_strings=['--init_lr'], dest='init_lr', nargs=None, const=None, default=0.0005, type=<class 'float'>, choices=None, help='Intial learning rate', metavar=None)"
      ]
     },
     "execution_count": 4,
     "metadata": {},
     "output_type": "execute_result"
    }
   ],
   "source": [
    "\n",
    "# current_dir = os.path.dirname(__file__)\n",
    "\n",
    "parser = argparse.ArgumentParser()\n",
    "parser.add_argument('--batch_size', default=64, type=int,\n",
    "\t\t\t\t\thelp='Mini-batch size')\n",
    "parser.add_argument('--num_train_epochs', default=300, type=int,\n",
    "                    help='Number of training epochs')\n",
    "parser.add_argument('--loss_method', type=str,\n",
    "                    default='BCEWithLogitsLoss',\n",
    "                    help='Loss function for model training')\n",
    "parser.add_argument('--init_lr', default=5e-4, type=float, \n",
    "                    help='Intial learning rate')\n",
    "\n",
    "parser.add_argument('--img_size', default=256, type=int,\n",
    "                    help='The size of the input image')\n",
    "parser.add_argument('--output_channels', default=1, type=int,\n",
    "                    help='The number of ouput channels')\n",
    "parser.add_argument('--model_architecture', default='resnet256_6_2_1', type=str,\n",
    "                    help='Neural network architecture to be used')\n",
    "\n",
    "parser.add_argument('--data_dir', type=str,\n",
    "\t\t\t\t\tdefault='/data/vision/polina/scratch/ruizhi/chestxray/data/png_16bit_256/',\n",
    "\t\t\t\t\thelp='The image data directory')\n",
    "parser.add_argument('--dataset_metadata', type=str,\n",
    "\t\t\t\t\tdefault=os.path.join(current_dir, 'data/training_chexpert.csv'),\n",
    "\t\t\t\t\thelp='The metadata for the model training ')\n",
    "parser.add_argument('--save_dir', type=str,\n",
    "\t\t\t\t\tdefault='/data/vision/polina/scratch/ruizhi/chestxray/experiments/'\\\n",
    "\t\t\t\t\t'supervised_image/tmp_postmiccai_v2/')\n",
    "parser.add_argument('--label_key', type=str,\n",
    "                    default='Edema',\n",
    "                    help='The supervised task (the key of the corresponding label column)')\n",
    "\n"
   ]
  },
  {
   "cell_type": "code",
   "execution_count": 5,
   "metadata": {},
   "outputs": [],
   "source": [
    "\n",
    "def train():\n",
    "\targs = parser.parse_args()\n",
    "\n",
    "\tprint(args)\n",
    "\n",
    "\t'''\n",
    "\tCheck cuda\n",
    "\t'''\n",
    "\tdevice = torch.device(\"cuda\" if torch.cuda.is_available() else \"cpu\")\n",
    "\tassert torch.cuda.is_available(), \"No GPU/CUDA is detected!\"\n",
    "\n",
    "\t'''\n",
    "\tCreate a sub-directory under save_dir \n",
    "\tbased on the label key\n",
    "\t'''\n",
    "\targs.save_dir = os.path.join(args.save_dir, \n",
    "\t\t\t\t\t\t\t\t args.model_architecture+'_'+args.label_key)\n",
    "\tif not os.path.exists(args.save_dir):\n",
    "\t\tos.makedirs(args.save_dir)\n",
    "\n",
    "\t# Configure the log file\n",
    "\tlog_path = os.path.join(args.save_dir, 'training.log')\n",
    "\tlogging.basicConfig(filename=log_path, level=logging.INFO, filemode='w', \n",
    "\t\t\t\t\t\tformat='%(asctime)s - %(name)s %(message)s', \n",
    "\t\t\t\t\t\tdatefmt='%m-%d %H:%M')\n",
    "\n",
    "\tmodel_manager = ModelManager(model_name=args.model_architecture, \n",
    "\t\t\t\t\t\t\t\t img_size=args.img_size,\n",
    "\t\t\t\t\t\t\t\t output_channels=args.output_channels)\n",
    "\n",
    "\tmodel_manager.train(device=device,\n",
    "\t\t\t\t\t\targs=args)"
   ]
  },
  {
   "cell_type": "code",
   "execution_count": 6,
   "metadata": {},
   "outputs": [
    {
     "name": "stderr",
     "output_type": "stream",
     "text": [
      "usage: ipykernel_launcher.py [-h] [--batch_size BATCH_SIZE]\n",
      "                             [--num_train_epochs NUM_TRAIN_EPOCHS]\n",
      "                             [--loss_method LOSS_METHOD] [--init_lr INIT_LR]\n",
      "ipykernel_launcher.py: error: unrecognized arguments: -f /run/user/60912/jupyter/kernel-1f66df54-8487-482c-b179-1932c6c7c9dc.json\n"
     ]
    },
    {
     "ename": "SystemExit",
     "evalue": "2",
     "output_type": "error",
     "traceback": [
      "An exception has occurred, use %tb to see the full traceback.\n",
      "\u001b[0;31mSystemExit\u001b[0m\u001b[0;31m:\u001b[0m 2\n"
     ]
    },
    {
     "name": "stderr",
     "output_type": "stream",
     "text": [
      "/state/partition1/llgrid/pkg/anaconda/anaconda3-2020b/lib/python3.7/site-packages/IPython/core/interactiveshell.py:3333: UserWarning: To exit: use 'exit', 'quit', or Ctrl-D.\n",
      "  warn(\"To exit: use 'exit', 'quit', or Ctrl-D.\", stacklevel=1)\n"
     ]
    }
   ],
   "source": [
    "train()"
   ]
  },
  {
   "cell_type": "code",
   "execution_count": null,
   "metadata": {},
   "outputs": [],
   "source": []
  }
 ],
 "metadata": {
  "kernelspec": {
   "display_name": "Python 3",
   "language": "python",
   "name": "python3"
  },
  "language_info": {
   "codemirror_mode": {
    "name": "ipython",
    "version": 3
   },
   "file_extension": ".py",
   "mimetype": "text/x-python",
   "name": "python",
   "nbconvert_exporter": "python",
   "pygments_lexer": "ipython3",
   "version": "3.7.3"
  }
 },
 "nbformat": 4,
 "nbformat_minor": 4
}
