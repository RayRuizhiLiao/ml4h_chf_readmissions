{
 "cells": [
  {
   "cell_type": "code",
   "execution_count": 1,
   "metadata": {},
   "outputs": [],
   "source": [
    "import pandas as pd\n",
    "import numpy as np\n",
    "from dateutil import parser\n"
   ]
  },
  {
   "cell_type": "code",
   "execution_count": 5,
   "metadata": {},
   "outputs": [],
   "source": [
    "base_dir = '/data'"
   ]
  },
  {
   "cell_type": "code",
   "execution_count": 10,
   "metadata": {},
   "outputs": [
    {
     "name": "stdout",
     "output_type": "stream",
     "text": [
      "                                       dicom_id  subject_id  study_id  \\\n",
      "0  02aa804e-bde0afdd-112c0b34-7bc16630-4e384014    10000032  50414267   \n",
      "1  174413ec-4ec4c1f7-34ea26b7-c5f994f8-79ef1962    10000032  50414267   \n",
      "2  2a2277a9-b0ded155-c0de8eb9-c124d10e-82c5caab    10000032  53189527   \n",
      "3  e084de3b-be89b11e-20fe3f9f-9c8d8dfe-4cfd202c    10000032  53189527   \n",
      "4  68b5c4b1-227d0485-9cc38c3f-7b84ab51-4b472714    10000032  53911762   \n",
      "\n",
      "  PerformedProcedureStepDescription ViewPosition  Rows  Columns  StudyDate  \\\n",
      "0                CHEST (PA AND LAT)           PA  3056     2544   21800506   \n",
      "1                CHEST (PA AND LAT)      LATERAL  3056     2544   21800506   \n",
      "2                CHEST (PA AND LAT)           PA  3056     2544   21800626   \n",
      "3                CHEST (PA AND LAT)      LATERAL  3056     2544   21800626   \n",
      "4               CHEST (PORTABLE AP)           AP  2705     2539   21800723   \n",
      "\n",
      "    StudyTime ProcedureCodeSequence_CodeMeaning ViewCodeSequence_CodeMeaning  \\\n",
      "0  213014.531                CHEST (PA AND LAT)             postero-anterior   \n",
      "1  213014.531                CHEST (PA AND LAT)                      lateral   \n",
      "2  165500.312                CHEST (PA AND LAT)             postero-anterior   \n",
      "3  165500.312                CHEST (PA AND LAT)                      lateral   \n",
      "4   80556.875               CHEST (PORTABLE AP)             antero-posterior   \n",
      "\n",
      "  PatientOrientationCodeSequence_CodeMeaning  \n",
      "0                                      Erect  \n",
      "1                                      Erect  \n",
      "2                                      Erect  \n",
      "3                                      Erect  \n",
      "4                                        NaN  \n"
     ]
    }
   ],
   "source": [
    "metadata = pd.read_csv('data/mimic-cxr-2.0.0-metadata.csv.gz')\n",
    "print(metadata.head())"
   ]
  },
  {
   "cell_type": "code",
   "execution_count": 11,
   "metadata": {},
   "outputs": [
    {
     "name": "stdout",
     "output_type": "stream",
     "text": [
      "   Unnamed: 0  subject_id   hadm_id            admittime            dischtime  \\\n",
      "0           0    10000980  24947999  2190-11-06 20:57:00  2190-11-08 15:58:00   \n",
      "1           1    10000980  25911675  2191-05-23 15:33:00  2191-05-24 17:14:00   \n",
      "2           2    10000980  29659838  2191-07-16 14:21:00  2191-07-19 13:03:00   \n",
      "3           3    10000980  20897796  2193-08-15 01:01:00  2193-08-17 15:07:00   \n",
      "4           4    10002131  24065018  2128-03-17 14:53:00  2128-03-19 16:25:00   \n",
      "\n",
      "  deathtime     admission_type     admission_location discharge_location  \\\n",
      "0         0           EW EMER.         EMERGENCY ROOM   HOME HEALTH CARE   \n",
      "1         0           EW EMER.         EMERGENCY ROOM   HOME HEALTH CARE   \n",
      "2         0           EW EMER.         EMERGENCY ROOM   HOME HEALTH CARE   \n",
      "3         0  OBSERVATION ADMIT  WALK-IN/SELF REFERRAL   HOME HEALTH CARE   \n",
      "4         0           EW EMER.         EMERGENCY ROOM            HOSPICE   \n",
      "\n",
      "  insurance  ... heart_failure readmission_num 48h_hf 14d_hf 30d_hf  er_hf  \\\n",
      "0  Medicare  ...             1               3      0      0      0      0   \n",
      "1  Medicare  ...             1               5      0      0      0      1   \n",
      "2  Medicare  ...             1               6      0      0      0      0   \n",
      "3     Other  ...             1               7      0      0      0      0   \n",
      "4  Medicare  ...             1               3      0      0      0      0   \n",
      "\n",
      "   48h  14d  30d  er  \n",
      "0    0    0    0   1  \n",
      "1    0    0    0   1  \n",
      "2    0    0    0   0  \n",
      "3    0    0    0   1  \n",
      "4    0    0    0   1  \n",
      "\n",
      "[5 rows x 27 columns]\n"
     ]
    }
   ],
   "source": [
    "\n",
    "\n",
    "admissions = pd.read_csv('final_cohort_with_outcome_labels.csv')\n",
    "print(admissions.head())"
   ]
  },
  {
   "cell_type": "code",
   "execution_count": 12,
   "metadata": {},
   "outputs": [
    {
     "name": "stdout",
     "output_type": "stream",
     "text": [
      "study time modified\n",
      "377110\n"
     ]
    }
   ],
   "source": [
    "# convert StudyDate + StudyTime to datetime objects in 'StudyDateTime'\n",
    "metadata['StudyTime'] = metadata['StudyTime'].astype(str)\n",
    "metadata['StudyTime'] = metadata['StudyTime'].apply(lambda t: '0'*(6-t.index('.')) + t)\n",
    "\n",
    "metadata['StudyDateTime'] = metadata['StudyDate'].astype(str) + 'T' + metadata['StudyTime'].astype(str)\n",
    "metadata['StudyDateTime'] = metadata['StudyDateTime'].apply(lambda date: parser.parse(date))\n",
    "print(\"study time modified\")\n",
    "\n",
    "# ### Extract admissions timestamps \n",
    "\n",
    "# In[106]:\n",
    "\n",
    "\n",
    "# Convert date strings to datetime objects\n",
    "admissions['admittime'] = admissions['admittime'].map(parser.parse)\n",
    "admissions['dischtime'] = admissions['dischtime'].map(parser.parse)\n",
    "\n",
    "\n",
    "# ### Link cxr to hadm (only last study captured for each hadm)\n",
    "\n",
    "# In[119]:\n",
    "\n",
    "\n",
    "# isolate cohort admissions\n",
    "#admissions = admissions[admissions['subject_id'].isin(cohort['subject_id'].unique())]\n",
    "\n",
    "\n",
    "# In[121]:\n",
    "\n",
    "\n",
    "len(admissions)\n",
    "\n",
    "\n",
    "# In[155]:\n",
    "\n",
    "\n",
    "admissions['last_study_id'] = None\n",
    "admissions['last_dicom_id'] = None\n",
    "admissions['last_study_time'] = None\n",
    "\n",
    "\n",
    "# In[156]:\n",
    "\n",
    "\n",
    "# add last study_id/dicom_id to corresponding hadm entries\n",
    "print(len(metadata.index))\n"
   ]
  },
  {
   "cell_type": "code",
   "execution_count": 13,
   "metadata": {},
   "outputs": [
    {
     "name": "stdout",
     "output_type": "stream",
     "text": [
      "Index(['Unnamed: 0', 'subject_id', 'hadm_id', 'admittime', 'dischtime',\n",
      "       'deathtime', 'admission_type', 'admission_location',\n",
      "       'discharge_location', 'insurance', 'language', 'marital_status',\n",
      "       'ethnicity', 'edregtime', 'edouttime', 'hospital_expire_flag',\n",
      "       'chronic_dialysis', 'heart_failure', 'readmission_num', '48h_hf',\n",
      "       '14d_hf', '30d_hf', 'er_hf', '48h', '14d', '30d', 'er', 'last_study_id',\n",
      "       'last_dicom_id', 'last_study_time'],\n",
      "      dtype='object')\n"
     ]
    }
   ],
   "source": [
    "for entry in metadata.index:\n",
    "    meta_row = metadata.loc[entry]\n",
    "    subject_id = meta_row['subject_id']\n",
    "    time = meta_row['StudyDateTime']\n",
    "    subject_adm = admissions[admissions['subject_id'] == subject_id]\n",
    "    \n",
    "    for adm_entry in subject_adm.index:\n",
    "        adm_row = subject_adm.loc[adm_entry]\n",
    "        if adm_row['admittime'] < time < adm_row['dischtime']:\n",
    "            if adm_row['last_study_time'] == None or adm_row['last_study_time'] < time:\n",
    "                admissions.at[adm_entry,'last_study_id'] = meta_row['study_id']\n",
    "                admissions.at[adm_entry,'last_dicom_id'] = meta_row['dicom_id']\n",
    "                admissions.at[adm_entry,'last_study_time'] = time\n",
    "\n",
    "# drop entries without corresponding dicom/study entries\n",
    "adm_with_cxr = admissions.drop(admissions[admissions['last_study_id'].isnull()].index)\n",
    "print(adm_with_cxr.columns)"
   ]
  },
  {
   "cell_type": "code",
   "execution_count": 14,
   "metadata": {},
   "outputs": [
    {
     "name": "stdout",
     "output_type": "stream",
     "text": [
      "    Unnamed: 0  subject_id   hadm_id           admittime           dischtime  \\\n",
      "7            7    10003400  20214994 2137-02-24 10:00:00 2137-03-19 15:45:00   \n",
      "8            8    10003502  29011269 2169-08-26 16:14:00 2169-08-28 15:20:00   \n",
      "16          16    10011938  22624746 2128-01-02 21:04:00 2128-01-11 16:01:00   \n",
      "17          17    10011938  23501236 2128-02-11 16:11:00 2128-02-26 16:29:00   \n",
      "18          18    10012853  26369609 2175-04-05 15:36:00 2175-04-10 16:55:00   \n",
      "\n",
      "   deathtime            edregtime            edouttime  chronic_dialysis  \\\n",
      "7          0                    0                    0             False   \n",
      "8          0  2169-08-26 12:31:00  2169-08-26 22:11:00             False   \n",
      "16         0                    0                    0             False   \n",
      "17         0  2128-02-11 12:35:00  2128-02-11 17:34:00             False   \n",
      "18         0  2175-04-05 06:22:00  2175-04-05 17:10:00             False   \n",
      "\n",
      "    heart_failure  ...  14d_hf  30d_hf  er_hf  48h  14d  30d  er  \\\n",
      "7               1  ...       0       0      0    0    0    0   0   \n",
      "8               1  ...       0       0      0    0    0    0   0   \n",
      "16              1  ...       0       0      1    0    0    0   1   \n",
      "17              1  ...       0       0      0    0    0    0   1   \n",
      "18              1  ...       0       0      0    0    0    0   1   \n",
      "\n",
      "    last_study_id                                 last_dicom_id  \\\n",
      "7        52437868  2f6a5fc9-40af95f8-d8762332-f56005ea-b5f85cc2   \n",
      "8        50084553  70d7e600-373c1311-929f5ff9-23ee3621-ff551ff9   \n",
      "16       56362279  c6eed867-d6efb38a-438501f9-9d2506e9-a0c958f8   \n",
      "17       51895247  bf724128-9131f33a-6fd065d5-19041750-9e7f8707   \n",
      "18       58181999  aac02704-c647b84c-58d5df12-c9857852-e1536bba   \n",
      "\n",
      "               last_study_time  \n",
      "7   2137-03-09 20:29:58.453000  \n",
      "8   2169-08-27 08:16:56.250000  \n",
      "16         2128-01-03 09:36:34  \n",
      "17  2128-02-16 09:07:57.093000  \n",
      "18  2175-04-07 13:18:41.031000  \n",
      "\n",
      "[5 rows x 22 columns]\n"
     ]
    }
   ],
   "source": [
    "# drop unnecessary columns\n",
    "adm_with_cxr.drop(columns=['admission_type', 'admission_location', 'discharge_location', 'insurance', 'language', 'marital_status', 'ethnicity', 'hospital_expire_flag'], inplace=True)\n",
    "\n",
    "adm_with_cxr.to_csv('final_cohort_with_imageids.csv')\n",
    "len(adm_with_cxr)\n",
    "print(adm_with_cxr.head())\n"
   ]
  },
  {
   "cell_type": "code",
   "execution_count": 15,
   "metadata": {},
   "outputs": [
    {
     "name": "stdout",
     "output_type": "stream",
     "text": [
      "Requirement already satisfied: Pillow in /Users/irra/anaconda3/lib/python3.7/site-packages (6.1.0)\n",
      "Note: you may need to restart the kernel to use updated packages.\n"
     ]
    }
   ],
   "source": [
    "pip install Pillow"
   ]
  },
  {
   "cell_type": "code",
   "execution_count": 16,
   "metadata": {},
   "outputs": [],
   "source": [
    "from PIL import Image"
   ]
  },
  {
   "cell_type": "code",
   "execution_count": 17,
   "metadata": {},
   "outputs": [],
   "source": [
    "im1 = Image.open(r'02aa804e-bde0afdd-112c0b34-7bc16630-4e384014.jpg')\n",
    "im1.save(r'02aa804e-bde0afdd-112c0b34-7bc16630-4e384014.png')"
   ]
  },
  {
   "cell_type": "code",
   "execution_count": 18,
   "metadata": {},
   "outputs": [],
   "source": [
    "class MimicID:\n",
    "\tsubject_id = ''\n",
    "\tstudy_id = ''\n",
    "\tdicom_id = ''\n",
    "\n",
    "\tdef __init__(self, subject_id, study_id, dicom_id):\n",
    "\t\tself.subject_id = str(subject_id)\n",
    "\t\tself.study_id = str(study_id)\n",
    "\t\tself.dicom_id = str(dicom_id)\n",
    "\n",
    "\tdef __str__(self):\n",
    "\t\treturn f\"p{self.subject_id}_s{self.study_id}_{self.dicom_id}\"\n"
   ]
  },
  {
   "cell_type": "code",
   "execution_count": 32,
   "metadata": {},
   "outputs": [],
   "source": [
    "#adm_with_cxr['subject_id'].iloc[0], adm_with_cxr['study_id'].iloc[0],adm_with_cxr['dicom_id'].iloc[0]"
   ]
  },
  {
   "cell_type": "code",
   "execution_count": 30,
   "metadata": {},
   "outputs": [],
   "source": [
    "adm_with_cxr['mimic_id'] = adm_with_cxr.apply(lambda row: \\\n",
    "            MimicID(row['subject_id'], row['last_study_id'], row['last_dicom_id']), axis=1)"
   ]
  },
  {
   "cell_type": "code",
   "execution_count": 31,
   "metadata": {},
   "outputs": [
    {
     "data": {
      "text/html": [
       "<div>\n",
       "<style scoped>\n",
       "    .dataframe tbody tr th:only-of-type {\n",
       "        vertical-align: middle;\n",
       "    }\n",
       "\n",
       "    .dataframe tbody tr th {\n",
       "        vertical-align: top;\n",
       "    }\n",
       "\n",
       "    .dataframe thead th {\n",
       "        text-align: right;\n",
       "    }\n",
       "</style>\n",
       "<table border=\"1\" class=\"dataframe\">\n",
       "  <thead>\n",
       "    <tr style=\"text-align: right;\">\n",
       "      <th></th>\n",
       "      <th>Unnamed: 0</th>\n",
       "      <th>subject_id</th>\n",
       "      <th>hadm_id</th>\n",
       "      <th>admittime</th>\n",
       "      <th>dischtime</th>\n",
       "      <th>deathtime</th>\n",
       "      <th>edregtime</th>\n",
       "      <th>edouttime</th>\n",
       "      <th>chronic_dialysis</th>\n",
       "      <th>heart_failure</th>\n",
       "      <th>...</th>\n",
       "      <th>30d_hf</th>\n",
       "      <th>er_hf</th>\n",
       "      <th>48h</th>\n",
       "      <th>14d</th>\n",
       "      <th>30d</th>\n",
       "      <th>er</th>\n",
       "      <th>last_study_id</th>\n",
       "      <th>last_dicom_id</th>\n",
       "      <th>last_study_time</th>\n",
       "      <th>mimic_id</th>\n",
       "    </tr>\n",
       "  </thead>\n",
       "  <tbody>\n",
       "    <tr>\n",
       "      <th>7</th>\n",
       "      <td>7</td>\n",
       "      <td>10003400</td>\n",
       "      <td>20214994</td>\n",
       "      <td>2137-02-24 10:00:00</td>\n",
       "      <td>2137-03-19 15:45:00</td>\n",
       "      <td>0</td>\n",
       "      <td>0</td>\n",
       "      <td>0</td>\n",
       "      <td>False</td>\n",
       "      <td>1</td>\n",
       "      <td>...</td>\n",
       "      <td>0</td>\n",
       "      <td>0</td>\n",
       "      <td>0</td>\n",
       "      <td>0</td>\n",
       "      <td>0</td>\n",
       "      <td>0</td>\n",
       "      <td>52437868</td>\n",
       "      <td>2f6a5fc9-40af95f8-d8762332-f56005ea-b5f85cc2</td>\n",
       "      <td>2137-03-09 20:29:58.453000</td>\n",
       "      <td>p10003400_s52437868_2f6a5fc9-40af95f8-d8762332...</td>\n",
       "    </tr>\n",
       "    <tr>\n",
       "      <th>8</th>\n",
       "      <td>8</td>\n",
       "      <td>10003502</td>\n",
       "      <td>29011269</td>\n",
       "      <td>2169-08-26 16:14:00</td>\n",
       "      <td>2169-08-28 15:20:00</td>\n",
       "      <td>0</td>\n",
       "      <td>2169-08-26 12:31:00</td>\n",
       "      <td>2169-08-26 22:11:00</td>\n",
       "      <td>False</td>\n",
       "      <td>1</td>\n",
       "      <td>...</td>\n",
       "      <td>0</td>\n",
       "      <td>0</td>\n",
       "      <td>0</td>\n",
       "      <td>0</td>\n",
       "      <td>0</td>\n",
       "      <td>0</td>\n",
       "      <td>50084553</td>\n",
       "      <td>70d7e600-373c1311-929f5ff9-23ee3621-ff551ff9</td>\n",
       "      <td>2169-08-27 08:16:56.250000</td>\n",
       "      <td>p10003502_s50084553_70d7e600-373c1311-929f5ff9...</td>\n",
       "    </tr>\n",
       "    <tr>\n",
       "      <th>16</th>\n",
       "      <td>16</td>\n",
       "      <td>10011938</td>\n",
       "      <td>22624746</td>\n",
       "      <td>2128-01-02 21:04:00</td>\n",
       "      <td>2128-01-11 16:01:00</td>\n",
       "      <td>0</td>\n",
       "      <td>0</td>\n",
       "      <td>0</td>\n",
       "      <td>False</td>\n",
       "      <td>1</td>\n",
       "      <td>...</td>\n",
       "      <td>0</td>\n",
       "      <td>1</td>\n",
       "      <td>0</td>\n",
       "      <td>0</td>\n",
       "      <td>0</td>\n",
       "      <td>1</td>\n",
       "      <td>56362279</td>\n",
       "      <td>c6eed867-d6efb38a-438501f9-9d2506e9-a0c958f8</td>\n",
       "      <td>2128-01-03 09:36:34</td>\n",
       "      <td>p10011938_s56362279_c6eed867-d6efb38a-438501f9...</td>\n",
       "    </tr>\n",
       "    <tr>\n",
       "      <th>17</th>\n",
       "      <td>17</td>\n",
       "      <td>10011938</td>\n",
       "      <td>23501236</td>\n",
       "      <td>2128-02-11 16:11:00</td>\n",
       "      <td>2128-02-26 16:29:00</td>\n",
       "      <td>0</td>\n",
       "      <td>2128-02-11 12:35:00</td>\n",
       "      <td>2128-02-11 17:34:00</td>\n",
       "      <td>False</td>\n",
       "      <td>1</td>\n",
       "      <td>...</td>\n",
       "      <td>0</td>\n",
       "      <td>0</td>\n",
       "      <td>0</td>\n",
       "      <td>0</td>\n",
       "      <td>0</td>\n",
       "      <td>1</td>\n",
       "      <td>51895247</td>\n",
       "      <td>bf724128-9131f33a-6fd065d5-19041750-9e7f8707</td>\n",
       "      <td>2128-02-16 09:07:57.093000</td>\n",
       "      <td>p10011938_s51895247_bf724128-9131f33a-6fd065d5...</td>\n",
       "    </tr>\n",
       "    <tr>\n",
       "      <th>18</th>\n",
       "      <td>18</td>\n",
       "      <td>10012853</td>\n",
       "      <td>26369609</td>\n",
       "      <td>2175-04-05 15:36:00</td>\n",
       "      <td>2175-04-10 16:55:00</td>\n",
       "      <td>0</td>\n",
       "      <td>2175-04-05 06:22:00</td>\n",
       "      <td>2175-04-05 17:10:00</td>\n",
       "      <td>False</td>\n",
       "      <td>1</td>\n",
       "      <td>...</td>\n",
       "      <td>0</td>\n",
       "      <td>0</td>\n",
       "      <td>0</td>\n",
       "      <td>0</td>\n",
       "      <td>0</td>\n",
       "      <td>1</td>\n",
       "      <td>58181999</td>\n",
       "      <td>aac02704-c647b84c-58d5df12-c9857852-e1536bba</td>\n",
       "      <td>2175-04-07 13:18:41.031000</td>\n",
       "      <td>p10012853_s58181999_aac02704-c647b84c-58d5df12...</td>\n",
       "    </tr>\n",
       "  </tbody>\n",
       "</table>\n",
       "<p>5 rows × 23 columns</p>\n",
       "</div>"
      ],
      "text/plain": [
       "    Unnamed: 0  subject_id   hadm_id           admittime           dischtime  \\\n",
       "7            7    10003400  20214994 2137-02-24 10:00:00 2137-03-19 15:45:00   \n",
       "8            8    10003502  29011269 2169-08-26 16:14:00 2169-08-28 15:20:00   \n",
       "16          16    10011938  22624746 2128-01-02 21:04:00 2128-01-11 16:01:00   \n",
       "17          17    10011938  23501236 2128-02-11 16:11:00 2128-02-26 16:29:00   \n",
       "18          18    10012853  26369609 2175-04-05 15:36:00 2175-04-10 16:55:00   \n",
       "\n",
       "   deathtime            edregtime            edouttime  chronic_dialysis  \\\n",
       "7          0                    0                    0             False   \n",
       "8          0  2169-08-26 12:31:00  2169-08-26 22:11:00             False   \n",
       "16         0                    0                    0             False   \n",
       "17         0  2128-02-11 12:35:00  2128-02-11 17:34:00             False   \n",
       "18         0  2175-04-05 06:22:00  2175-04-05 17:10:00             False   \n",
       "\n",
       "    heart_failure  ...  30d_hf  er_hf  48h  14d  30d  er  last_study_id  \\\n",
       "7               1  ...       0      0    0    0    0   0       52437868   \n",
       "8               1  ...       0      0    0    0    0   0       50084553   \n",
       "16              1  ...       0      1    0    0    0   1       56362279   \n",
       "17              1  ...       0      0    0    0    0   1       51895247   \n",
       "18              1  ...       0      0    0    0    0   1       58181999   \n",
       "\n",
       "                                   last_dicom_id             last_study_time  \\\n",
       "7   2f6a5fc9-40af95f8-d8762332-f56005ea-b5f85cc2  2137-03-09 20:29:58.453000   \n",
       "8   70d7e600-373c1311-929f5ff9-23ee3621-ff551ff9  2169-08-27 08:16:56.250000   \n",
       "16  c6eed867-d6efb38a-438501f9-9d2506e9-a0c958f8         2128-01-03 09:36:34   \n",
       "17  bf724128-9131f33a-6fd065d5-19041750-9e7f8707  2128-02-16 09:07:57.093000   \n",
       "18  aac02704-c647b84c-58d5df12-c9857852-e1536bba  2175-04-07 13:18:41.031000   \n",
       "\n",
       "                                             mimic_id  \n",
       "7   p10003400_s52437868_2f6a5fc9-40af95f8-d8762332...  \n",
       "8   p10003502_s50084553_70d7e600-373c1311-929f5ff9...  \n",
       "16  p10011938_s56362279_c6eed867-d6efb38a-438501f9...  \n",
       "17  p10011938_s51895247_bf724128-9131f33a-6fd065d5...  \n",
       "18  p10012853_s58181999_aac02704-c647b84c-58d5df12...  \n",
       "\n",
       "[5 rows x 23 columns]"
      ]
     },
     "execution_count": 31,
     "metadata": {},
     "output_type": "execute_result"
    }
   ],
   "source": [
    "adm_with_cxr.head()"
   ]
  },
  {
   "cell_type": "code",
   "execution_count": 33,
   "metadata": {},
   "outputs": [
    {
     "data": {
      "text/plain": [
       "<__main__.MimicID at 0x7fda259c0940>"
      ]
     },
     "execution_count": 33,
     "metadata": {},
     "output_type": "execute_result"
    }
   ],
   "source": [
    "adm_with_cxr['mimic_id'].iloc[0]"
   ]
  },
  {
   "cell_type": "code",
   "execution_count": 34,
   "metadata": {},
   "outputs": [],
   "source": [
    "adm_with_cxr.to_csv('final_cohort_with_mimicids.csv')"
   ]
  }
 ],
 "metadata": {
  "kernelspec": {
   "display_name": "Python 3",
   "language": "python",
   "name": "python3"
  },
  "language_info": {
   "codemirror_mode": {
    "name": "ipython",
    "version": 3
   },
   "file_extension": ".py",
   "mimetype": "text/x-python",
   "name": "python",
   "nbconvert_exporter": "python",
   "pygments_lexer": "ipython3",
   "version": "3.7.3"
  }
 },
 "nbformat": 4,
 "nbformat_minor": 4
}
