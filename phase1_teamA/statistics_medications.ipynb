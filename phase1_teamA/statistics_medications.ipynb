{
 "cells": [
  {
   "cell_type": "markdown",
   "metadata": {},
   "source": [
    "## Statistics/Visualizations on Final Cohort"
   ]
  },
  {
   "cell_type": "code",
   "execution_count": 2,
   "metadata": {},
   "outputs": [],
   "source": [
    "import pandas as pd\n",
    "import matplotlib.pyplot as plt\n",
    "import numpy as np"
   ]
  },
  {
   "cell_type": "code",
   "execution_count": 159,
   "metadata": {},
   "outputs": [
    {
     "data": {
      "text/html": [
       "<div>\n",
       "<style scoped>\n",
       "    .dataframe tbody tr th:only-of-type {\n",
       "        vertical-align: middle;\n",
       "    }\n",
       "\n",
       "    .dataframe tbody tr th {\n",
       "        vertical-align: top;\n",
       "    }\n",
       "\n",
       "    .dataframe thead th {\n",
       "        text-align: right;\n",
       "    }\n",
       "</style>\n",
       "<table border=\"1\" class=\"dataframe\">\n",
       "  <thead>\n",
       "    <tr style=\"text-align: right;\">\n",
       "      <th></th>\n",
       "      <th>subject_id</th>\n",
       "      <th>hadm_id</th>\n",
       "      <th>chronic_dialysis</th>\n",
       "      <th>CHF exacerbation</th>\n",
       "    </tr>\n",
       "  </thead>\n",
       "  <tbody>\n",
       "    <tr>\n",
       "      <th>0</th>\n",
       "      <td>15734973</td>\n",
       "      <td>20475282</td>\n",
       "      <td>False</td>\n",
       "      <td>False</td>\n",
       "    </tr>\n",
       "    <tr>\n",
       "      <th>5</th>\n",
       "      <td>11442057</td>\n",
       "      <td>21518990</td>\n",
       "      <td>False</td>\n",
       "      <td>False</td>\n",
       "    </tr>\n",
       "    <tr>\n",
       "      <th>11</th>\n",
       "      <td>10072949</td>\n",
       "      <td>20817034</td>\n",
       "      <td>False</td>\n",
       "      <td>False</td>\n",
       "    </tr>\n",
       "    <tr>\n",
       "      <th>16</th>\n",
       "      <td>13538405</td>\n",
       "      <td>24822466</td>\n",
       "      <td>False</td>\n",
       "      <td>False</td>\n",
       "    </tr>\n",
       "    <tr>\n",
       "      <th>21</th>\n",
       "      <td>10287061</td>\n",
       "      <td>27485182</td>\n",
       "      <td>False</td>\n",
       "      <td>False</td>\n",
       "    </tr>\n",
       "  </tbody>\n",
       "</table>\n",
       "</div>"
      ],
      "text/plain": [
       "    subject_id   hadm_id  chronic_dialysis  CHF exacerbation\n",
       "0     15734973  20475282             False             False\n",
       "5     11442057  21518990             False             False\n",
       "11    10072949  20817034             False             False\n",
       "16    13538405  24822466             False             False\n",
       "21    10287061  27485182             False             False"
      ]
     },
     "execution_count": 159,
     "metadata": {},
     "output_type": "execute_result"
    }
   ],
   "source": [
    "cohort_dir = \"C:/Users/suzie/Dropbox (MIT)/Spring 2021/6.871 Machine Learning for Healthcare/ml4h_chf_readmissions/phase1_teamA/final_cohort.csv\"\n",
    "cohort_table = pd.read_csv(cohort_dir, low_memory=False, index_col=0)\n",
    "cohort_table.head()"
   ]
  },
  {
   "cell_type": "code",
   "execution_count": 160,
   "metadata": {},
   "outputs": [
    {
     "data": {
      "text/html": [
       "<div>\n",
       "<style scoped>\n",
       "    .dataframe tbody tr th:only-of-type {\n",
       "        vertical-align: middle;\n",
       "    }\n",
       "\n",
       "    .dataframe tbody tr th {\n",
       "        vertical-align: top;\n",
       "    }\n",
       "\n",
       "    .dataframe thead th {\n",
       "        text-align: right;\n",
       "    }\n",
       "</style>\n",
       "<table border=\"1\" class=\"dataframe\">\n",
       "  <thead>\n",
       "    <tr style=\"text-align: right;\">\n",
       "      <th></th>\n",
       "      <th>subject_id</th>\n",
       "      <th>hadm_id</th>\n",
       "      <th>chronic_dialysis</th>\n",
       "      <th>CHF exacerbation</th>\n",
       "    </tr>\n",
       "  </thead>\n",
       "  <tbody>\n",
       "    <tr>\n",
       "      <th>1155</th>\n",
       "      <td>16477997</td>\n",
       "      <td>25359811</td>\n",
       "      <td>False</td>\n",
       "      <td>True</td>\n",
       "    </tr>\n",
       "    <tr>\n",
       "      <th>1215</th>\n",
       "      <td>14959277</td>\n",
       "      <td>28740655</td>\n",
       "      <td>False</td>\n",
       "      <td>True</td>\n",
       "    </tr>\n",
       "    <tr>\n",
       "      <th>1668</th>\n",
       "      <td>12849817</td>\n",
       "      <td>27891695</td>\n",
       "      <td>False</td>\n",
       "      <td>True</td>\n",
       "    </tr>\n",
       "    <tr>\n",
       "      <th>1784</th>\n",
       "      <td>11508679</td>\n",
       "      <td>25781770</td>\n",
       "      <td>False</td>\n",
       "      <td>True</td>\n",
       "    </tr>\n",
       "    <tr>\n",
       "      <th>1829</th>\n",
       "      <td>18151621</td>\n",
       "      <td>25727457</td>\n",
       "      <td>False</td>\n",
       "      <td>True</td>\n",
       "    </tr>\n",
       "  </tbody>\n",
       "</table>\n",
       "</div>"
      ],
      "text/plain": [
       "      subject_id   hadm_id  chronic_dialysis  CHF exacerbation\n",
       "1155    16477997  25359811             False              True\n",
       "1215    14959277  28740655             False              True\n",
       "1668    12849817  27891695             False              True\n",
       "1784    11508679  25781770             False              True\n",
       "1829    18151621  25727457             False              True"
      ]
     },
     "execution_count": 160,
     "metadata": {},
     "output_type": "execute_result"
    }
   ],
   "source": [
    "final_cohort = cohort_table[(cohort_table.chronic_dialysis == False) & (cohort_table[\"CHF exacerbation\"] == True)]\n",
    "final_cohort.head()"
   ]
  },
  {
   "cell_type": "code",
   "execution_count": 161,
   "metadata": {},
   "outputs": [],
   "source": [
    "mimiciv_dir = 'C:/Users/suzie/Dropbox (MIT)/Spring 2021/6.871 Machine Learning for Healthcare/mimic-iv-1.0/'"
   ]
  },
  {
   "cell_type": "code",
   "execution_count": 162,
   "metadata": {},
   "outputs": [
    {
     "data": {
      "text/html": [
       "<div>\n",
       "<style scoped>\n",
       "    .dataframe tbody tr th:only-of-type {\n",
       "        vertical-align: middle;\n",
       "    }\n",
       "\n",
       "    .dataframe tbody tr th {\n",
       "        vertical-align: top;\n",
       "    }\n",
       "\n",
       "    .dataframe thead th {\n",
       "        text-align: right;\n",
       "    }\n",
       "</style>\n",
       "<table border=\"1\" class=\"dataframe\">\n",
       "  <thead>\n",
       "    <tr style=\"text-align: right;\">\n",
       "      <th></th>\n",
       "      <th>subject_id</th>\n",
       "      <th>hadm_id</th>\n",
       "      <th>pharmacy_id</th>\n",
       "      <th>starttime</th>\n",
       "      <th>stoptime</th>\n",
       "      <th>drug_type</th>\n",
       "      <th>drug</th>\n",
       "      <th>gsn</th>\n",
       "      <th>ndc</th>\n",
       "      <th>prod_strength</th>\n",
       "      <th>form_rx</th>\n",
       "      <th>dose_val_rx</th>\n",
       "      <th>dose_unit_rx</th>\n",
       "      <th>form_val_disp</th>\n",
       "      <th>form_unit_disp</th>\n",
       "      <th>doses_per_24_hrs</th>\n",
       "      <th>route</th>\n",
       "    </tr>\n",
       "  </thead>\n",
       "  <tbody>\n",
       "    <tr>\n",
       "      <th>0</th>\n",
       "      <td>17868682</td>\n",
       "      <td>22726960</td>\n",
       "      <td>73313910</td>\n",
       "      <td>2160-01-07 08:00:00</td>\n",
       "      <td>2160-01-07 21:00:00</td>\n",
       "      <td>MAIN</td>\n",
       "      <td>BuPROPion (Sustained Release)</td>\n",
       "      <td>046238</td>\n",
       "      <td>591083960.0</td>\n",
       "      <td>150mg SR Tablet</td>\n",
       "      <td>NaN</td>\n",
       "      <td>300</td>\n",
       "      <td>mg</td>\n",
       "      <td>2</td>\n",
       "      <td>TAB</td>\n",
       "      <td>1.0</td>\n",
       "      <td>PO</td>\n",
       "    </tr>\n",
       "    <tr>\n",
       "      <th>1</th>\n",
       "      <td>17868682</td>\n",
       "      <td>22726960</td>\n",
       "      <td>16239987</td>\n",
       "      <td>2160-01-07 08:00:00</td>\n",
       "      <td>2160-01-08 16:00:00</td>\n",
       "      <td>MAIN</td>\n",
       "      <td>BuPROPion (Sustained Release)</td>\n",
       "      <td>046238</td>\n",
       "      <td>591083960.0</td>\n",
       "      <td>150mg SR Tablet</td>\n",
       "      <td>NaN</td>\n",
       "      <td>150</td>\n",
       "      <td>mg</td>\n",
       "      <td>1</td>\n",
       "      <td>TAB</td>\n",
       "      <td>1.0</td>\n",
       "      <td>PO</td>\n",
       "    </tr>\n",
       "    <tr>\n",
       "      <th>2</th>\n",
       "      <td>17868682</td>\n",
       "      <td>22726960</td>\n",
       "      <td>16634804</td>\n",
       "      <td>2160-01-07 10:00:00</td>\n",
       "      <td>2160-01-07 16:00:00</td>\n",
       "      <td>MAIN</td>\n",
       "      <td>Aspirin</td>\n",
       "      <td>004380</td>\n",
       "      <td>904404073.0</td>\n",
       "      <td>81mg Tab</td>\n",
       "      <td>NaN</td>\n",
       "      <td>81</td>\n",
       "      <td>mg</td>\n",
       "      <td>1</td>\n",
       "      <td>TAB</td>\n",
       "      <td>1.0</td>\n",
       "      <td>PO</td>\n",
       "    </tr>\n",
       "    <tr>\n",
       "      <th>3</th>\n",
       "      <td>17868682</td>\n",
       "      <td>22726960</td>\n",
       "      <td>2697460</td>\n",
       "      <td>2160-01-07 14:00:00</td>\n",
       "      <td>2160-01-07 14:00:00</td>\n",
       "      <td>BASE</td>\n",
       "      <td>1/2 NS</td>\n",
       "      <td>001209</td>\n",
       "      <td>338004304.0</td>\n",
       "      <td>1000mL Bag</td>\n",
       "      <td>NaN</td>\n",
       "      <td>1000</td>\n",
       "      <td>mL</td>\n",
       "      <td>1000</td>\n",
       "      <td>mL</td>\n",
       "      <td>NaN</td>\n",
       "      <td>IV</td>\n",
       "    </tr>\n",
       "    <tr>\n",
       "      <th>4</th>\n",
       "      <td>17868682</td>\n",
       "      <td>22726960</td>\n",
       "      <td>1383959</td>\n",
       "      <td>2160-01-07 15:00:00</td>\n",
       "      <td>2160-01-08 16:00:00</td>\n",
       "      <td>MAIN</td>\n",
       "      <td>Pneumococcal Vac Polyvalent</td>\n",
       "      <td>048548</td>\n",
       "      <td>6494300.0</td>\n",
       "      <td>25mcg/0.5mL Vial</td>\n",
       "      <td>NaN</td>\n",
       "      <td>0.5</td>\n",
       "      <td>mL</td>\n",
       "      <td>1</td>\n",
       "      <td>VIAL</td>\n",
       "      <td>NaN</td>\n",
       "      <td>IM</td>\n",
       "    </tr>\n",
       "  </tbody>\n",
       "</table>\n",
       "</div>"
      ],
      "text/plain": [
       "   subject_id   hadm_id  pharmacy_id            starttime  \\\n",
       "0    17868682  22726960     73313910  2160-01-07 08:00:00   \n",
       "1    17868682  22726960     16239987  2160-01-07 08:00:00   \n",
       "2    17868682  22726960     16634804  2160-01-07 10:00:00   \n",
       "3    17868682  22726960      2697460  2160-01-07 14:00:00   \n",
       "4    17868682  22726960      1383959  2160-01-07 15:00:00   \n",
       "\n",
       "              stoptime drug_type                           drug     gsn  \\\n",
       "0  2160-01-07 21:00:00      MAIN  BuPROPion (Sustained Release)  046238   \n",
       "1  2160-01-08 16:00:00      MAIN  BuPROPion (Sustained Release)  046238   \n",
       "2  2160-01-07 16:00:00      MAIN                        Aspirin  004380   \n",
       "3  2160-01-07 14:00:00      BASE                         1/2 NS  001209   \n",
       "4  2160-01-08 16:00:00      MAIN    Pneumococcal Vac Polyvalent  048548   \n",
       "\n",
       "           ndc     prod_strength form_rx dose_val_rx dose_unit_rx  \\\n",
       "0  591083960.0   150mg SR Tablet     NaN         300           mg   \n",
       "1  591083960.0   150mg SR Tablet     NaN         150           mg   \n",
       "2  904404073.0          81mg Tab     NaN          81           mg   \n",
       "3  338004304.0        1000mL Bag     NaN        1000           mL   \n",
       "4    6494300.0  25mcg/0.5mL Vial     NaN         0.5           mL   \n",
       "\n",
       "  form_val_disp form_unit_disp  doses_per_24_hrs route  \n",
       "0             2            TAB               1.0    PO  \n",
       "1             1            TAB               1.0    PO  \n",
       "2             1            TAB               1.0    PO  \n",
       "3          1000             mL               NaN    IV  \n",
       "4             1           VIAL               NaN    IM  "
      ]
     },
     "execution_count": 162,
     "metadata": {},
     "output_type": "execute_result"
    }
   ],
   "source": [
    "prescriptions = pd.read_csv(f'{mimiciv_dir}hosp/prescriptions.csv', low_memory=False)\n",
    "prescriptions.head()"
   ]
  },
  {
   "cell_type": "code",
   "execution_count": 163,
   "metadata": {},
   "outputs": [],
   "source": [
    "prescription_cohort = prescriptions[prescriptions['hadm_id'].isin(final_cohort.hadm_id)]"
   ]
  },
  {
   "cell_type": "code",
   "execution_count": 164,
   "metadata": {},
   "outputs": [
    {
     "data": {
      "text/html": [
       "<div>\n",
       "<style scoped>\n",
       "    .dataframe tbody tr th:only-of-type {\n",
       "        vertical-align: middle;\n",
       "    }\n",
       "\n",
       "    .dataframe tbody tr th {\n",
       "        vertical-align: top;\n",
       "    }\n",
       "\n",
       "    .dataframe thead th {\n",
       "        text-align: right;\n",
       "    }\n",
       "</style>\n",
       "<table border=\"1\" class=\"dataframe\">\n",
       "  <thead>\n",
       "    <tr style=\"text-align: right;\">\n",
       "      <th></th>\n",
       "      <th>subject_id</th>\n",
       "      <th>hadm_id</th>\n",
       "      <th>pharmacy_id</th>\n",
       "      <th>starttime</th>\n",
       "      <th>stoptime</th>\n",
       "      <th>drug_type</th>\n",
       "      <th>drug</th>\n",
       "      <th>gsn</th>\n",
       "      <th>ndc</th>\n",
       "      <th>prod_strength</th>\n",
       "      <th>form_rx</th>\n",
       "      <th>dose_val_rx</th>\n",
       "      <th>dose_unit_rx</th>\n",
       "      <th>form_val_disp</th>\n",
       "      <th>form_unit_disp</th>\n",
       "      <th>doses_per_24_hrs</th>\n",
       "      <th>route</th>\n",
       "    </tr>\n",
       "  </thead>\n",
       "  <tbody>\n",
       "    <tr>\n",
       "      <th>203</th>\n",
       "      <td>12315540</td>\n",
       "      <td>27448605</td>\n",
       "      <td>16991147</td>\n",
       "      <td>2172-12-25 10:00:00</td>\n",
       "      <td>2173-01-04 17:00:00</td>\n",
       "      <td>MAIN</td>\n",
       "      <td>Thiamine</td>\n",
       "      <td>002451</td>\n",
       "      <td>1.820047e+08</td>\n",
       "      <td>100mg Tablet</td>\n",
       "      <td>NaN</td>\n",
       "      <td>100</td>\n",
       "      <td>mg</td>\n",
       "      <td>1</td>\n",
       "      <td>TAB</td>\n",
       "      <td>1.0</td>\n",
       "      <td>PO</td>\n",
       "    </tr>\n",
       "    <tr>\n",
       "      <th>204</th>\n",
       "      <td>12315540</td>\n",
       "      <td>27448605</td>\n",
       "      <td>50352042</td>\n",
       "      <td>2172-12-25 12:00:00</td>\n",
       "      <td>2172-12-28 07:00:00</td>\n",
       "      <td>MAIN</td>\n",
       "      <td>Influenza Virus Vaccine</td>\n",
       "      <td>064182</td>\n",
       "      <td>5.816009e+10</td>\n",
       "      <td>0.5mL Syringe</td>\n",
       "      <td>NaN</td>\n",
       "      <td>0.5</td>\n",
       "      <td>mL</td>\n",
       "      <td>1</td>\n",
       "      <td>SYR</td>\n",
       "      <td>NaN</td>\n",
       "      <td>IM</td>\n",
       "    </tr>\n",
       "    <tr>\n",
       "      <th>205</th>\n",
       "      <td>12315540</td>\n",
       "      <td>27448605</td>\n",
       "      <td>8310361</td>\n",
       "      <td>2172-12-25 12:00:00</td>\n",
       "      <td>2172-12-25 15:00:00</td>\n",
       "      <td>MAIN</td>\n",
       "      <td>Nystatin</td>\n",
       "      <td>009537</td>\n",
       "      <td>4.725004e+08</td>\n",
       "      <td>500,000 Unit UDCUP</td>\n",
       "      <td>NaN</td>\n",
       "      <td>500,000</td>\n",
       "      <td>UNIT</td>\n",
       "      <td>1</td>\n",
       "      <td>UDCUP</td>\n",
       "      <td>3.0</td>\n",
       "      <td>PO</td>\n",
       "    </tr>\n",
       "    <tr>\n",
       "      <th>206</th>\n",
       "      <td>12315540</td>\n",
       "      <td>27448605</td>\n",
       "      <td>94872752</td>\n",
       "      <td>2172-12-25 12:00:00</td>\n",
       "      <td>2173-01-12 22:00:00</td>\n",
       "      <td>MAIN</td>\n",
       "      <td>Pantoprazole</td>\n",
       "      <td>027462</td>\n",
       "      <td>8.084199e+06</td>\n",
       "      <td>40mg Tablet</td>\n",
       "      <td>NaN</td>\n",
       "      <td>40</td>\n",
       "      <td>mg</td>\n",
       "      <td>1</td>\n",
       "      <td>TAB</td>\n",
       "      <td>1.0</td>\n",
       "      <td>PO</td>\n",
       "    </tr>\n",
       "    <tr>\n",
       "      <th>207</th>\n",
       "      <td>12315540</td>\n",
       "      <td>27448605</td>\n",
       "      <td>57351693</td>\n",
       "      <td>2172-12-25 12:00:00</td>\n",
       "      <td>2172-12-25 19:00:00</td>\n",
       "      <td>MAIN</td>\n",
       "      <td>Acetaminophen</td>\n",
       "      <td>004489</td>\n",
       "      <td>1.828448e+08</td>\n",
       "      <td>325mg Tablet</td>\n",
       "      <td>NaN</td>\n",
       "      <td>325-650</td>\n",
       "      <td>mg</td>\n",
       "      <td>1-2</td>\n",
       "      <td>TAB</td>\n",
       "      <td>NaN</td>\n",
       "      <td>PO</td>\n",
       "    </tr>\n",
       "  </tbody>\n",
       "</table>\n",
       "</div>"
      ],
      "text/plain": [
       "     subject_id   hadm_id  pharmacy_id            starttime  \\\n",
       "203    12315540  27448605     16991147  2172-12-25 10:00:00   \n",
       "204    12315540  27448605     50352042  2172-12-25 12:00:00   \n",
       "205    12315540  27448605      8310361  2172-12-25 12:00:00   \n",
       "206    12315540  27448605     94872752  2172-12-25 12:00:00   \n",
       "207    12315540  27448605     57351693  2172-12-25 12:00:00   \n",
       "\n",
       "                stoptime drug_type                     drug     gsn  \\\n",
       "203  2173-01-04 17:00:00      MAIN                 Thiamine  002451   \n",
       "204  2172-12-28 07:00:00      MAIN  Influenza Virus Vaccine  064182   \n",
       "205  2172-12-25 15:00:00      MAIN                 Nystatin  009537   \n",
       "206  2173-01-12 22:00:00      MAIN             Pantoprazole  027462   \n",
       "207  2172-12-25 19:00:00      MAIN            Acetaminophen  004489   \n",
       "\n",
       "              ndc       prod_strength form_rx dose_val_rx dose_unit_rx  \\\n",
       "203  1.820047e+08        100mg Tablet     NaN         100           mg   \n",
       "204  5.816009e+10       0.5mL Syringe     NaN         0.5           mL   \n",
       "205  4.725004e+08  500,000 Unit UDCUP     NaN     500,000         UNIT   \n",
       "206  8.084199e+06         40mg Tablet     NaN          40           mg   \n",
       "207  1.828448e+08        325mg Tablet     NaN     325-650           mg   \n",
       "\n",
       "    form_val_disp form_unit_disp  doses_per_24_hrs route  \n",
       "203             1            TAB               1.0    PO  \n",
       "204             1            SYR               NaN    IM  \n",
       "205             1          UDCUP               3.0    PO  \n",
       "206             1            TAB               1.0    PO  \n",
       "207           1-2            TAB               NaN    PO  "
      ]
     },
     "execution_count": 164,
     "metadata": {},
     "output_type": "execute_result"
    }
   ],
   "source": [
    "prescription_cohort.head()"
   ]
  },
  {
   "cell_type": "code",
   "execution_count": 165,
   "metadata": {},
   "outputs": [],
   "source": [
    "route_iv = prescriptions.route.str.contains('IV', case=False, na=False)"
   ]
  },
  {
   "cell_type": "code",
   "execution_count": 166,
   "metadata": {},
   "outputs": [
    {
     "name": "stderr",
     "output_type": "stream",
     "text": [
      "<ipython-input-166-1b5f14806e4c>:1: SettingWithCopyWarning: \n",
      "A value is trying to be set on a copy of a slice from a DataFrame.\n",
      "Try using .loc[row_indexer,col_indexer] = value instead\n",
      "\n",
      "See the caveats in the documentation: https://pandas.pydata.org/pandas-docs/stable/user_guide/indexing.html#returning-a-view-versus-a-copy\n",
      "  prescription_cohort['furosemide'] = (prescription_cohort['drug'].str.contains('furosemide', case=False, na=False) | prescription_cohort['drug'].str.contains('lasix', case=False, na=False)) & ~prescriptions['drug'].str.contains('Desensitization', case=False, na=False)\n",
      "<ipython-input-166-1b5f14806e4c>:2: SettingWithCopyWarning: \n",
      "A value is trying to be set on a copy of a slice from a DataFrame.\n",
      "Try using .loc[row_indexer,col_indexer] = value instead\n",
      "\n",
      "See the caveats in the documentation: https://pandas.pydata.org/pandas-docs/stable/user_guide/indexing.html#returning-a-view-versus-a-copy\n",
      "  prescription_cohort['bumetanide'] = (prescription_cohort['drug'].str.contains('bumetanide', case=False, na=False) | prescription_cohort['drug'].str.contains('bumex', case=False, na=False)) & ~prescriptions['drug'].str.contains('Desensitization', case=False, na=False)\n",
      "<ipython-input-166-1b5f14806e4c>:3: SettingWithCopyWarning: \n",
      "A value is trying to be set on a copy of a slice from a DataFrame.\n",
      "Try using .loc[row_indexer,col_indexer] = value instead\n",
      "\n",
      "See the caveats in the documentation: https://pandas.pydata.org/pandas-docs/stable/user_guide/indexing.html#returning-a-view-versus-a-copy\n",
      "  prescription_cohort['chlorothiazide'] = (prescription_cohort['drug'].str.contains('chlorothiazide', case=False, na=False) | prescription_cohort['drug'].str.contains('diuril', case=False, na=False)) & ~prescriptions['drug'].str.contains('Desensitization', case=False, na=False) & ~prescriptions['drug'].str.contains('hydrochlorothiazide', case=False, na=False)\n"
     ]
    }
   ],
   "source": [
    "prescription_cohort['furosemide'] = (prescription_cohort['drug'].str.contains('furosemide', case=False, na=False) | prescription_cohort['drug'].str.contains('lasix', case=False, na=False)) & ~prescriptions['drug'].str.contains('Desensitization', case=False, na=False)\n",
    "prescription_cohort['bumetanide'] = (prescription_cohort['drug'].str.contains('bumetanide', case=False, na=False) | prescription_cohort['drug'].str.contains('bumex', case=False, na=False)) & ~prescriptions['drug'].str.contains('Desensitization', case=False, na=False)\n",
    "prescription_cohort['chlorothiazide'] = (prescription_cohort['drug'].str.contains('chlorothiazide', case=False, na=False) | prescription_cohort['drug'].str.contains('diuril', case=False, na=False)) & ~prescriptions['drug'].str.contains('Desensitization', case=False, na=False) & ~prescriptions['drug'].str.contains('hydrochlorothiazide', case=False, na=False)"
   ]
  },
  {
   "cell_type": "code",
   "execution_count": 119,
   "metadata": {},
   "outputs": [],
   "source": [
    "# hadm= 25359811\n",
    "# prescription_cohort[(prescription_cohort.hadm_id == hadm) & (prescription_cohort.furosemide == True)]"
   ]
  },
  {
   "cell_type": "code",
   "execution_count": 120,
   "metadata": {},
   "outputs": [
    {
     "data": {
      "text/plain": [
       "3"
      ]
     },
     "execution_count": 120,
     "metadata": {},
     "output_type": "execute_result"
    }
   ],
   "source": [
    "np.sum((prescription_cohort.hadm_id == hadm) & (prescription_cohort.furosemide == True)) "
   ]
  },
  {
   "cell_type": "code",
   "execution_count": 167,
   "metadata": {},
   "outputs": [
    {
     "name": "stderr",
     "output_type": "stream",
     "text": [
      "<ipython-input-167-9abdeefcc4f0>:1: SettingWithCopyWarning: \n",
      "A value is trying to be set on a copy of a slice from a DataFrame.\n",
      "Try using .loc[row_indexer,col_indexer] = value instead\n",
      "\n",
      "See the caveats in the documentation: https://pandas.pydata.org/pandas-docs/stable/user_guide/indexing.html#returning-a-view-versus-a-copy\n",
      "  final_cohort['furosemide'] = 0\n",
      "<ipython-input-167-9abdeefcc4f0>:2: SettingWithCopyWarning: \n",
      "A value is trying to be set on a copy of a slice from a DataFrame.\n",
      "Try using .loc[row_indexer,col_indexer] = value instead\n",
      "\n",
      "See the caveats in the documentation: https://pandas.pydata.org/pandas-docs/stable/user_guide/indexing.html#returning-a-view-versus-a-copy\n",
      "  final_cohort['bumetanide'] = 0\n",
      "<ipython-input-167-9abdeefcc4f0>:3: SettingWithCopyWarning: \n",
      "A value is trying to be set on a copy of a slice from a DataFrame.\n",
      "Try using .loc[row_indexer,col_indexer] = value instead\n",
      "\n",
      "See the caveats in the documentation: https://pandas.pydata.org/pandas-docs/stable/user_guide/indexing.html#returning-a-view-versus-a-copy\n",
      "  final_cohort['chlorothiazide'] = 0\n"
     ]
    }
   ],
   "source": [
    "final_cohort['furosemide'] = 0\n",
    "final_cohort['bumetanide'] = 0\n",
    "final_cohort['chlorothiazide'] = 0"
   ]
  },
  {
   "cell_type": "code",
   "execution_count": 125,
   "metadata": {},
   "outputs": [
    {
     "data": {
      "text/html": [
       "<div>\n",
       "<style scoped>\n",
       "    .dataframe tbody tr th:only-of-type {\n",
       "        vertical-align: middle;\n",
       "    }\n",
       "\n",
       "    .dataframe tbody tr th {\n",
       "        vertical-align: top;\n",
       "    }\n",
       "\n",
       "    .dataframe thead th {\n",
       "        text-align: right;\n",
       "    }\n",
       "</style>\n",
       "<table border=\"1\" class=\"dataframe\">\n",
       "  <thead>\n",
       "    <tr style=\"text-align: right;\">\n",
       "      <th></th>\n",
       "      <th>subject_id</th>\n",
       "      <th>hadm_id</th>\n",
       "      <th>chronic_dialysis</th>\n",
       "      <th>CHF exacerbation</th>\n",
       "      <th>furosemide</th>\n",
       "      <th>bumetanide</th>\n",
       "      <th>chlorothiazide</th>\n",
       "    </tr>\n",
       "  </thead>\n",
       "  <tbody>\n",
       "    <tr>\n",
       "      <th>1155</th>\n",
       "      <td>16477997</td>\n",
       "      <td>25359811</td>\n",
       "      <td>False</td>\n",
       "      <td>True</td>\n",
       "      <td>0</td>\n",
       "      <td>0</td>\n",
       "      <td>0</td>\n",
       "    </tr>\n",
       "    <tr>\n",
       "      <th>1215</th>\n",
       "      <td>14959277</td>\n",
       "      <td>28740655</td>\n",
       "      <td>False</td>\n",
       "      <td>True</td>\n",
       "      <td>0</td>\n",
       "      <td>0</td>\n",
       "      <td>0</td>\n",
       "    </tr>\n",
       "    <tr>\n",
       "      <th>1668</th>\n",
       "      <td>12849817</td>\n",
       "      <td>27891695</td>\n",
       "      <td>False</td>\n",
       "      <td>True</td>\n",
       "      <td>0</td>\n",
       "      <td>0</td>\n",
       "      <td>0</td>\n",
       "    </tr>\n",
       "    <tr>\n",
       "      <th>1784</th>\n",
       "      <td>11508679</td>\n",
       "      <td>25781770</td>\n",
       "      <td>False</td>\n",
       "      <td>True</td>\n",
       "      <td>0</td>\n",
       "      <td>0</td>\n",
       "      <td>0</td>\n",
       "    </tr>\n",
       "    <tr>\n",
       "      <th>1829</th>\n",
       "      <td>18151621</td>\n",
       "      <td>25727457</td>\n",
       "      <td>False</td>\n",
       "      <td>True</td>\n",
       "      <td>0</td>\n",
       "      <td>0</td>\n",
       "      <td>0</td>\n",
       "    </tr>\n",
       "  </tbody>\n",
       "</table>\n",
       "</div>"
      ],
      "text/plain": [
       "      subject_id   hadm_id  chronic_dialysis  CHF exacerbation  furosemide  \\\n",
       "1155    16477997  25359811             False              True           0   \n",
       "1215    14959277  28740655             False              True           0   \n",
       "1668    12849817  27891695             False              True           0   \n",
       "1784    11508679  25781770             False              True           0   \n",
       "1829    18151621  25727457             False              True           0   \n",
       "\n",
       "      bumetanide  chlorothiazide  \n",
       "1155           0               0  \n",
       "1215           0               0  \n",
       "1668           0               0  \n",
       "1784           0               0  \n",
       "1829           0               0  "
      ]
     },
     "execution_count": 125,
     "metadata": {},
     "output_type": "execute_result"
    }
   ],
   "source": [
    "final_cohort.head()"
   ]
  },
  {
   "cell_type": "code",
   "execution_count": 168,
   "metadata": {
    "scrolled": true
   },
   "outputs": [
    {
     "name": "stderr",
     "output_type": "stream",
     "text": [
      "C:\\Users\\suzie\\anaconda3\\lib\\site-packages\\pandas\\core\\indexing.py:966: SettingWithCopyWarning: \n",
      "A value is trying to be set on a copy of a slice from a DataFrame.\n",
      "Try using .loc[row_indexer,col_indexer] = value instead\n",
      "\n",
      "See the caveats in the documentation: https://pandas.pydata.org/pandas-docs/stable/user_guide/indexing.html#returning-a-view-versus-a-copy\n",
      "  self.obj[item] = s\n"
     ]
    }
   ],
   "source": [
    "for hadm in final_cohort.hadm_id:\n",
    "    final_cohort.loc[final_cohort['hadm_id'] == hadm, ['furosemide']] = np.sum((prescription_cohort.hadm_id == hadm) & (prescription_cohort.furosemide == True)) \n",
    "    final_cohort.loc[final_cohort['hadm_id'] == hadm, ['bumetanide']] = np.sum((prescription_cohort.hadm_id == hadm) & (prescription_cohort.bumetanide == True))\n",
    "    final_cohort.loc[final_cohort['hadm_id'] == hadm, ['chlorothiazide']] = np.sum((prescription_cohort.hadm_id == hadm) & (prescription_cohort.chlorothiazide == True))"
   ]
  },
  {
   "cell_type": "code",
   "execution_count": 169,
   "metadata": {},
   "outputs": [
    {
     "data": {
      "text/html": [
       "<div>\n",
       "<style scoped>\n",
       "    .dataframe tbody tr th:only-of-type {\n",
       "        vertical-align: middle;\n",
       "    }\n",
       "\n",
       "    .dataframe tbody tr th {\n",
       "        vertical-align: top;\n",
       "    }\n",
       "\n",
       "    .dataframe thead th {\n",
       "        text-align: right;\n",
       "    }\n",
       "</style>\n",
       "<table border=\"1\" class=\"dataframe\">\n",
       "  <thead>\n",
       "    <tr style=\"text-align: right;\">\n",
       "      <th></th>\n",
       "      <th>subject_id</th>\n",
       "      <th>hadm_id</th>\n",
       "      <th>chronic_dialysis</th>\n",
       "      <th>CHF exacerbation</th>\n",
       "      <th>furosemide</th>\n",
       "      <th>bumetanide</th>\n",
       "      <th>chlorothiazide</th>\n",
       "    </tr>\n",
       "  </thead>\n",
       "  <tbody>\n",
       "    <tr>\n",
       "      <th>1155</th>\n",
       "      <td>16477997</td>\n",
       "      <td>25359811</td>\n",
       "      <td>False</td>\n",
       "      <td>True</td>\n",
       "      <td>3</td>\n",
       "      <td>0</td>\n",
       "      <td>0</td>\n",
       "    </tr>\n",
       "    <tr>\n",
       "      <th>1215</th>\n",
       "      <td>14959277</td>\n",
       "      <td>28740655</td>\n",
       "      <td>False</td>\n",
       "      <td>True</td>\n",
       "      <td>5</td>\n",
       "      <td>0</td>\n",
       "      <td>0</td>\n",
       "    </tr>\n",
       "    <tr>\n",
       "      <th>1668</th>\n",
       "      <td>12849817</td>\n",
       "      <td>27891695</td>\n",
       "      <td>False</td>\n",
       "      <td>True</td>\n",
       "      <td>4</td>\n",
       "      <td>0</td>\n",
       "      <td>0</td>\n",
       "    </tr>\n",
       "    <tr>\n",
       "      <th>1784</th>\n",
       "      <td>11508679</td>\n",
       "      <td>25781770</td>\n",
       "      <td>False</td>\n",
       "      <td>True</td>\n",
       "      <td>2</td>\n",
       "      <td>0</td>\n",
       "      <td>0</td>\n",
       "    </tr>\n",
       "    <tr>\n",
       "      <th>1829</th>\n",
       "      <td>18151621</td>\n",
       "      <td>25727457</td>\n",
       "      <td>False</td>\n",
       "      <td>True</td>\n",
       "      <td>6</td>\n",
       "      <td>0</td>\n",
       "      <td>0</td>\n",
       "    </tr>\n",
       "  </tbody>\n",
       "</table>\n",
       "</div>"
      ],
      "text/plain": [
       "      subject_id   hadm_id  chronic_dialysis  CHF exacerbation  furosemide  \\\n",
       "1155    16477997  25359811             False              True           3   \n",
       "1215    14959277  28740655             False              True           5   \n",
       "1668    12849817  27891695             False              True           4   \n",
       "1784    11508679  25781770             False              True           2   \n",
       "1829    18151621  25727457             False              True           6   \n",
       "\n",
       "      bumetanide  chlorothiazide  \n",
       "1155           0               0  \n",
       "1215           0               0  \n",
       "1668           0               0  \n",
       "1784           0               0  \n",
       "1829           0               0  "
      ]
     },
     "execution_count": 169,
     "metadata": {},
     "output_type": "execute_result"
    }
   ],
   "source": [
    "final_cohort.head()"
   ]
  },
  {
   "cell_type": "code",
   "execution_count": 170,
   "metadata": {},
   "outputs": [
    {
     "name": "stdout",
     "output_type": "stream",
     "text": [
      "FBC 228\n",
      "FB 522\n",
      "FC 940\n",
      "BC 18\n",
      "F 23016\n",
      "B 97\n",
      "C 3\n"
     ]
    }
   ],
   "source": [
    "print('FBC', len(final_cohort[(final_cohort['furosemide'] > 0) & (final_cohort['bumetanide'] > 0) & (final_cohort['chlorothiazide'] > 0)]))\n",
    "print('FB', len(final_cohort[(final_cohort['furosemide'] > 0) & (final_cohort['bumetanide'] > 0) & ~(final_cohort['chlorothiazide'] > 0)]))\n",
    "print('FC', len(final_cohort[(final_cohort['furosemide'] > 0) & ~(final_cohort['bumetanide'] > 0) & (final_cohort['chlorothiazide'] > 0)]))\n",
    "print('BC', len(final_cohort[~(final_cohort['furosemide'] > 0) & (final_cohort['bumetanide'] > 0) & (final_cohort['chlorothiazide'] > 0)]))\n",
    "print('F', len(final_cohort[(final_cohort['furosemide'] > 0) & ~(final_cohort['bumetanide'] > 0) & ~(final_cohort['chlorothiazide'] > 0)]))\n",
    "print('B', len(final_cohort[~(final_cohort['furosemide'] > 0) & (final_cohort['bumetanide'] > 0) & ~(final_cohort['chlorothiazide'] > 0)]))\n",
    "print('C', len(final_cohort[~(final_cohort['furosemide'] > 0) & ~(final_cohort['bumetanide'] > 0) & (final_cohort['chlorothiazide'] > 0)]))"
   ]
  },
  {
   "cell_type": "code",
   "execution_count": 171,
   "metadata": {},
   "outputs": [
    {
     "data": {
      "text/plain": [
       "24824"
      ]
     },
     "execution_count": 171,
     "metadata": {},
     "output_type": "execute_result"
    }
   ],
   "source": [
    "sizes = [23016, 97, 3, 522, 940, 18, 228]\n",
    "np.sum(sizes)"
   ]
  },
  {
   "cell_type": "code",
   "execution_count": 172,
   "metadata": {},
   "outputs": [
    {
     "data": {
      "text/plain": [
       "24824"
      ]
     },
     "execution_count": 172,
     "metadata": {},
     "output_type": "execute_result"
    }
   ],
   "source": [
    "len(final_cohort)"
   ]
  },
  {
   "cell_type": "code",
   "execution_count": null,
   "metadata": {},
   "outputs": [],
   "source": []
  },
  {
   "cell_type": "code",
   "execution_count": 174,
   "metadata": {},
   "outputs": [
    {
     "data": {
      "image/png": "[encoded data removed]",
      "text/plain": [
       "<Figure size 432x288 with 1 Axes>"
      ]
     },
     "metadata": {},
     "output_type": "display_data"
    }
   ],
   "source": [
    "labels = 'Furosemide', 'Bumetanide', 'Chlorothiazide', 'F & B', 'F & C', 'B & C', 'F & B & C'\n",
    "sizes = [23016, 97, 3, 522, 940, 18, 228]\n",
    "# percent = sizes/np.sum(sizes)\n",
    "# explode = [0.05,0.5,0.05,0.05,0.05,0.05,0.05]\n",
    "\n",
    "fig1, ax1 = plt.subplots()\n",
    "ax1.pie(sizes, \n",
    "#         explode=explode, \n",
    "#         labels=labels, \n",
    "#         autopct='%1.1f%%',\n",
    "#         pctdistance=0.85,\n",
    "#         labeldistance=1.2,\n",
    "        shadow=False, startangle=45)\n",
    "ax1.axis('equal')  # Equal aspect ratio ensures that pie is drawn as a circle.\n",
    "\n",
    "legend_labels = ['{0} ({1})'.format(i,j) for i,j in zip(labels, sizes)]\n",
    "\n",
    "# sort_legend = True\n",
    "# if sort_legend:\n",
    "#     wedge, text, dummy =  zip(*sorted(zip(wedge, text, y),\n",
    "#                                           key=lambda x: x[2],\n",
    "#                                           reverse=True))\n",
    "\n",
    "plt.legend(legend_labels, loc='center left', bbox_to_anchor=(-0.15, 0.5),\n",
    "           fontsize=8)\n",
    "plt.title('IV Diuretics prescribed during each hospital stay (CHF cohort only)')\n",
    "plt.show()"
   ]
  },
  {
   "cell_type": "markdown",
   "metadata": {},
   "source": [
    "## Number of Hospitalizations"
   ]
  },
  {
   "cell_type": "code",
   "execution_count": 156,
   "metadata": {},
   "outputs": [
    {
     "data": {
      "text/html": [
       "<div>\n",
       "<style scoped>\n",
       "    .dataframe tbody tr th:only-of-type {\n",
       "        vertical-align: middle;\n",
       "    }\n",
       "\n",
       "    .dataframe tbody tr th {\n",
       "        vertical-align: top;\n",
       "    }\n",
       "\n",
       "    .dataframe thead th {\n",
       "        text-align: right;\n",
       "    }\n",
       "</style>\n",
       "<table border=\"1\" class=\"dataframe\">\n",
       "  <thead>\n",
       "    <tr style=\"text-align: right;\">\n",
       "      <th></th>\n",
       "      <th>subject_id</th>\n",
       "      <th>hadm_id</th>\n",
       "      <th>seq_num</th>\n",
       "      <th>icd_code</th>\n",
       "      <th>icd_version</th>\n",
       "    </tr>\n",
       "  </thead>\n",
       "  <tbody>\n",
       "    <tr>\n",
       "      <th>0</th>\n",
       "      <td>15734973</td>\n",
       "      <td>20475282</td>\n",
       "      <td>3</td>\n",
       "      <td>2825</td>\n",
       "      <td>9</td>\n",
       "    </tr>\n",
       "    <tr>\n",
       "      <th>1</th>\n",
       "      <td>15734973</td>\n",
       "      <td>20475282</td>\n",
       "      <td>2</td>\n",
       "      <td>V0251</td>\n",
       "      <td>9</td>\n",
       "    </tr>\n",
       "    <tr>\n",
       "      <th>2</th>\n",
       "      <td>15734973</td>\n",
       "      <td>20475282</td>\n",
       "      <td>5</td>\n",
       "      <td>V270</td>\n",
       "      <td>9</td>\n",
       "    </tr>\n",
       "    <tr>\n",
       "      <th>3</th>\n",
       "      <td>15734973</td>\n",
       "      <td>20475282</td>\n",
       "      <td>1</td>\n",
       "      <td>64891</td>\n",
       "      <td>9</td>\n",
       "    </tr>\n",
       "    <tr>\n",
       "      <th>4</th>\n",
       "      <td>15734973</td>\n",
       "      <td>20475282</td>\n",
       "      <td>4</td>\n",
       "      <td>66481</td>\n",
       "      <td>9</td>\n",
       "    </tr>\n",
       "  </tbody>\n",
       "</table>\n",
       "</div>"
      ],
      "text/plain": [
       "   subject_id   hadm_id  seq_num icd_code  icd_version\n",
       "0    15734973  20475282        3     2825            9\n",
       "1    15734973  20475282        2    V0251            9\n",
       "2    15734973  20475282        5     V270            9\n",
       "3    15734973  20475282        1    64891            9\n",
       "4    15734973  20475282        4    66481            9"
      ]
     },
     "execution_count": 156,
     "metadata": {},
     "output_type": "execute_result"
    }
   ],
   "source": [
    "diagnoses_icd = pd.read_csv(f'{mimiciv_dir}hosp/diagnoses_icd.csv', low_memory=False)\n",
    "diagnoses_icd.head()"
   ]
  },
  {
   "cell_type": "code",
   "execution_count": 192,
   "metadata": {},
   "outputs": [
    {
     "data": {
      "text/plain": [
       "Int64Index([  1,   2,   3,   4,   5,   6,   7,   8,   9,  10,  11,  12,  13,\n",
       "             14,  15,  16,  17,  18,  20,  19,  22,  21,  23,  24,  25,  27,\n",
       "             26,  28,  30,  29,  31,  32,  33,  35,  34,  36,  37,  41,  40,\n",
       "             44,  39,  38,  49,  42,  48,  47,  43,  53,  64,  46,  50,  51,\n",
       "             55,  45,  58,  56,  52,  71,  69,  67,  60,  79,  68,  94,  62,\n",
       "             59,  77,  89,  57,  54,  84,  92,  93,  99, 130,  95,  97,  86,\n",
       "             98, 129,  88,  70,  85,  82,  80, 142,  76,  75,  65,  63, 185,\n",
       "            163, 238],\n",
       "           dtype='int64')"
      ]
     },
     "execution_count": 192,
     "metadata": {},
     "output_type": "execute_result"
    }
   ],
   "source": [
    "cohort_table.subject_id.value_counts().value_counts().index"
   ]
  },
  {
   "cell_type": "code",
   "execution_count": 234,
   "metadata": {},
   "outputs": [
    {
     "data": {
      "text/plain": [
       "0.6656566290091178"
      ]
     },
     "execution_count": 234,
     "metadata": {},
     "output_type": "execute_result"
    }
   ],
   "source": [
    "169813/len(cohort_table.subject_id.unique())"
   ]
  },
  {
   "cell_type": "code",
   "execution_count": 197,
   "metadata": {},
   "outputs": [
    {
     "data": {
      "text/plain": [
       "<BarContainer object of 93 artists>"
      ]
     },
     "execution_count": 197,
     "metadata": {},
     "output_type": "execute_result"
    },
    {
     "data": {
      "image/png": "[encoded data removed]",
      "text/plain": [
       "<Figure size 432x288 with 1 Axes>"
      ]
     },
     "metadata": {
      "needs_background": "light"
     },
     "output_type": "display_data"
    }
   ],
   "source": [
    "plt.bar(cohort_table.subject_id.value_counts().value_counts().index, cohort_table.subject_id.value_counts().value_counts())"
   ]
  },
  {
   "cell_type": "code",
   "execution_count": 201,
   "metadata": {},
   "outputs": [
    {
     "data": {
      "text/plain": [
       "(array([2.08716e+05, 2.61700e+04, 1.46070e+04, 4.43300e+03, 7.41000e+02,\n",
       "        2.42000e+02, 9.70000e+01, 9.40000e+01]),\n",
       " array([  1,   3,   5,  10,  20,  30,  40,  50, 100]),\n",
       " <a list of 8 Patch objects>)"
      ]
     },
     "execution_count": 201,
     "metadata": {},
     "output_type": "execute_result"
    },
    {
     "data": {
      "image/png": "[encoded data removed]",
      "text/plain": [
       "<Figure size 432x288 with 1 Axes>"
      ]
     },
     "metadata": {
      "needs_background": "light"
     },
     "output_type": "display_data"
    }
   ],
   "source": [
    "plt.hist(cohort_table.subject_id.value_counts(), bins=[1, 3, 5, 10, 20, 30, 40, 50, 100])"
   ]
  },
  {
   "cell_type": "code",
   "execution_count": 238,
   "metadata": {},
   "outputs": [
    {
     "name": "stdout",
     "output_type": "stream",
     "text": [
      "1      169813\n",
      "2       38903\n",
      "3       16946\n",
      "4        9224\n",
      "5        5502\n",
      "        ...  \n",
      "65          1\n",
      "63          1\n",
      "185         1\n",
      "163         1\n",
      "238         1\n",
      "Name: subject_id, Length: 93, dtype: int64\n"
     ]
    },
    {
     "data": {
      "image/png": "[encoded data removed]",
      "text/plain": [
       "<Figure size 432x288 with 1 Axes>"
      ]
     },
     "metadata": {},
     "output_type": "display_data"
    }
   ],
   "source": [
    "\n",
    "sizes = cohort_table.subject_id.value_counts().value_counts()\n",
    "print(sizes)\n",
    "labels = ['']*len(sizes)\n",
    "labels[0] = '1 hospitalization'\n",
    "labels[1] = '2 hospitalizations'\n",
    "labels[2] = '3 hospitalizations'\n",
    "# percent = sizes/np.sum(sizes)\n",
    "explode = np.zeros(len(sizes))\n",
    "explode[0]=0.05\n",
    "# cohort_table.subject_id.value_counts().value_counts().index, )\n",
    "fig1, ax1 = plt.subplots()\n",
    "ax1.pie(sizes, \n",
    "        explode=explode, \n",
    "        labels=labels, \n",
    "        autopct=lambda x: \"{:1.1%}\".format(x/100) if x > 5 else '',\n",
    "#         pctdistance=0.85,\n",
    "        labeldistance=1.15,\n",
    "        shadow=False, startangle=60)\n",
    "ax1.axis('equal')  # Equal aspect ratio ensures that pie is drawn as a circle.\n",
    "\n",
    "# legend_labels = ['{0} ({1})'.format(i,j) for i,j in zip(labels, sizes)]\n",
    "\n",
    "# sort_legend = True\n",
    "# if sort_legend:\n",
    "#     wedge, text, dummy =  zip(*sorted(zip(wedge, text, y),\n",
    "#                                           key=lambda x: x[2],\n",
    "#                                           reverse=True))\n",
    "\n",
    "# plt.legend(legend_labels, loc='center left', bbox_to_anchor=(-0.15, 0.5),\n",
    "#            fontsize=8)\n",
    "plt.title('Hospitalizations per patient (CHF cohort only)')\n",
    "plt.show()"
   ]
  },
  {
   "cell_type": "code",
   "execution_count": 239,
   "metadata": {},
   "outputs": [],
   "source": [
    "total_hadm = diagnoses_icd.hadm_id.unique()"
   ]
  },
  {
   "cell_type": "code",
   "execution_count": 243,
   "metadata": {},
   "outputs": [
    {
     "data": {
      "text/html": [
       "<div>\n",
       "<style scoped>\n",
       "    .dataframe tbody tr th:only-of-type {\n",
       "        vertical-align: middle;\n",
       "    }\n",
       "\n",
       "    .dataframe tbody tr th {\n",
       "        vertical-align: top;\n",
       "    }\n",
       "\n",
       "    .dataframe thead th {\n",
       "        text-align: right;\n",
       "    }\n",
       "</style>\n",
       "<table border=\"1\" class=\"dataframe\">\n",
       "  <thead>\n",
       "    <tr style=\"text-align: right;\">\n",
       "      <th></th>\n",
       "      <th>subject_id</th>\n",
       "      <th>hadm_id</th>\n",
       "      <th>chronic_dialysis</th>\n",
       "      <th>CHF exacerbation</th>\n",
       "      <th>furosemide</th>\n",
       "      <th>bumetanide</th>\n",
       "      <th>chlorothiazide</th>\n",
       "    </tr>\n",
       "  </thead>\n",
       "  <tbody>\n",
       "    <tr>\n",
       "      <th>1155</th>\n",
       "      <td>16477997</td>\n",
       "      <td>25359811</td>\n",
       "      <td>False</td>\n",
       "      <td>True</td>\n",
       "      <td>3</td>\n",
       "      <td>0</td>\n",
       "      <td>0</td>\n",
       "    </tr>\n",
       "    <tr>\n",
       "      <th>1215</th>\n",
       "      <td>14959277</td>\n",
       "      <td>28740655</td>\n",
       "      <td>False</td>\n",
       "      <td>True</td>\n",
       "      <td>5</td>\n",
       "      <td>0</td>\n",
       "      <td>0</td>\n",
       "    </tr>\n",
       "    <tr>\n",
       "      <th>1668</th>\n",
       "      <td>12849817</td>\n",
       "      <td>27891695</td>\n",
       "      <td>False</td>\n",
       "      <td>True</td>\n",
       "      <td>4</td>\n",
       "      <td>0</td>\n",
       "      <td>0</td>\n",
       "    </tr>\n",
       "    <tr>\n",
       "      <th>1784</th>\n",
       "      <td>11508679</td>\n",
       "      <td>25781770</td>\n",
       "      <td>False</td>\n",
       "      <td>True</td>\n",
       "      <td>2</td>\n",
       "      <td>0</td>\n",
       "      <td>0</td>\n",
       "    </tr>\n",
       "    <tr>\n",
       "      <th>1829</th>\n",
       "      <td>18151621</td>\n",
       "      <td>25727457</td>\n",
       "      <td>False</td>\n",
       "      <td>True</td>\n",
       "      <td>6</td>\n",
       "      <td>0</td>\n",
       "      <td>0</td>\n",
       "    </tr>\n",
       "    <tr>\n",
       "      <th>...</th>\n",
       "      <td>...</td>\n",
       "      <td>...</td>\n",
       "      <td>...</td>\n",
       "      <td>...</td>\n",
       "      <td>...</td>\n",
       "      <td>...</td>\n",
       "      <td>...</td>\n",
       "    </tr>\n",
       "    <tr>\n",
       "      <th>5276007</th>\n",
       "      <td>13356023</td>\n",
       "      <td>22685718</td>\n",
       "      <td>False</td>\n",
       "      <td>True</td>\n",
       "      <td>5</td>\n",
       "      <td>0</td>\n",
       "      <td>0</td>\n",
       "    </tr>\n",
       "    <tr>\n",
       "      <th>5278735</th>\n",
       "      <td>11278868</td>\n",
       "      <td>27727945</td>\n",
       "      <td>False</td>\n",
       "      <td>True</td>\n",
       "      <td>2</td>\n",
       "      <td>0</td>\n",
       "      <td>0</td>\n",
       "    </tr>\n",
       "    <tr>\n",
       "      <th>5278849</th>\n",
       "      <td>16393972</td>\n",
       "      <td>23399256</td>\n",
       "      <td>False</td>\n",
       "      <td>True</td>\n",
       "      <td>2</td>\n",
       "      <td>0</td>\n",
       "      <td>0</td>\n",
       "    </tr>\n",
       "    <tr>\n",
       "      <th>5278908</th>\n",
       "      <td>13246267</td>\n",
       "      <td>23939582</td>\n",
       "      <td>False</td>\n",
       "      <td>True</td>\n",
       "      <td>3</td>\n",
       "      <td>0</td>\n",
       "      <td>0</td>\n",
       "    </tr>\n",
       "    <tr>\n",
       "      <th>5279155</th>\n",
       "      <td>16799562</td>\n",
       "      <td>23401334</td>\n",
       "      <td>False</td>\n",
       "      <td>True</td>\n",
       "      <td>4</td>\n",
       "      <td>0</td>\n",
       "      <td>0</td>\n",
       "    </tr>\n",
       "  </tbody>\n",
       "</table>\n",
       "<p>24824 rows × 7 columns</p>\n",
       "</div>"
      ],
      "text/plain": [
       "         subject_id   hadm_id  chronic_dialysis  CHF exacerbation  furosemide  \\\n",
       "1155       16477997  25359811             False              True           3   \n",
       "1215       14959277  28740655             False              True           5   \n",
       "1668       12849817  27891695             False              True           4   \n",
       "1784       11508679  25781770             False              True           2   \n",
       "1829       18151621  25727457             False              True           6   \n",
       "...             ...       ...               ...               ...         ...   \n",
       "5276007    13356023  22685718             False              True           5   \n",
       "5278735    11278868  27727945             False              True           2   \n",
       "5278849    16393972  23399256             False              True           2   \n",
       "5278908    13246267  23939582             False              True           3   \n",
       "5279155    16799562  23401334             False              True           4   \n",
       "\n",
       "         bumetanide  chlorothiazide  \n",
       "1155              0               0  \n",
       "1215              0               0  \n",
       "1668              0               0  \n",
       "1784              0               0  \n",
       "1829              0               0  \n",
       "...             ...             ...  \n",
       "5276007           0               0  \n",
       "5278735           0               0  \n",
       "5278849           0               0  \n",
       "5278908           0               0  \n",
       "5279155           0               0  \n",
       "\n",
       "[24824 rows x 7 columns]"
      ]
     },
     "execution_count": 243,
     "metadata": {},
     "output_type": "execute_result"
    }
   ],
   "source": [
    "final_cohort"
   ]
  },
  {
   "cell_type": "code",
   "execution_count": 242,
   "metadata": {},
   "outputs": [
    {
     "data": {
      "text/plain": [
       "521111"
      ]
     },
     "execution_count": 242,
     "metadata": {},
     "output_type": "execute_result"
    }
   ],
   "source": [
    "len(total_hadm)"
   ]
  },
  {
   "cell_type": "code",
   "execution_count": 252,
   "metadata": {},
   "outputs": [
    {
     "name": "stdout",
     "output_type": "stream",
     "text": [
      "[496287, 24824]\n"
     ]
    },
    {
     "data": {
      "image/png": "[encoded data removed]",
      "text/plain": [
       "<Figure size 432x288 with 1 Axes>"
      ]
     },
     "metadata": {},
     "output_type": "display_data"
    }
   ],
   "source": [
    "\n",
    "sizes = [len(total_hadm)-len(final_cohort), len(final_cohort)]\n",
    "print(sizes)\n",
    "labels = ['']*len(sizes)\n",
    "labels[1] = 'CHF cohort\\n(24824)'\n",
    "labels[0] = 'non-CHF cohort\\n(496287)'\n",
    "# percent = sizes/np.sum(sizes)\n",
    "explode = np.zeros(len(sizes))\n",
    "explode[0]=0.05\n",
    "# cohort_table.subject_id.value_counts().value_counts().index, )\n",
    "fig1, ax1 = plt.subplots()\n",
    "ax1.pie(sizes, \n",
    "        explode=explode, \n",
    "        labels=labels, \n",
    "        autopct=lambda x: \"{:1.1%}\".format(x/100) if x > 1 else '',\n",
    "#         pctdistance=0.85,\n",
    "        labeldistance=1.15,\n",
    "        shadow=False, startangle=60)\n",
    "ax1.axis('equal')  # Equal aspect ratio ensures that pie is drawn as a circle.\n",
    "\n",
    "plt.title('CHF cohort from overall data set')\n",
    "plt.show()"
   ]
  },
  {
   "cell_type": "code",
   "execution_count": null,
   "metadata": {},
   "outputs": [],
   "source": []
  }
 ],
 "metadata": {
  "kernelspec": {
   "display_name": "Python 3",
   "language": "python",
   "name": "python3"
  },
  "language_info": {
   "codemirror_mode": {
    "name": "ipython",
    "version": 3
   },
   "file_extension": ".py",
   "mimetype": "text/x-python",
   "name": "python",
   "nbconvert_exporter": "python",
   "pygments_lexer": "ipython3",
   "version": "3.8.3"
  }
 },
 "nbformat": 4,
 "nbformat_minor": 4
}
