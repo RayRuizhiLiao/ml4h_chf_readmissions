{
 "cells": [
  {
   "cell_type": "code",
   "execution_count": 1,
   "metadata": {},
   "outputs": [],
   "source": [
    "import pandas as pd\n",
    "import matplotlib.pyplot as plt\n",
    "import numpy as np"
   ]
  },
  {
   "cell_type": "code",
   "execution_count": 4,
   "metadata": {},
   "outputs": [],
   "source": [
    "mimiciv_dir = 'C:/Users/suzie/Dropbox (MIT)/Spring 2021/6.871 Machine Learning for Healthcare/mimic-iv-1.0/hosp'"
   ]
  },
  {
   "cell_type": "markdown",
   "metadata": {},
   "source": [
    "## Part I: read data"
   ]
  },
  {
   "cell_type": "code",
   "execution_count": 5,
   "metadata": {},
   "outputs": [],
   "source": [
    "df_event = pd.read_csv(f'{mimiciv_dir}/diagnoses_icd.csv', low_memory=False)"
   ]
  },
  {
   "cell_type": "code",
   "execution_count": 6,
   "metadata": {},
   "outputs": [],
   "source": [
    "df_code = pd.read_csv(f'{mimiciv_dir}/d_icd_diagnoses.csv', low_memory=False)"
   ]
  },
  {
   "cell_type": "code",
   "execution_count": 7,
   "metadata": {},
   "outputs": [
    {
     "data": {
      "text/html": [
       "<div>\n",
       "<style scoped>\n",
       "    .dataframe tbody tr th:only-of-type {\n",
       "        vertical-align: middle;\n",
       "    }\n",
       "\n",
       "    .dataframe tbody tr th {\n",
       "        vertical-align: top;\n",
       "    }\n",
       "\n",
       "    .dataframe thead th {\n",
       "        text-align: right;\n",
       "    }\n",
       "</style>\n",
       "<table border=\"1\" class=\"dataframe\">\n",
       "  <thead>\n",
       "    <tr style=\"text-align: right;\">\n",
       "      <th></th>\n",
       "      <th>subject_id</th>\n",
       "      <th>hadm_id</th>\n",
       "      <th>seq_num</th>\n",
       "      <th>icd_code</th>\n",
       "      <th>icd_version</th>\n",
       "      <th>long_title</th>\n",
       "    </tr>\n",
       "  </thead>\n",
       "  <tbody>\n",
       "    <tr>\n",
       "      <th>0</th>\n",
       "      <td>15734973</td>\n",
       "      <td>20475282</td>\n",
       "      <td>3</td>\n",
       "      <td>2825</td>\n",
       "      <td>9</td>\n",
       "      <td>sickle-cell trait</td>\n",
       "    </tr>\n",
       "    <tr>\n",
       "      <th>1</th>\n",
       "      <td>15734973</td>\n",
       "      <td>20475282</td>\n",
       "      <td>2</td>\n",
       "      <td>V0251</td>\n",
       "      <td>9</td>\n",
       "      <td>carrier or suspected carrier of group b strept...</td>\n",
       "    </tr>\n",
       "    <tr>\n",
       "      <th>2</th>\n",
       "      <td>15734973</td>\n",
       "      <td>20475282</td>\n",
       "      <td>5</td>\n",
       "      <td>V270</td>\n",
       "      <td>9</td>\n",
       "      <td>outcome of delivery, single liveborn</td>\n",
       "    </tr>\n",
       "    <tr>\n",
       "      <th>3</th>\n",
       "      <td>15734973</td>\n",
       "      <td>20475282</td>\n",
       "      <td>1</td>\n",
       "      <td>64891</td>\n",
       "      <td>9</td>\n",
       "      <td>other current conditions classifiable elsewher...</td>\n",
       "    </tr>\n",
       "    <tr>\n",
       "      <th>4</th>\n",
       "      <td>15734973</td>\n",
       "      <td>20475282</td>\n",
       "      <td>4</td>\n",
       "      <td>66481</td>\n",
       "      <td>9</td>\n",
       "      <td>other specified trauma to perineum and vulva, ...</td>\n",
       "    </tr>\n",
       "  </tbody>\n",
       "</table>\n",
       "</div>"
      ],
      "text/plain": [
       "   subject_id   hadm_id  seq_num icd_code  icd_version  \\\n",
       "0    15734973  20475282        3     2825            9   \n",
       "1    15734973  20475282        2    V0251            9   \n",
       "2    15734973  20475282        5     V270            9   \n",
       "3    15734973  20475282        1    64891            9   \n",
       "4    15734973  20475282        4    66481            9   \n",
       "\n",
       "                                          long_title  \n",
       "0                                  sickle-cell trait  \n",
       "1  carrier or suspected carrier of group b strept...  \n",
       "2               outcome of delivery, single liveborn  \n",
       "3  other current conditions classifiable elsewher...  \n",
       "4  other specified trauma to perineum and vulva, ...  "
      ]
     },
     "execution_count": 7,
     "metadata": {},
     "output_type": "execute_result"
    }
   ],
   "source": [
    "\n",
    "#merge tables:\n",
    "df_sub = pd.merge(df_event, df_code, on = ['icd_code','icd_version'], how='left')\n",
    "\n",
    "#convert to lower case:\n",
    "df_sub['long_title'] = df_sub['long_title'].str.lower()\n",
    "\n",
    "df_sub = df_sub.dropna(subset=['icd_code','icd_version','hadm_id','subject_id','long_title'], how='any')\n",
    "\n",
    "df_sub.head(5)"
   ]
  },
  {
   "cell_type": "markdown",
   "metadata": {},
   "source": [
    "## Part II: ICD Code Cohorting"
   ]
  },
  {
   "cell_type": "code",
   "execution_count": 8,
   "metadata": {},
   "outputs": [],
   "source": [
    "#Filter to heart failure: \n",
    "#Filter 1: long title contains \"heart failure\" AND long title doesnt contain without heart failure\n",
    "# this paper: https://academic.oup.com/aje/article/183/5/462/2462157?login=true used almost all of these for ADHF\n",
    "df_f1 = df_sub[df_sub['long_title'].str.contains('heart failure')]\n",
    "df_f1 = df_f1[~df_f1['long_title'].str.contains('without heart failure')]\n",
    "# df_f1.head(5)"
   ]
  },
  {
   "cell_type": "code",
   "execution_count": 9,
   "metadata": {},
   "outputs": [
    {
     "name": "stdout",
     "output_type": "stream",
     "text": [
      "64686\n"
     ]
    }
   ],
   "source": [
    "df_f1_hadm = df_f1[['subject_id','hadm_id','long_title', 'icd_code','icd_version']].drop_duplicates(subset=['hadm_id'])\n",
    "print(np.shape(df_f1_hadm)[0])\n",
    "n1 = np.shape(df_f1_hadm)[0]\n",
    "# df_f1_hadm.head(5)"
   ]
  },
  {
   "cell_type": "code",
   "execution_count": 10,
   "metadata": {},
   "outputs": [
    {
     "name": "stdout",
     "output_type": "stream",
     "text": [
      "64566\n"
     ]
    }
   ],
   "source": [
    "# Filter 2: Filter 1 + exclude \"XX disease with heart failure\" format (only keep HF as main target in title)\n",
    "df_f2 = df_f1[~df_f1['long_title'].str.contains('disease')]\n",
    "df_f2_hadm = df_f2[['subject_id','hadm_id','long_title', 'icd_code','icd_version']].drop_duplicates(subset=['hadm_id'])\n",
    "print(np.shape(df_f2_hadm)[0])\n",
    "hf2_icd = df_f2[['long_title', 'icd_code','icd_version']].drop_duplicates(subset=['icd_code']) #.sort_values('icd_code')\n",
    "hf2_icd\n",
    "n2 = np.shape(df_f2_hadm)[0]"
   ]
  },
  {
   "cell_type": "code",
   "execution_count": 11,
   "metadata": {},
   "outputs": [
    {
     "data": {
      "text/plain": [
       "64409"
      ]
     },
     "execution_count": 11,
     "metadata": {},
     "output_type": "execute_result"
    }
   ],
   "source": [
    "# Filter 5: Filter 1+2+ Use I50+ and 428+\n",
    "# source: https://icd.codes/icd10cm/I503 \"The ICD code I50 is used to code Acute decompensated heart failure\"\n",
    "df_f5 = df_f2[df_f2['icd_code'].str.contains('428') | df_f2['icd_code'].str.contains('I50')]\n",
    "df_f5_hadm = df_f5[['subject_id','hadm_id','long_title', 'icd_code','icd_version']].drop_duplicates(subset=['hadm_id'])\n",
    "n5=(np.shape(df_f5_hadm)[0])\n",
    "n5"
   ]
  },
  {
   "cell_type": "code",
   "execution_count": 12,
   "metadata": {},
   "outputs": [
    {
     "data": {
      "text/plain": [
       "53067"
      ]
     },
     "execution_count": 12,
     "metadata": {},
     "output_type": "execute_result"
    }
   ],
   "source": [
    "# Filter 6: Filter 1+2+5+ exclude acute only, exclude chronic only, keep acute on chronic or specified\n",
    "# source: NA_CARE_Prov_ICD_10_CM_Documentation_and_Coding_Best_Practices_Heart_Failure_v3_ENG_2019 pdf\n",
    "df_f6 = df_f5[~df_f5['long_title'].str.contains('acute')  | df_f5['long_title'].str.contains('acute on chronic') ]\n",
    "df_f6 = df_f5[~df_f5['long_title'].str.contains('chronic')  | df_f5['long_title'].str.contains('acute on chronic') ]\n",
    "df_f6_hadm = df_f6[['subject_id','hadm_id','long_title', 'icd_code','icd_version']].drop_duplicates(subset=['hadm_id'])\n",
    "n6 = (np.shape(df_f6_hadm)[0])\n",
    "n6"
   ]
  },
  {
   "cell_type": "code",
   "execution_count": 13,
   "metadata": {},
   "outputs": [
    {
     "data": {
      "text/plain": [
       "53040"
      ]
     },
     "execution_count": 13,
     "metadata": {},
     "output_type": "execute_result"
    }
   ],
   "source": [
    "# Filter 7: Filter 1+2+5+6 exclude end stage\n",
    "# It is important to distinguish between AdHF and end-stage HF\n",
    "# source https://www.ncbi.nlm.nih.gov/pmc/articles/PMC6963179/\n",
    "df_f7 = df_f6[~df_f6['long_title'].str.contains('end stage')]\n",
    "df_f7_hadm = df_f7[['subject_id','hadm_id','long_title', 'icd_code','icd_version']].drop_duplicates(subset=['hadm_id'])\n",
    "n7 = (np.shape(df_f7_hadm)[0])\n",
    "n7"
   ]
  },
  {
   "cell_type": "code",
   "execution_count": 14,
   "metadata": {},
   "outputs": [
    {
     "data": {
      "text/html": [
       "<div>\n",
       "<style scoped>\n",
       "    .dataframe tbody tr th:only-of-type {\n",
       "        vertical-align: middle;\n",
       "    }\n",
       "\n",
       "    .dataframe tbody tr th {\n",
       "        vertical-align: top;\n",
       "    }\n",
       "\n",
       "    .dataframe thead th {\n",
       "        text-align: right;\n",
       "    }\n",
       "</style>\n",
       "<table border=\"1\" class=\"dataframe\">\n",
       "  <thead>\n",
       "    <tr style=\"text-align: right;\">\n",
       "      <th></th>\n",
       "      <th>subject_id</th>\n",
       "      <th>hadm_id</th>\n",
       "      <th>long_title</th>\n",
       "      <th>icd_code</th>\n",
       "      <th>icd_version</th>\n",
       "    </tr>\n",
       "  </thead>\n",
       "  <tbody>\n",
       "    <tr>\n",
       "      <th>1161</th>\n",
       "      <td>16477997</td>\n",
       "      <td>25359811</td>\n",
       "      <td>acute on chronic systolic heart failure</td>\n",
       "      <td>42823</td>\n",
       "      <td>9</td>\n",
       "    </tr>\n",
       "    <tr>\n",
       "      <th>1223</th>\n",
       "      <td>14959277</td>\n",
       "      <td>28740655</td>\n",
       "      <td>congestive heart failure, unspecified</td>\n",
       "      <td>4280</td>\n",
       "      <td>9</td>\n",
       "    </tr>\n",
       "    <tr>\n",
       "      <th>1435</th>\n",
       "      <td>18894258</td>\n",
       "      <td>28336555</td>\n",
       "      <td>congestive heart failure, unspecified</td>\n",
       "      <td>4280</td>\n",
       "      <td>9</td>\n",
       "    </tr>\n",
       "    <tr>\n",
       "      <th>1662</th>\n",
       "      <td>14974219</td>\n",
       "      <td>20480369</td>\n",
       "      <td>congestive heart failure, unspecified</td>\n",
       "      <td>4280</td>\n",
       "      <td>9</td>\n",
       "    </tr>\n",
       "    <tr>\n",
       "      <th>1677</th>\n",
       "      <td>12849817</td>\n",
       "      <td>27891695</td>\n",
       "      <td>congestive heart failure, unspecified</td>\n",
       "      <td>4280</td>\n",
       "      <td>9</td>\n",
       "    </tr>\n",
       "    <tr>\n",
       "      <th>...</th>\n",
       "      <td>...</td>\n",
       "      <td>...</td>\n",
       "      <td>...</td>\n",
       "      <td>...</td>\n",
       "      <td>...</td>\n",
       "    </tr>\n",
       "    <tr>\n",
       "      <th>5279270</th>\n",
       "      <td>11777890</td>\n",
       "      <td>27096855</td>\n",
       "      <td>acute right heart failure</td>\n",
       "      <td>I50811</td>\n",
       "      <td>10</td>\n",
       "    </tr>\n",
       "    <tr>\n",
       "      <th>5279392</th>\n",
       "      <td>15137260</td>\n",
       "      <td>28409503</td>\n",
       "      <td>heart failure, unspecified</td>\n",
       "      <td>I509</td>\n",
       "      <td>10</td>\n",
       "    </tr>\n",
       "    <tr>\n",
       "      <th>5279757</th>\n",
       "      <td>12450853</td>\n",
       "      <td>21128117</td>\n",
       "      <td>unspecified systolic (congestive) heart failure</td>\n",
       "      <td>I5020</td>\n",
       "      <td>10</td>\n",
       "    </tr>\n",
       "    <tr>\n",
       "      <th>5280049</th>\n",
       "      <td>16050305</td>\n",
       "      <td>29914393</td>\n",
       "      <td>unspecified diastolic (congestive) heart failure</td>\n",
       "      <td>I5030</td>\n",
       "      <td>10</td>\n",
       "    </tr>\n",
       "    <tr>\n",
       "      <th>5280251</th>\n",
       "      <td>17533213</td>\n",
       "      <td>27704968</td>\n",
       "      <td>heart failure, unspecified</td>\n",
       "      <td>I509</td>\n",
       "      <td>10</td>\n",
       "    </tr>\n",
       "  </tbody>\n",
       "</table>\n",
       "<p>53040 rows × 5 columns</p>\n",
       "</div>"
      ],
      "text/plain": [
       "         subject_id   hadm_id  \\\n",
       "1161       16477997  25359811   \n",
       "1223       14959277  28740655   \n",
       "1435       18894258  28336555   \n",
       "1662       14974219  20480369   \n",
       "1677       12849817  27891695   \n",
       "...             ...       ...   \n",
       "5279270    11777890  27096855   \n",
       "5279392    15137260  28409503   \n",
       "5279757    12450853  21128117   \n",
       "5280049    16050305  29914393   \n",
       "5280251    17533213  27704968   \n",
       "\n",
       "                                               long_title icd_code  \\\n",
       "1161              acute on chronic systolic heart failure    42823   \n",
       "1223                congestive heart failure, unspecified     4280   \n",
       "1435                congestive heart failure, unspecified     4280   \n",
       "1662                congestive heart failure, unspecified     4280   \n",
       "1677                congestive heart failure, unspecified     4280   \n",
       "...                                                   ...      ...   \n",
       "5279270                         acute right heart failure   I50811   \n",
       "5279392                        heart failure, unspecified     I509   \n",
       "5279757   unspecified systolic (congestive) heart failure    I5020   \n",
       "5280049  unspecified diastolic (congestive) heart failure    I5030   \n",
       "5280251                        heart failure, unspecified     I509   \n",
       "\n",
       "         icd_version  \n",
       "1161               9  \n",
       "1223               9  \n",
       "1435               9  \n",
       "1662               9  \n",
       "1677               9  \n",
       "...              ...  \n",
       "5279270           10  \n",
       "5279392           10  \n",
       "5279757           10  \n",
       "5280049           10  \n",
       "5280251           10  \n",
       "\n",
       "[53040 rows x 5 columns]"
      ]
     },
     "execution_count": 14,
     "metadata": {},
     "output_type": "execute_result"
    }
   ],
   "source": [
    "df_f7_hadm"
   ]
  },
  {
   "cell_type": "markdown",
   "metadata": {},
   "source": [
    "## Part III: DRG codes"
   ]
  },
  {
   "cell_type": "code",
   "execution_count": 59,
   "metadata": {},
   "outputs": [],
   "source": [
    "drgcodes = pd.read_csv(f'{mimiciv_dir}/drgcodes.csv', low_memory=False)"
   ]
  },
  {
   "cell_type": "code",
   "execution_count": 61,
   "metadata": {},
   "outputs": [],
   "source": [
    "# merge tables\n",
    "df_ids_icds = pd.merge(df_event, df_code, on = ['icd_code','icd_version'], how='left')\n",
    "df_merged = pd.merge(df_ids_icds, drgcodes, on = ['hadm_id', 'subject_id'], how='left')\n",
    "df_merged = df_merged.drop(columns=['drg_severity', 'drg_mortality'])"
   ]
  },
  {
   "cell_type": "code",
   "execution_count": 62,
   "metadata": {},
   "outputs": [],
   "source": [
    "# drop any rows that don't have a drg_code\n",
    "df_merged = df_merged.dropna(subset=['drg_code'], how='any')"
   ]
  },
  {
   "cell_type": "code",
   "execution_count": 63,
   "metadata": {},
   "outputs": [],
   "source": [
    "# select rows where DRG code contains \"hf\" or \"heart failure\"\n",
    "df_sub = df_merged[df_merged['description'].str.contains('hf|heart failure', case=False)]\n",
    "# there are some drg codes that specify \"w/o hf\" or \"w/o heart failure\" - don't include those rows\n",
    "df_sub = df_sub[~df_sub['description'].str.contains('W/O AMI/HF/SHOCK|W/O AMI, HEART FAILURE OR SHOCK', case=False)]"
   ]
  },
  {
   "cell_type": "code",
   "execution_count": 64,
   "metadata": {},
   "outputs": [],
   "source": [
    "# remove the hadm_ids that have a long title with heart failure in them, since the ICD codes already account for them\n",
    "no_hf_icd = []\n",
    "for hadm_id in df_sub.hadm_id.unique():\n",
    "    df_hadm_id = df_sub[df_sub['hadm_id'] == hadm_id]\n",
    "    if len(df_hadm_id[df_hadm_id['long_title'].str.contains('heart failure', case=False)]) == 0:\n",
    "        no_hf_icd.append(hadm_id)\n",
    "df_no_hf_icd = df_sub[df_sub['hadm_id'].isin(no_hf_icd)]"
   ]
  },
  {
   "cell_type": "code",
   "execution_count": 65,
   "metadata": {},
   "outputs": [],
   "source": [
    "# only keep rows where ICD codes include:\n",
    "#\" cardiogenic shock\", \"left ventricular failure, unspecified\", \"shock, unspecified\", or pleural effusion or fluid overload\n",
    "df_no_hf_icd = df_no_hf_icd[df_no_hf_icd['long_title'].str.contains('cardiogenic shock|left ventricular failure, unspecified|shock, unspecified|Pleural effusion, not elsewhere classified|Fluid overload, unspecified', case=False)]\n",
    "df_no_hf_icd_hadm = df_no_hf_icd[['subject_id','hadm_id','long_title', 'icd_code','icd_version', 'description']].drop_duplicates(subset=['hadm_id'])"
   ]
  },
  {
   "cell_type": "markdown",
   "metadata": {},
   "source": [
    "## Part IV: IV Diuretics"
   ]
  },
  {
   "cell_type": "code",
   "execution_count": 79,
   "metadata": {},
   "outputs": [
    {
     "data": {
      "text/plain": [
       "53059"
      ]
     },
     "execution_count": 79,
     "metadata": {},
     "output_type": "execute_result"
    }
   ],
   "source": [
    "chf_hadm = df_f7_hadm.hadm_id.append(df_no_hf_icd_hadm.hadm_id).unique() # 53059 hadm\n",
    "len(chf_hadm)"
   ]
  },
  {
   "cell_type": "code",
   "execution_count": 21,
   "metadata": {},
   "outputs": [],
   "source": [
    "prescriptions = pd.read_csv(f'{mimiciv_dir}/prescriptions.csv', low_memory=False)"
   ]
  },
  {
   "cell_type": "code",
   "execution_count": 43,
   "metadata": {},
   "outputs": [],
   "source": [
    "df_diuretics = pd.DataFrame({'furosemide': (prescriptions['drug'].str.contains('furosemide', case=False, na=False) | prescriptions['drug'].str.contains('lasix', case=False, na=False)) & ~prescriptions['drug'].str.contains('Desensitization', case=False, na=False), \n",
    "                   'bumetanide': (prescriptions['drug'].str.contains('bumetanide', case=False, na=False) | prescriptions['drug'].str.contains('bumex', case=False, na=False)) & ~prescriptions['drug'].str.contains('Desensitization', case=False, na=False), \n",
    "                   'chlorothiazide': (prescriptions['drug'].str.contains('chlorothiazide', case=False, na=False) | prescriptions['drug'].str.contains('diuril', case=False, na=False)) & ~prescriptions['drug'].str.contains('Desensitization', case=False, na=False) & ~prescriptions['drug'].str.contains('hydrochlorothiazide', case=False, na=False)})"
   ]
  },
  {
   "cell_type": "code",
   "execution_count": 44,
   "metadata": {},
   "outputs": [],
   "source": [
    "# prescriptions for diuretics\n",
    "given_diuretic = df_diuretics.any(axis=1)"
   ]
  },
  {
   "cell_type": "code",
   "execution_count": 80,
   "metadata": {},
   "outputs": [],
   "source": [
    "# prescriptions with hadm_id associated w heart failure ICD\n",
    "in_icd = np.isin(prescriptions.hadm_id, chf_hadm)"
   ]
  },
  {
   "cell_type": "code",
   "execution_count": 81,
   "metadata": {},
   "outputs": [],
   "source": [
    "# prescriptions given via IV\n",
    "route_iv = prescriptions.route.str.contains('IV', case=False, na=False)"
   ]
  },
  {
   "cell_type": "code",
   "execution_count": 82,
   "metadata": {},
   "outputs": [],
   "source": [
    "# final cohort with all prescription fields\n",
    "cohort = prescriptions[given_diuretic & in_icd & route_iv]"
   ]
  },
  {
   "cell_type": "code",
   "execution_count": 83,
   "metadata": {},
   "outputs": [
    {
     "data": {
      "text/plain": [
       "array(['Furosemide', 'Chlorothiazide Sodium', 'Furosemide-Heart Failure',\n",
       "       'Chlorothiazide', 'Bumetanide', 'Furosemide (Latex Free)', 'LaSIX',\n",
       "       'bumex'], dtype=object)"
      ]
     },
     "execution_count": 83,
     "metadata": {},
     "output_type": "execute_result"
    }
   ],
   "source": [
    "# unique drug names to confirm no unwanted drugs are included\n",
    "cohort.drug.unique()"
   ]
  },
  {
   "cell_type": "code",
   "execution_count": 84,
   "metadata": {},
   "outputs": [
    {
     "data": {
      "text/plain": [
       "27135"
      ]
     },
     "execution_count": 84,
     "metadata": {},
     "output_type": "execute_result"
    }
   ],
   "source": [
    "cohort.hadm_id.unique().shape[0] #27129 unique HADM_IDs"
   ]
  },
  {
   "cell_type": "code",
   "execution_count": 85,
   "metadata": {},
   "outputs": [
    {
     "data": {
      "text/plain": [
       "15879"
      ]
     },
     "execution_count": 85,
     "metadata": {},
     "output_type": "execute_result"
    }
   ],
   "source": [
    "cohort.subject_id.unique().shape[0] #15875 unique SUBJECT_IDs"
   ]
  },
  {
   "cell_type": "code",
   "execution_count": 86,
   "metadata": {},
   "outputs": [],
   "source": [
    "cohort_hadm = cohort.hadm_id.unique()"
   ]
  },
  {
   "cell_type": "code",
   "execution_count": null,
   "metadata": {},
   "outputs": [],
   "source": []
  },
  {
   "cell_type": "markdown",
   "metadata": {},
   "source": [
    "## Part V: Removing Dialysis Patients "
   ]
  },
  {
   "cell_type": "code",
   "execution_count": 100,
   "metadata": {},
   "outputs": [],
   "source": [
    "dialysis_codes = [\"Z992\", \"N186\", \"5856\", \"V4511\"]"
   ]
  },
  {
   "cell_type": "code",
   "execution_count": 101,
   "metadata": {},
   "outputs": [],
   "source": [
    "df_event[\"chronic_dialysis\"] = df_event[\"icd_code\"].str.strip().isin(dialysis_codes)"
   ]
  },
  {
   "cell_type": "code",
   "execution_count": 105,
   "metadata": {
    "collapsed": true
   },
   "outputs": [
    {
     "data": {
      "text/html": [
       "<div>\n",
       "<style scoped>\n",
       "    .dataframe tbody tr th:only-of-type {\n",
       "        vertical-align: middle;\n",
       "    }\n",
       "\n",
       "    .dataframe tbody tr th {\n",
       "        vertical-align: top;\n",
       "    }\n",
       "\n",
       "    .dataframe thead th {\n",
       "        text-align: right;\n",
       "    }\n",
       "</style>\n",
       "<table border=\"1\" class=\"dataframe\">\n",
       "  <thead>\n",
       "    <tr style=\"text-align: right;\">\n",
       "      <th></th>\n",
       "      <th>subject_id</th>\n",
       "      <th>hadm_id</th>\n",
       "      <th>seq_num</th>\n",
       "      <th>icd_code</th>\n",
       "      <th>icd_version</th>\n",
       "      <th>chronic_dialysis</th>\n",
       "    </tr>\n",
       "  </thead>\n",
       "  <tbody>\n",
       "    <tr>\n",
       "      <th>0</th>\n",
       "      <td>15734973</td>\n",
       "      <td>20475282</td>\n",
       "      <td>3</td>\n",
       "      <td>2825</td>\n",
       "      <td>9</td>\n",
       "      <td>False</td>\n",
       "    </tr>\n",
       "    <tr>\n",
       "      <th>1</th>\n",
       "      <td>15734973</td>\n",
       "      <td>20475282</td>\n",
       "      <td>2</td>\n",
       "      <td>V0251</td>\n",
       "      <td>9</td>\n",
       "      <td>False</td>\n",
       "    </tr>\n",
       "    <tr>\n",
       "      <th>2</th>\n",
       "      <td>15734973</td>\n",
       "      <td>20475282</td>\n",
       "      <td>5</td>\n",
       "      <td>V270</td>\n",
       "      <td>9</td>\n",
       "      <td>False</td>\n",
       "    </tr>\n",
       "    <tr>\n",
       "      <th>3</th>\n",
       "      <td>15734973</td>\n",
       "      <td>20475282</td>\n",
       "      <td>1</td>\n",
       "      <td>64891</td>\n",
       "      <td>9</td>\n",
       "      <td>False</td>\n",
       "    </tr>\n",
       "    <tr>\n",
       "      <th>4</th>\n",
       "      <td>15734973</td>\n",
       "      <td>20475282</td>\n",
       "      <td>4</td>\n",
       "      <td>66481</td>\n",
       "      <td>9</td>\n",
       "      <td>False</td>\n",
       "    </tr>\n",
       "    <tr>\n",
       "      <th>...</th>\n",
       "      <td>...</td>\n",
       "      <td>...</td>\n",
       "      <td>...</td>\n",
       "      <td>...</td>\n",
       "      <td>...</td>\n",
       "      <td>...</td>\n",
       "    </tr>\n",
       "    <tr>\n",
       "      <th>5280346</th>\n",
       "      <td>13747041</td>\n",
       "      <td>25594844</td>\n",
       "      <td>6</td>\n",
       "      <td>R531</td>\n",
       "      <td>10</td>\n",
       "      <td>False</td>\n",
       "    </tr>\n",
       "    <tr>\n",
       "      <th>5280347</th>\n",
       "      <td>13747041</td>\n",
       "      <td>25594844</td>\n",
       "      <td>8</td>\n",
       "      <td>R0902</td>\n",
       "      <td>10</td>\n",
       "      <td>False</td>\n",
       "    </tr>\n",
       "    <tr>\n",
       "      <th>5280348</th>\n",
       "      <td>13747041</td>\n",
       "      <td>25594844</td>\n",
       "      <td>4</td>\n",
       "      <td>F1120</td>\n",
       "      <td>10</td>\n",
       "      <td>False</td>\n",
       "    </tr>\n",
       "    <tr>\n",
       "      <th>5280349</th>\n",
       "      <td>13747041</td>\n",
       "      <td>25594844</td>\n",
       "      <td>2</td>\n",
       "      <td>J189</td>\n",
       "      <td>10</td>\n",
       "      <td>False</td>\n",
       "    </tr>\n",
       "    <tr>\n",
       "      <th>5280350</th>\n",
       "      <td>13747041</td>\n",
       "      <td>25594844</td>\n",
       "      <td>5</td>\n",
       "      <td>N179</td>\n",
       "      <td>10</td>\n",
       "      <td>False</td>\n",
       "    </tr>\n",
       "  </tbody>\n",
       "</table>\n",
       "<p>5280351 rows × 6 columns</p>\n",
       "</div>"
      ],
      "text/plain": [
       "         subject_id   hadm_id  seq_num icd_code  icd_version  chronic_dialysis\n",
       "0          15734973  20475282        3     2825            9             False\n",
       "1          15734973  20475282        2    V0251            9             False\n",
       "2          15734973  20475282        5     V270            9             False\n",
       "3          15734973  20475282        1    64891            9             False\n",
       "4          15734973  20475282        4    66481            9             False\n",
       "...             ...       ...      ...      ...          ...               ...\n",
       "5280346    13747041  25594844        6     R531           10             False\n",
       "5280347    13747041  25594844        8    R0902           10             False\n",
       "5280348    13747041  25594844        4    F1120           10             False\n",
       "5280349    13747041  25594844        2     J189           10             False\n",
       "5280350    13747041  25594844        5     N179           10             False\n",
       "\n",
       "[5280351 rows x 6 columns]"
      ]
     },
     "execution_count": 105,
     "metadata": {},
     "output_type": "execute_result"
    }
   ],
   "source": [
    "df_event"
   ]
  },
  {
   "cell_type": "markdown",
   "metadata": {},
   "source": [
    "## Part VI: Final Cohort"
   ]
  },
  {
   "cell_type": "code",
   "execution_count": 117,
   "metadata": {},
   "outputs": [
    {
     "data": {
      "text/html": [
       "<div>\n",
       "<style scoped>\n",
       "    .dataframe tbody tr th:only-of-type {\n",
       "        vertical-align: middle;\n",
       "    }\n",
       "\n",
       "    .dataframe tbody tr th {\n",
       "        vertical-align: top;\n",
       "    }\n",
       "\n",
       "    .dataframe thead th {\n",
       "        text-align: right;\n",
       "    }\n",
       "</style>\n",
       "<table border=\"1\" class=\"dataframe\">\n",
       "  <thead>\n",
       "    <tr style=\"text-align: right;\">\n",
       "      <th></th>\n",
       "      <th>subject_id</th>\n",
       "      <th>hadm_id</th>\n",
       "      <th>chronic_dialysis</th>\n",
       "    </tr>\n",
       "  </thead>\n",
       "  <tbody>\n",
       "    <tr>\n",
       "      <th>0</th>\n",
       "      <td>15734973</td>\n",
       "      <td>20475282</td>\n",
       "      <td>False</td>\n",
       "    </tr>\n",
       "    <tr>\n",
       "      <th>1</th>\n",
       "      <td>15734973</td>\n",
       "      <td>20475282</td>\n",
       "      <td>False</td>\n",
       "    </tr>\n",
       "    <tr>\n",
       "      <th>2</th>\n",
       "      <td>15734973</td>\n",
       "      <td>20475282</td>\n",
       "      <td>False</td>\n",
       "    </tr>\n",
       "    <tr>\n",
       "      <th>3</th>\n",
       "      <td>15734973</td>\n",
       "      <td>20475282</td>\n",
       "      <td>False</td>\n",
       "    </tr>\n",
       "    <tr>\n",
       "      <th>4</th>\n",
       "      <td>15734973</td>\n",
       "      <td>20475282</td>\n",
       "      <td>False</td>\n",
       "    </tr>\n",
       "  </tbody>\n",
       "</table>\n",
       "</div>"
      ],
      "text/plain": [
       "   subject_id   hadm_id  chronic_dialysis\n",
       "0    15734973  20475282             False\n",
       "1    15734973  20475282             False\n",
       "2    15734973  20475282             False\n",
       "3    15734973  20475282             False\n",
       "4    15734973  20475282             False"
      ]
     },
     "execution_count": 117,
     "metadata": {},
     "output_type": "execute_result"
    }
   ],
   "source": [
    "final_cohort = df_event.drop(columns=['seq_num', 'icd_code', 'icd_version'])\n",
    "final_cohort.head()"
   ]
  },
  {
   "cell_type": "code",
   "execution_count": 118,
   "metadata": {},
   "outputs": [],
   "source": [
    "final_cohort['CHF exacerbation'] = final_cohort['hadm_id'].isin(cohort_hadm)"
   ]
  },
  {
   "cell_type": "code",
   "execution_count": 124,
   "metadata": {},
   "outputs": [],
   "source": [
    "final_cohort = final_cohort.drop_duplicates()"
   ]
  },
  {
   "cell_type": "code",
   "execution_count": 125,
   "metadata": {},
   "outputs": [
    {
     "data": {
      "text/html": [
       "<div>\n",
       "<style scoped>\n",
       "    .dataframe tbody tr th:only-of-type {\n",
       "        vertical-align: middle;\n",
       "    }\n",
       "\n",
       "    .dataframe tbody tr th {\n",
       "        vertical-align: top;\n",
       "    }\n",
       "\n",
       "    .dataframe thead th {\n",
       "        text-align: right;\n",
       "    }\n",
       "</style>\n",
       "<table border=\"1\" class=\"dataframe\">\n",
       "  <thead>\n",
       "    <tr style=\"text-align: right;\">\n",
       "      <th></th>\n",
       "      <th>subject_id</th>\n",
       "      <th>hadm_id</th>\n",
       "      <th>chronic_dialysis</th>\n",
       "      <th>CHF exacerbation</th>\n",
       "    </tr>\n",
       "  </thead>\n",
       "  <tbody>\n",
       "    <tr>\n",
       "      <th>0</th>\n",
       "      <td>15734973</td>\n",
       "      <td>20475282</td>\n",
       "      <td>False</td>\n",
       "      <td>False</td>\n",
       "    </tr>\n",
       "    <tr>\n",
       "      <th>5</th>\n",
       "      <td>11442057</td>\n",
       "      <td>21518990</td>\n",
       "      <td>False</td>\n",
       "      <td>False</td>\n",
       "    </tr>\n",
       "    <tr>\n",
       "      <th>11</th>\n",
       "      <td>10072949</td>\n",
       "      <td>20817034</td>\n",
       "      <td>False</td>\n",
       "      <td>False</td>\n",
       "    </tr>\n",
       "    <tr>\n",
       "      <th>16</th>\n",
       "      <td>13538405</td>\n",
       "      <td>24822466</td>\n",
       "      <td>False</td>\n",
       "      <td>False</td>\n",
       "    </tr>\n",
       "    <tr>\n",
       "      <th>21</th>\n",
       "      <td>10287061</td>\n",
       "      <td>27485182</td>\n",
       "      <td>False</td>\n",
       "      <td>False</td>\n",
       "    </tr>\n",
       "  </tbody>\n",
       "</table>\n",
       "</div>"
      ],
      "text/plain": [
       "    subject_id   hadm_id  chronic_dialysis  CHF exacerbation\n",
       "0     15734973  20475282             False             False\n",
       "5     11442057  21518990             False             False\n",
       "11    10072949  20817034             False             False\n",
       "16    13538405  24822466             False             False\n",
       "21    10287061  27485182             False             False"
      ]
     },
     "execution_count": 125,
     "metadata": {},
     "output_type": "execute_result"
    }
   ],
   "source": [
    "final_cohort.head()"
   ]
  },
  {
   "cell_type": "code",
   "execution_count": 127,
   "metadata": {},
   "outputs": [
    {
     "data": {
      "text/plain": [
       "536165"
      ]
     },
     "execution_count": 127,
     "metadata": {},
     "output_type": "execute_result"
    }
   ],
   "source": [
    "len(final_cohort)"
   ]
  },
  {
   "cell_type": "code",
   "execution_count": 126,
   "metadata": {},
   "outputs": [],
   "source": [
    "final_cohort.to_csv('final_cohort.csv')"
   ]
  },
  {
   "cell_type": "code",
   "execution_count": null,
   "metadata": {},
   "outputs": [],
   "source": []
  }
 ],
 "metadata": {
  "kernelspec": {
   "display_name": "Python 3",
   "language": "python",
   "name": "python3"
  },
  "language_info": {
   "codemirror_mode": {
    "name": "ipython",
    "version": 3
   },
   "file_extension": ".py",
   "mimetype": "text/x-python",
   "name": "python",
   "nbconvert_exporter": "python",
   "pygments_lexer": "ipython3",
   "version": "3.8.3"
  }
 },
 "nbformat": 4,
 "nbformat_minor": 4
}
