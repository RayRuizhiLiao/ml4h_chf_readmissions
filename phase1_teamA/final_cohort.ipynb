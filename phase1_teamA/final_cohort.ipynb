{
 "cells": [
  {
   "cell_type": "code",
   "execution_count": 1,
   "metadata": {},
   "outputs": [],
   "source": [
    "import pandas as pd\n",
    "import matplotlib.pyplot as plt\n",
    "import numpy as np"
   ]
  },
  {
   "cell_type": "code",
   "execution_count": 2,
   "metadata": {},
   "outputs": [],
   "source": [
    "mimiciv_dir = 'C:/Users/suzie/Dropbox (MIT)/Spring 2021/6.871 Machine Learning for Healthcare/mimic-iv-1.0/hosp'"
   ]
  },
  {
   "cell_type": "code",
   "execution_count": 3,
   "metadata": {},
   "outputs": [],
   "source": [
    "mimiciv_dir = 'data'"
   ]
  },
  {
   "cell_type": "code",
   "execution_count": 26,
   "metadata": {},
   "outputs": [],
   "source": [
    "mimiciv_dir = './mimic_iv/hosp'"
   ]
  },
  {
   "cell_type": "markdown",
   "metadata": {},
   "source": [
    "## Part I: read data"
   ]
  },
  {
   "cell_type": "code",
   "execution_count": 12,
   "metadata": {},
   "outputs": [],
   "source": [
    "df_event = pd.read_csv(f'{mimiciv_dir}/diagnoses_icd.csv', low_memory=False)"
   ]
  },
  {
   "cell_type": "code",
   "execution_count": 13,
   "metadata": {},
   "outputs": [],
   "source": [
    "df_code = pd.read_csv(f'{mimiciv_dir}/d_icd_diagnoses.csv', low_memory=False)"
   ]
  },
  {
   "cell_type": "code",
   "execution_count": 41,
   "metadata": {},
   "outputs": [],
   "source": [
    "\n",
    "#merge tables:\n",
    "df_sub = pd.merge(df_event, df_code, on = ['icd_code','icd_version'], how='left')\n",
    "\n",
    "#convert to lower case:\n",
    "df_sub['long_title'] = df_sub['long_title'].str.lower()\n",
    "\n",
    "df_sub = df_sub.dropna(subset=['icd_code','icd_version','hadm_id','subject_id','long_title'], how='any')\n",
    "\n",
    "# df_sub.head(5)"
   ]
  },
  {
   "cell_type": "code",
   "execution_count": 15,
   "metadata": {},
   "outputs": [
    {
     "data": {
      "text/html": [
       "<div>\n",
       "<style scoped>\n",
       "    .dataframe tbody tr th:only-of-type {\n",
       "        vertical-align: middle;\n",
       "    }\n",
       "\n",
       "    .dataframe tbody tr th {\n",
       "        vertical-align: top;\n",
       "    }\n",
       "\n",
       "    .dataframe thead th {\n",
       "        text-align: right;\n",
       "    }\n",
       "</style>\n",
       "<table border=\"1\" class=\"dataframe\">\n",
       "  <thead>\n",
       "    <tr style=\"text-align: right;\">\n",
       "      <th></th>\n",
       "      <th>subject_id</th>\n",
       "      <th>hadm_id</th>\n",
       "      <th>emar_id</th>\n",
       "      <th>emar_seq</th>\n",
       "      <th>poe_id</th>\n",
       "      <th>pharmacy_id</th>\n",
       "      <th>charttime</th>\n",
       "      <th>medication</th>\n",
       "      <th>event_txt</th>\n",
       "      <th>scheduletime</th>\n",
       "      <th>storetime</th>\n",
       "    </tr>\n",
       "  </thead>\n",
       "  <tbody>\n",
       "    <tr>\n",
       "      <th>0</th>\n",
       "      <td>10000473</td>\n",
       "      <td>NaN</td>\n",
       "      <td>10000473-15</td>\n",
       "      <td>15</td>\n",
       "      <td>10000473-23</td>\n",
       "      <td>NaN</td>\n",
       "      <td>2138-03-16 03:53:00</td>\n",
       "      <td>Doxycycline Hyclate</td>\n",
       "      <td>Administered</td>\n",
       "      <td>2138-03-16 03:53:00</td>\n",
       "      <td>2138-03-16 03:53:00</td>\n",
       "    </tr>\n",
       "    <tr>\n",
       "      <th>1</th>\n",
       "      <td>10000764</td>\n",
       "      <td>NaN</td>\n",
       "      <td>10000764-17</td>\n",
       "      <td>17</td>\n",
       "      <td>10000764-9</td>\n",
       "      <td>NaN</td>\n",
       "      <td>2132-10-14 21:49:00</td>\n",
       "      <td>Amoxicillin-Clavulanic Acid</td>\n",
       "      <td>Administered</td>\n",
       "      <td>2132-10-14 21:49:00</td>\n",
       "      <td>2132-10-14 21:53:00</td>\n",
       "    </tr>\n",
       "    <tr>\n",
       "      <th>2</th>\n",
       "      <td>10000764</td>\n",
       "      <td>NaN</td>\n",
       "      <td>10000764-18</td>\n",
       "      <td>18</td>\n",
       "      <td>10000764-8</td>\n",
       "      <td>NaN</td>\n",
       "      <td>2132-10-14 21:49:00</td>\n",
       "      <td>Tetanus-DiphTox-Acellular Pertuss (Adacel)</td>\n",
       "      <td>Administered</td>\n",
       "      <td>2132-10-14 21:49:00</td>\n",
       "      <td>2132-10-14 21:53:00</td>\n",
       "    </tr>\n",
       "    <tr>\n",
       "      <th>3</th>\n",
       "      <td>10000764</td>\n",
       "      <td>27897940.0</td>\n",
       "      <td>10000764-19</td>\n",
       "      <td>19</td>\n",
       "      <td>10000764-11</td>\n",
       "      <td>NaN</td>\n",
       "      <td>2132-10-14 23:54:00</td>\n",
       "      <td>PNEUMOcoccal 23-valent polysaccharide vaccine</td>\n",
       "      <td>Not Given</td>\n",
       "      <td>2132-10-14 23:54:00</td>\n",
       "      <td>2132-10-14 23:55:00</td>\n",
       "    </tr>\n",
       "    <tr>\n",
       "      <th>4</th>\n",
       "      <td>10000764</td>\n",
       "      <td>27897940.0</td>\n",
       "      <td>10000764-20</td>\n",
       "      <td>20</td>\n",
       "      <td>10000764-10</td>\n",
       "      <td>NaN</td>\n",
       "      <td>2132-10-14 23:55:00</td>\n",
       "      <td>Influenza Vaccine Quadrivalent</td>\n",
       "      <td>Not Given</td>\n",
       "      <td>2132-10-14 23:55:00</td>\n",
       "      <td>2132-10-14 23:55:00</td>\n",
       "    </tr>\n",
       "  </tbody>\n",
       "</table>\n",
       "</div>"
      ],
      "text/plain": [
       "   subject_id     hadm_id      emar_id  emar_seq       poe_id  pharmacy_id  \\\n",
       "0    10000473         NaN  10000473-15        15  10000473-23          NaN   \n",
       "1    10000764         NaN  10000764-17        17   10000764-9          NaN   \n",
       "2    10000764         NaN  10000764-18        18   10000764-8          NaN   \n",
       "3    10000764  27897940.0  10000764-19        19  10000764-11          NaN   \n",
       "4    10000764  27897940.0  10000764-20        20  10000764-10          NaN   \n",
       "\n",
       "             charttime                                     medication  \\\n",
       "0  2138-03-16 03:53:00                            Doxycycline Hyclate   \n",
       "1  2132-10-14 21:49:00                    Amoxicillin-Clavulanic Acid   \n",
       "2  2132-10-14 21:49:00     Tetanus-DiphTox-Acellular Pertuss (Adacel)   \n",
       "3  2132-10-14 23:54:00  PNEUMOcoccal 23-valent polysaccharide vaccine   \n",
       "4  2132-10-14 23:55:00                 Influenza Vaccine Quadrivalent   \n",
       "\n",
       "      event_txt         scheduletime            storetime  \n",
       "0  Administered  2138-03-16 03:53:00  2138-03-16 03:53:00  \n",
       "1  Administered  2132-10-14 21:49:00  2132-10-14 21:53:00  \n",
       "2  Administered  2132-10-14 21:49:00  2132-10-14 21:53:00  \n",
       "3     Not Given  2132-10-14 23:54:00  2132-10-14 23:55:00  \n",
       "4     Not Given  2132-10-14 23:55:00  2132-10-14 23:55:00  "
      ]
     },
     "execution_count": 15,
     "metadata": {},
     "output_type": "execute_result"
    }
   ],
   "source": [
    "df_emar = pd.read_csv(f'{mimiciv_dir}/emar.csv', low_memory=False)\n",
    "df_emar.head()"
   ]
  },
  {
   "cell_type": "code",
   "execution_count": 16,
   "metadata": {},
   "outputs": [
    {
     "data": {
      "text/html": [
       "<div>\n",
       "<style scoped>\n",
       "    .dataframe tbody tr th:only-of-type {\n",
       "        vertical-align: middle;\n",
       "    }\n",
       "\n",
       "    .dataframe tbody tr th {\n",
       "        vertical-align: top;\n",
       "    }\n",
       "\n",
       "    .dataframe thead th {\n",
       "        text-align: right;\n",
       "    }\n",
       "</style>\n",
       "<table border=\"1\" class=\"dataframe\">\n",
       "  <thead>\n",
       "    <tr style=\"text-align: right;\">\n",
       "      <th></th>\n",
       "      <th>subject_id</th>\n",
       "      <th>emar_id</th>\n",
       "      <th>emar_seq</th>\n",
       "      <th>parent_field_ordinal</th>\n",
       "      <th>administration_type</th>\n",
       "      <th>pharmacy_id</th>\n",
       "      <th>barcode_type</th>\n",
       "      <th>reason_for_no_barcode</th>\n",
       "      <th>complete_dose_not_given</th>\n",
       "      <th>dose_due</th>\n",
       "      <th>...</th>\n",
       "      <th>infusion_rate_unit</th>\n",
       "      <th>route</th>\n",
       "      <th>infusion_complete</th>\n",
       "      <th>completion_interval</th>\n",
       "      <th>new_iv_bag_hung</th>\n",
       "      <th>continued_infusion_in_other_location</th>\n",
       "      <th>restart_interval</th>\n",
       "      <th>side</th>\n",
       "      <th>site</th>\n",
       "      <th>non_formulary_visual_verification</th>\n",
       "    </tr>\n",
       "  </thead>\n",
       "  <tbody>\n",
       "    <tr>\n",
       "      <th>0</th>\n",
       "      <td>10000032</td>\n",
       "      <td>10000032-10</td>\n",
       "      <td>10</td>\n",
       "      <td>1.1</td>\n",
       "      <td>NaN</td>\n",
       "      <td>48770010.0</td>\n",
       "      <td>if</td>\n",
       "      <td>NaN</td>\n",
       "      <td>NaN</td>\n",
       "      <td>NaN</td>\n",
       "      <td>...</td>\n",
       "      <td>NaN</td>\n",
       "      <td>NaN</td>\n",
       "      <td>NaN</td>\n",
       "      <td>NaN</td>\n",
       "      <td>NaN</td>\n",
       "      <td>NaN</td>\n",
       "      <td>NaN</td>\n",
       "      <td>NaN</td>\n",
       "      <td>NaN</td>\n",
       "      <td>NaN</td>\n",
       "    </tr>\n",
       "    <tr>\n",
       "      <th>1</th>\n",
       "      <td>10000032</td>\n",
       "      <td>10000032-10</td>\n",
       "      <td>10</td>\n",
       "      <td>1.2</td>\n",
       "      <td>NaN</td>\n",
       "      <td>48770010.0</td>\n",
       "      <td>if</td>\n",
       "      <td>NaN</td>\n",
       "      <td>NaN</td>\n",
       "      <td>NaN</td>\n",
       "      <td>...</td>\n",
       "      <td>NaN</td>\n",
       "      <td>NaN</td>\n",
       "      <td>NaN</td>\n",
       "      <td>NaN</td>\n",
       "      <td>NaN</td>\n",
       "      <td>NaN</td>\n",
       "      <td>NaN</td>\n",
       "      <td>NaN</td>\n",
       "      <td>NaN</td>\n",
       "      <td>NaN</td>\n",
       "    </tr>\n",
       "    <tr>\n",
       "      <th>2</th>\n",
       "      <td>10000032</td>\n",
       "      <td>10000032-10</td>\n",
       "      <td>10</td>\n",
       "      <td>1.3</td>\n",
       "      <td>NaN</td>\n",
       "      <td>48770010.0</td>\n",
       "      <td>if</td>\n",
       "      <td>NaN</td>\n",
       "      <td>NaN</td>\n",
       "      <td>NaN</td>\n",
       "      <td>...</td>\n",
       "      <td>NaN</td>\n",
       "      <td>NaN</td>\n",
       "      <td>NaN</td>\n",
       "      <td>NaN</td>\n",
       "      <td>NaN</td>\n",
       "      <td>NaN</td>\n",
       "      <td>NaN</td>\n",
       "      <td>NaN</td>\n",
       "      <td>NaN</td>\n",
       "      <td>NaN</td>\n",
       "    </tr>\n",
       "    <tr>\n",
       "      <th>3</th>\n",
       "      <td>10000032</td>\n",
       "      <td>10000032-10</td>\n",
       "      <td>10</td>\n",
       "      <td>1.4</td>\n",
       "      <td>NaN</td>\n",
       "      <td>48770010.0</td>\n",
       "      <td>if</td>\n",
       "      <td>NaN</td>\n",
       "      <td>NaN</td>\n",
       "      <td>NaN</td>\n",
       "      <td>...</td>\n",
       "      <td>NaN</td>\n",
       "      <td>NaN</td>\n",
       "      <td>NaN</td>\n",
       "      <td>NaN</td>\n",
       "      <td>NaN</td>\n",
       "      <td>NaN</td>\n",
       "      <td>NaN</td>\n",
       "      <td>NaN</td>\n",
       "      <td>NaN</td>\n",
       "      <td>NaN</td>\n",
       "    </tr>\n",
       "    <tr>\n",
       "      <th>4</th>\n",
       "      <td>10000032</td>\n",
       "      <td>10000032-10</td>\n",
       "      <td>10</td>\n",
       "      <td>NaN</td>\n",
       "      <td>Standard Maintenance Medication</td>\n",
       "      <td>NaN</td>\n",
       "      <td>NaN</td>\n",
       "      <td>NaN</td>\n",
       "      <td>No</td>\n",
       "      <td>40</td>\n",
       "      <td>...</td>\n",
       "      <td>NaN</td>\n",
       "      <td>NaN</td>\n",
       "      <td>NaN</td>\n",
       "      <td>NaN</td>\n",
       "      <td>NaN</td>\n",
       "      <td>NaN</td>\n",
       "      <td>NaN</td>\n",
       "      <td>NaN</td>\n",
       "      <td>NaN</td>\n",
       "      <td>NaN</td>\n",
       "    </tr>\n",
       "  </tbody>\n",
       "</table>\n",
       "<p>5 rows × 33 columns</p>\n",
       "</div>"
      ],
      "text/plain": [
       "   subject_id      emar_id  emar_seq  parent_field_ordinal  \\\n",
       "0    10000032  10000032-10        10                   1.1   \n",
       "1    10000032  10000032-10        10                   1.2   \n",
       "2    10000032  10000032-10        10                   1.3   \n",
       "3    10000032  10000032-10        10                   1.4   \n",
       "4    10000032  10000032-10        10                   NaN   \n",
       "\n",
       "               administration_type  pharmacy_id barcode_type  \\\n",
       "0                              NaN   48770010.0           if   \n",
       "1                              NaN   48770010.0           if   \n",
       "2                              NaN   48770010.0           if   \n",
       "3                              NaN   48770010.0           if   \n",
       "4  Standard Maintenance Medication          NaN          NaN   \n",
       "\n",
       "  reason_for_no_barcode complete_dose_not_given dose_due  ...  \\\n",
       "0                   NaN                     NaN      NaN  ...   \n",
       "1                   NaN                     NaN      NaN  ...   \n",
       "2                   NaN                     NaN      NaN  ...   \n",
       "3                   NaN                     NaN      NaN  ...   \n",
       "4                   NaN                      No       40  ...   \n",
       "\n",
       "  infusion_rate_unit route infusion_complete completion_interval  \\\n",
       "0                NaN   NaN               NaN                 NaN   \n",
       "1                NaN   NaN               NaN                 NaN   \n",
       "2                NaN   NaN               NaN                 NaN   \n",
       "3                NaN   NaN               NaN                 NaN   \n",
       "4                NaN   NaN               NaN                 NaN   \n",
       "\n",
       "  new_iv_bag_hung continued_infusion_in_other_location restart_interval side  \\\n",
       "0             NaN                                  NaN              NaN  NaN   \n",
       "1             NaN                                  NaN              NaN  NaN   \n",
       "2             NaN                                  NaN              NaN  NaN   \n",
       "3             NaN                                  NaN              NaN  NaN   \n",
       "4             NaN                                  NaN              NaN  NaN   \n",
       "\n",
       "  site non_formulary_visual_verification  \n",
       "0  NaN                               NaN  \n",
       "1  NaN                               NaN  \n",
       "2  NaN                               NaN  \n",
       "3  NaN                               NaN  \n",
       "4  NaN                               NaN  \n",
       "\n",
       "[5 rows x 33 columns]"
      ]
     },
     "execution_count": 16,
     "metadata": {},
     "output_type": "execute_result"
    }
   ],
   "source": [
    "df_emar_detail = pd.read_csv(f'{mimiciv_dir}/emar_detail.csv', low_memory=False)\n"
   ]
  },
  {
   "cell_type": "code",
   "execution_count": 100,
   "metadata": {},
   "outputs": [
    {
     "name": "stdout",
     "output_type": "stream",
     "text": [
      "27464367\n",
      "35656372\n"
     ]
    }
   ],
   "source": [
    "print(df_emar_detail.drop_duplicates(subset=[\"emar_id\"]).shape[0])\n",
    "print(df_emar_detail.drop_duplicates(subset=[\"emar_id\", \"route\"]).shape[0])"
   ]
  },
  {
   "cell_type": "markdown",
   "metadata": {},
   "source": [
    "## Part II: ICD Code Cohorting"
   ]
  },
  {
   "cell_type": "code",
   "execution_count": 42,
   "metadata": {},
   "outputs": [],
   "source": [
    "#Filter to heart failure: \n",
    "#Filter 1: long title contains \"heart failure\" AND long title doesnt contain without heart failure\n",
    "# this paper: https://academic.oup.com/aje/article/183/5/462/2462157?login=true used almost all of these for ADHF\n",
    "df_f1 = df_sub[df_sub['long_title'].str.contains('heart failure')]\n",
    "df_f1 = df_f1[~df_f1['long_title'].str.contains('without heart failure')]\n",
    "# df_f1.head(5)"
   ]
  },
  {
   "cell_type": "code",
   "execution_count": 43,
   "metadata": {},
   "outputs": [
    {
     "name": "stdout",
     "output_type": "stream",
     "text": [
      "56053\n"
     ]
    }
   ],
   "source": [
    "df_f1_hadm = df_f1[['subject_id','hadm_id','long_title', 'icd_code','icd_version']].drop_duplicates(subset=['hadm_id'])\n",
    "print(np.shape(df_f1_hadm)[0])\n",
    "n1 = np.shape(df_f1_hadm)[0]\n",
    "# df_f1_hadm.head(5)"
   ]
  },
  {
   "cell_type": "code",
   "execution_count": 44,
   "metadata": {},
   "outputs": [
    {
     "name": "stdout",
     "output_type": "stream",
     "text": [
      "55935\n"
     ]
    }
   ],
   "source": [
    "# Filter 2: Filter 1 + exclude \"XX disease with heart failure\" format (only keep HF as main target in title)\n",
    "df_f2 = df_f1[~df_f1['long_title'].str.contains('disease')]\n",
    "df_f2_hadm = df_f2[['subject_id','hadm_id','long_title', 'icd_code','icd_version']].drop_duplicates(subset=['hadm_id'])\n",
    "print(np.shape(df_f2_hadm)[0])\n",
    "hf2_icd = df_f2[['long_title', 'icd_code','icd_version']].drop_duplicates(subset=['icd_code']) #.sort_values('icd_code')\n",
    "hf2_icd\n",
    "n2 = np.shape(df_f2_hadm)[0]"
   ]
  },
  {
   "cell_type": "code",
   "execution_count": 45,
   "metadata": {},
   "outputs": [
    {
     "data": {
      "text/plain": [
       "55857"
      ]
     },
     "execution_count": 45,
     "metadata": {},
     "output_type": "execute_result"
    }
   ],
   "source": [
    "# Filter 5: Filter 1+2+ Use I50+ and 428+\n",
    "# source: https://icd.codes/icd10cm/I503 \"The ICD code I50 is used to code Acute decompensated heart failure\"\n",
    "df_f5 = df_f2[df_f2['icd_code'].str.contains('428') | df_f2['icd_code'].str.contains('I50')]\n",
    "df_f5_hadm = df_f5[['subject_id','hadm_id','long_title', 'icd_code','icd_version']].drop_duplicates(subset=['hadm_id'])\n",
    "n5=(np.shape(df_f5_hadm)[0])\n",
    "n5"
   ]
  },
  {
   "cell_type": "code",
   "execution_count": 46,
   "metadata": {},
   "outputs": [
    {
     "data": {
      "text/plain": [
       "42892"
      ]
     },
     "execution_count": 46,
     "metadata": {},
     "output_type": "execute_result"
    }
   ],
   "source": [
    "# Filter 6: Filter 1+2+5+ exclude acute only, exclude chronic only, keep acute on chronic or specified\n",
    "# source: NA_CARE_Prov_ICD_10_CM_Documentation_and_Coding_Best_Practices_Heart_Failure_v3_ENG_2019 pdf\n",
    "df_f6 = df_f5[~df_f5['long_title'].str.contains('acute')  | df_f5['long_title'].str.contains('acute on chronic') ]\n",
    "df_f6 = df_f6[~df_f6['long_title'].str.contains('chronic')  | df_f6['long_title'].str.contains('acute on chronic') ]\n",
    "df_f6_hadm = df_f6[['subject_id','hadm_id','long_title', 'icd_code','icd_version']].drop_duplicates(subset=['hadm_id'])\n",
    "n6 = (np.shape(df_f6_hadm)[0])\n",
    "n6"
   ]
  },
  {
   "cell_type": "code",
   "execution_count": 47,
   "metadata": {},
   "outputs": [
    {
     "data": {
      "text/plain": [
       "42865"
      ]
     },
     "execution_count": 47,
     "metadata": {},
     "output_type": "execute_result"
    }
   ],
   "source": [
    "# Filter 7: Filter 1+2+5+6 exclude end stage\n",
    "# It is important to distinguish between AdHF and end-stage HF\n",
    "# source https://www.ncbi.nlm.nih.gov/pmc/articles/PMC6963179/\n",
    "df_f7 = df_f6[~df_f6['long_title'].str.contains('end stage')]\n",
    "df_f7_hadm = df_f7[['subject_id','hadm_id','long_title', 'icd_code','icd_version']].drop_duplicates(subset=['hadm_id'])\n",
    "n7 = (np.shape(df_f7_hadm)[0])\n",
    "n7"
   ]
  },
  {
   "cell_type": "code",
   "execution_count": 48,
   "metadata": {},
   "outputs": [
    {
     "data": {
      "text/html": [
       "<div>\n",
       "<style scoped>\n",
       "    .dataframe tbody tr th:only-of-type {\n",
       "        vertical-align: middle;\n",
       "    }\n",
       "\n",
       "    .dataframe tbody tr th {\n",
       "        vertical-align: top;\n",
       "    }\n",
       "\n",
       "    .dataframe thead th {\n",
       "        text-align: right;\n",
       "    }\n",
       "</style>\n",
       "<table border=\"1\" class=\"dataframe\">\n",
       "  <thead>\n",
       "    <tr style=\"text-align: right;\">\n",
       "      <th></th>\n",
       "      <th>subject_id</th>\n",
       "      <th>hadm_id</th>\n",
       "      <th>long_title</th>\n",
       "      <th>icd_code</th>\n",
       "      <th>icd_version</th>\n",
       "    </tr>\n",
       "  </thead>\n",
       "  <tbody>\n",
       "    <tr>\n",
       "      <th>886</th>\n",
       "      <td>16569548</td>\n",
       "      <td>24870770</td>\n",
       "      <td>congestive heart failure, unspecified</td>\n",
       "      <td>4280</td>\n",
       "      <td>9</td>\n",
       "    </tr>\n",
       "    <tr>\n",
       "      <th>1050</th>\n",
       "      <td>18460230</td>\n",
       "      <td>25771608</td>\n",
       "      <td>congestive heart failure, unspecified</td>\n",
       "      <td>4280</td>\n",
       "      <td>9</td>\n",
       "    </tr>\n",
       "    <tr>\n",
       "      <th>2342</th>\n",
       "      <td>19661870</td>\n",
       "      <td>22135027</td>\n",
       "      <td>congestive heart failure, unspecified</td>\n",
       "      <td>4280</td>\n",
       "      <td>9</td>\n",
       "    </tr>\n",
       "    <tr>\n",
       "      <th>2683</th>\n",
       "      <td>18932584</td>\n",
       "      <td>23973570</td>\n",
       "      <td>congestive heart failure, unspecified</td>\n",
       "      <td>4280</td>\n",
       "      <td>9</td>\n",
       "    </tr>\n",
       "    <tr>\n",
       "      <th>2961</th>\n",
       "      <td>16723797</td>\n",
       "      <td>28913496</td>\n",
       "      <td>congestive heart failure, unspecified</td>\n",
       "      <td>4280</td>\n",
       "      <td>9</td>\n",
       "    </tr>\n",
       "  </tbody>\n",
       "</table>\n",
       "</div>"
      ],
      "text/plain": [
       "      subject_id   hadm_id                             long_title icd_code  \\\n",
       "886     16569548  24870770  congestive heart failure, unspecified  4280      \n",
       "1050    18460230  25771608  congestive heart failure, unspecified  4280      \n",
       "2342    19661870  22135027  congestive heart failure, unspecified  4280      \n",
       "2683    18932584  23973570  congestive heart failure, unspecified  4280      \n",
       "2961    16723797  28913496  congestive heart failure, unspecified  4280      \n",
       "\n",
       "      icd_version  \n",
       "886             9  \n",
       "1050            9  \n",
       "2342            9  \n",
       "2683            9  \n",
       "2961            9  "
      ]
     },
     "execution_count": 48,
     "metadata": {},
     "output_type": "execute_result"
    }
   ],
   "source": [
    "df_f7_hadm.head()"
   ]
  },
  {
   "cell_type": "markdown",
   "metadata": {},
   "source": [
    "## Part III: DRG codes"
   ]
  },
  {
   "cell_type": "code",
   "execution_count": 49,
   "metadata": {},
   "outputs": [],
   "source": [
    "drgcodes = pd.read_csv(f'{mimiciv_dir}/drgcodes.csv', low_memory=False)"
   ]
  },
  {
   "cell_type": "code",
   "execution_count": 50,
   "metadata": {},
   "outputs": [],
   "source": [
    "# merge tables\n",
    "df_ids_icds = pd.merge(df_event, df_code, on = ['icd_code','icd_version'], how='left')\n",
    "df_merged = pd.merge(df_ids_icds, drgcodes, on = ['hadm_id', 'subject_id'], how='left')\n",
    "df_merged = df_merged.drop(columns=['drg_severity', 'drg_mortality'])"
   ]
  },
  {
   "cell_type": "code",
   "execution_count": 51,
   "metadata": {},
   "outputs": [],
   "source": [
    "# drop any rows that don't have a drg_code\n",
    "df_merged = df_merged.dropna(subset=['drg_code'], how='any')"
   ]
  },
  {
   "cell_type": "code",
   "execution_count": 52,
   "metadata": {},
   "outputs": [],
   "source": [
    "# select rows where DRG code contains \"hf\" or \"heart failure\"\n",
    "df_sub = df_merged[df_merged['description'].str.contains('hf|heart failure', case=False)]\n",
    "# there are some drg codes that specify \"w/o hf\" or \"w/o heart failure\" - don't include those rows\n",
    "df_sub = df_sub[~df_sub['description'].str.contains('W/O AMI/HF/SHOCK|W/O AMI, HEART FAILURE OR SHOCK', case=False)]"
   ]
  },
  {
   "cell_type": "code",
   "execution_count": 54,
   "metadata": {},
   "outputs": [],
   "source": [
    "# remove the hadm_ids that have a long title with heart failure in them, since the ICD codes already account for them\n",
    "df_sub = df_sub.dropna(subset=['icd_code','icd_version','hadm_id','subject_id','long_title'], how='any')\n",
    "\n",
    "no_hf_icd = []\n",
    "for hadm_id in df_sub.hadm_id.unique():\n",
    "    df_hadm_id = df_sub[df_sub['hadm_id'] == hadm_id]\n",
    "    if len(df_hadm_id[df_hadm_id['long_title'].str.contains('heart failure', case=False)]) == 0:\n",
    "        no_hf_icd.append(hadm_id)\n",
    "df_no_hf_icd = df_sub[df_sub['hadm_id'].isin(no_hf_icd)]"
   ]
  },
  {
   "cell_type": "code",
   "execution_count": 55,
   "metadata": {},
   "outputs": [],
   "source": [
    "# only keep rows where ICD codes include:\n",
    "#\" cardiogenic shock\", \"left ventricular failure, unspecified\", \"shock, unspecified\", or pleural effusion or fluid overload\n",
    "df_no_hf_icd = df_no_hf_icd[df_no_hf_icd['long_title'].str.contains('cardiogenic shock|left ventricular failure, unspecified|shock, unspecified|Pleural effusion, not elsewhere classified|Fluid overload, unspecified', case=False)]\n",
    "df_no_hf_icd_hadm = df_no_hf_icd[['subject_id','hadm_id','long_title', 'icd_code','icd_version', 'description']].drop_duplicates(subset=['hadm_id'])"
   ]
  },
  {
   "cell_type": "markdown",
   "metadata": {},
   "source": [
    "## Part IV: IV Diuretics"
   ]
  },
  {
   "cell_type": "code",
   "execution_count": 78,
   "metadata": {},
   "outputs": [
    {
     "data": {
      "text/plain": [
       "42883"
      ]
     },
     "execution_count": 78,
     "metadata": {},
     "output_type": "execute_result"
    }
   ],
   "source": [
    "chf_hadm = df_f7_hadm.hadm_id.append(df_no_hf_icd_hadm.hadm_id).unique() # 51322 hadm\n",
    "len(chf_hadm)"
   ]
  },
  {
   "cell_type": "code",
   "execution_count": 58,
   "metadata": {},
   "outputs": [],
   "source": [
    "df_diuretics = pd.DataFrame({'furosemide': (df_emar['medication'].str.contains('furosemide', case=False, na=False) | df_emar['medication'].str.contains('lasix', case=False, na=False)) & ~df_emar['medication'].str.contains('Desensitization', case=False, na=False), \n",
    "                   'bumetanide': (df_emar['medication'].str.contains('bumetanide', case=False, na=False) | df_emar['medication'].str.contains('bumex', case=False, na=False)) & ~df_emar['medication'].str.contains('Desensitization', case=False, na=False), \n",
    "                   'chlorothiazide': (df_emar['medication'].str.contains('chlorothiazide', case=False, na=False) | df_emar['medication'].str.contains('diuril', case=False, na=False)) & ~df_emar['medication'].str.contains('Desensitization', case=False, na=False) & ~df_emar['medication'].str.contains('hydrochlorothiazide', case=False, na=False)})"
   ]
  },
  {
   "cell_type": "code",
   "execution_count": 59,
   "metadata": {},
   "outputs": [],
   "source": [
    "# prescriptions for diuretics\n",
    "given_diuretic = df_diuretics.any(axis=1)"
   ]
  },
  {
   "cell_type": "code",
   "execution_count": 104,
   "metadata": {},
   "outputs": [
    {
     "ename": "NameError",
     "evalue": "name 'df_emar_details' is not defined",
     "output_type": "error",
     "traceback": [
      "\u001b[0;31m---------------------------------------------------------------------------\u001b[0m",
      "\u001b[0;31mNameError\u001b[0m                                 Traceback (most recent call last)",
      "\u001b[0;32m<ipython-input-104-8ca2455707fa>\u001b[0m in \u001b[0;36m<module>\u001b[0;34m\u001b[0m\n\u001b[1;32m      2\u001b[0m \u001b[0mroute_iv_detail\u001b[0m \u001b[0;34m=\u001b[0m \u001b[0mdf_emar_detail\u001b[0m\u001b[0;34m.\u001b[0m\u001b[0mroute\u001b[0m\u001b[0;34m.\u001b[0m\u001b[0mstr\u001b[0m\u001b[0;34m.\u001b[0m\u001b[0mcontains\u001b[0m\u001b[0;34m(\u001b[0m\u001b[0;34m'IV'\u001b[0m\u001b[0;34m,\u001b[0m \u001b[0mcase\u001b[0m\u001b[0;34m=\u001b[0m\u001b[0;32mFalse\u001b[0m\u001b[0;34m,\u001b[0m \u001b[0mna\u001b[0m\u001b[0;34m=\u001b[0m\u001b[0;32mFalse\u001b[0m\u001b[0;34m)\u001b[0m\u001b[0;34m\u001b[0m\u001b[0;34m\u001b[0m\u001b[0m\n\u001b[1;32m      3\u001b[0m \u001b[0mroute_not_iv_detail\u001b[0m \u001b[0;34m=\u001b[0m \u001b[0;34m~\u001b[0m\u001b[0mdf_emar_detail\u001b[0m\u001b[0;34m.\u001b[0m\u001b[0mroute\u001b[0m\u001b[0;34m.\u001b[0m\u001b[0mstr\u001b[0m\u001b[0;34m.\u001b[0m\u001b[0mcontains\u001b[0m\u001b[0;34m(\u001b[0m\u001b[0;34m'IV'\u001b[0m\u001b[0;34m,\u001b[0m \u001b[0mcase\u001b[0m\u001b[0;34m=\u001b[0m\u001b[0;32mFalse\u001b[0m\u001b[0;34m,\u001b[0m \u001b[0mna\u001b[0m\u001b[0;34m=\u001b[0m\u001b[0;32mTrue\u001b[0m\u001b[0;34m)\u001b[0m\u001b[0;34m\u001b[0m\u001b[0;34m\u001b[0m\u001b[0m\n\u001b[0;32m----> 4\u001b[0;31m \u001b[0mnum_emar_details\u001b[0m \u001b[0;34m=\u001b[0m \u001b[0mdf_emar_details\u001b[0m\u001b[0;34m.\u001b[0m\u001b[0mshape\u001b[0m\u001b[0;34m[\u001b[0m\u001b[0;36m0\u001b[0m\u001b[0;34m]\u001b[0m\u001b[0;34m\u001b[0m\u001b[0;34m\u001b[0m\u001b[0m\n\u001b[0m\u001b[1;32m      5\u001b[0m \u001b[0mroute_iv\u001b[0m \u001b[0;34m=\u001b[0m \u001b[0mnp\u001b[0m\u001b[0;34m.\u001b[0m\u001b[0mzeros\u001b[0m\u001b[0;34m(\u001b[0m\u001b[0;34m(\u001b[0m\u001b[0mdf_emar\u001b[0m\u001b[0;34m.\u001b[0m\u001b[0mshape\u001b[0m\u001b[0;34m[\u001b[0m\u001b[0;36m0\u001b[0m\u001b[0;34m]\u001b[0m\u001b[0;34m,\u001b[0m \u001b[0;36m1\u001b[0m\u001b[0;34m)\u001b[0m\u001b[0;34m,\u001b[0m \u001b[0mdtype\u001b[0m\u001b[0;34m=\u001b[0m\u001b[0mbool\u001b[0m\u001b[0;34m)\u001b[0m\u001b[0;34m\u001b[0m\u001b[0;34m\u001b[0m\u001b[0m\n\u001b[1;32m      6\u001b[0m \u001b[0mroute_not_iv\u001b[0m \u001b[0;34m=\u001b[0m \u001b[0mnp\u001b[0m\u001b[0;34m.\u001b[0m\u001b[0mzeros\u001b[0m\u001b[0;34m(\u001b[0m\u001b[0;34m(\u001b[0m\u001b[0mdf_emar\u001b[0m\u001b[0;34m.\u001b[0m\u001b[0mshape\u001b[0m\u001b[0;34m[\u001b[0m\u001b[0;36m0\u001b[0m\u001b[0;34m]\u001b[0m\u001b[0;34m,\u001b[0m \u001b[0;36m1\u001b[0m\u001b[0;34m)\u001b[0m\u001b[0;34m,\u001b[0m \u001b[0mdtype\u001b[0m\u001b[0;34m=\u001b[0m\u001b[0mbool\u001b[0m\u001b[0;34m)\u001b[0m\u001b[0;34m\u001b[0m\u001b[0;34m\u001b[0m\u001b[0m\n",
      "\u001b[0;31mNameError\u001b[0m: name 'df_emar_details' is not defined"
     ]
    }
   ],
   "source": [
    "# Determine which meds are given by IV (route_iv_detail) and which are given by another route (route_not_iv_detail)\n",
    "route_iv_detail = df_emar_detail.route.str.contains('IV', case=False, na=False)\n",
    "route_not_iv_detail = ~df_emar_detail.route.str.contains('IV', case=False, na=True)\n",
    "\n"
   ]
  },
  {
   "cell_type": "code",
   "execution_count": 112,
   "metadata": {},
   "outputs": [
    {
     "name": "stdout",
     "output_type": "stream",
     "text": [
      "0\n",
      "100000\n",
      "200000\n",
      "300000\n",
      "400000\n",
      "500000\n",
      "600000\n",
      "700000\n",
      "800000\n",
      "900000\n",
      "1000000\n",
      "1100000\n",
      "1200000\n",
      "1300000\n",
      "1400000\n",
      "1500000\n",
      "1600000\n",
      "1700000\n",
      "1800000\n",
      "1900000\n",
      "2000000\n",
      "2100000\n",
      "2200000\n",
      "2300000\n",
      "2400000\n",
      "2500000\n",
      "2600000\n",
      "2700000\n",
      "2800000\n",
      "2900000\n",
      "3000000\n",
      "3100000\n",
      "3200000\n",
      "3300000\n",
      "3400000\n",
      "3500000\n",
      "3600000\n",
      "3700000\n",
      "3800000\n",
      "3900000\n",
      "4000000\n",
      "4100000\n",
      "4200000\n",
      "4300000\n",
      "4400000\n",
      "4500000\n",
      "4600000\n",
      "4700000\n",
      "4800000\n",
      "4900000\n",
      "5000000\n",
      "5100000\n",
      "5200000\n",
      "5300000\n",
      "5400000\n",
      "5500000\n",
      "5600000\n",
      "5700000\n",
      "5800000\n",
      "5900000\n",
      "6000000\n",
      "6100000\n",
      "6200000\n",
      "6300000\n",
      "6400000\n",
      "6500000\n",
      "6600000\n",
      "6700000\n",
      "6800000\n",
      "6900000\n",
      "7000000\n",
      "7100000\n",
      "7200000\n",
      "7300000\n",
      "7400000\n",
      "7500000\n",
      "7600000\n",
      "7700000\n",
      "7800000\n",
      "7900000\n",
      "8000000\n",
      "8100000\n",
      "8200000\n",
      "8300000\n",
      "8400000\n",
      "8500000\n",
      "8600000\n",
      "8700000\n",
      "8800000\n",
      "8900000\n",
      "9000000\n",
      "9100000\n",
      "9200000\n",
      "9300000\n",
      "9400000\n",
      "9500000\n",
      "9600000\n",
      "9700000\n",
      "9800000\n",
      "9900000\n",
      "10000000\n",
      "10100000\n",
      "10200000\n",
      "10300000\n",
      "10400000\n",
      "10500000\n",
      "10600000\n",
      "10700000\n",
      "10800000\n",
      "10900000\n",
      "11000000\n",
      "11100000\n",
      "11200000\n",
      "11300000\n",
      "11400000\n",
      "11500000\n",
      "11600000\n",
      "11700000\n",
      "11800000\n",
      "11900000\n",
      "12000000\n",
      "12100000\n",
      "12200000\n",
      "12300000\n",
      "12400000\n",
      "12500000\n",
      "12600000\n",
      "12700000\n",
      "12800000\n",
      "12900000\n",
      "13000000\n",
      "13100000\n",
      "13200000\n",
      "13300000\n",
      "13400000\n",
      "13500000\n",
      "13600000\n",
      "13700000\n",
      "13800000\n",
      "13900000\n",
      "14000000\n",
      "14100000\n",
      "14200000\n",
      "14300000\n",
      "14400000\n",
      "14500000\n",
      "14600000\n",
      "14700000\n",
      "14800000\n",
      "14900000\n",
      "15000000\n",
      "15100000\n",
      "15200000\n",
      "15300000\n",
      "15400000\n",
      "15500000\n",
      "15600000\n",
      "15700000\n",
      "15800000\n",
      "15900000\n",
      "16000000\n",
      "16100000\n",
      "16200000\n",
      "16300000\n",
      "16400000\n",
      "16500000\n",
      "16600000\n",
      "16700000\n",
      "16800000\n",
      "16900000\n",
      "17000000\n",
      "17100000\n",
      "17200000\n",
      "17300000\n",
      "17400000\n",
      "17500000\n",
      "17600000\n",
      "17700000\n",
      "17800000\n",
      "17900000\n",
      "18000000\n",
      "18100000\n",
      "18200000\n",
      "18300000\n",
      "18400000\n",
      "18500000\n",
      "18600000\n",
      "18700000\n",
      "18800000\n",
      "18900000\n",
      "19000000\n",
      "19100000\n",
      "19200000\n",
      "19300000\n",
      "19400000\n",
      "19500000\n",
      "19600000\n",
      "19700000\n",
      "19800000\n",
      "19900000\n",
      "20000000\n",
      "20100000\n",
      "20200000\n",
      "20300000\n",
      "20400000\n",
      "20500000\n",
      "20600000\n",
      "20700000\n",
      "20800000\n",
      "20900000\n",
      "21000000\n",
      "21100000\n",
      "21200000\n",
      "21300000\n",
      "21400000\n",
      "21500000\n",
      "21600000\n",
      "21700000\n",
      "21800000\n",
      "21900000\n",
      "22000000\n",
      "22100000\n",
      "22200000\n",
      "22300000\n",
      "22400000\n",
      "22500000\n",
      "22600000\n",
      "22700000\n",
      "22800000\n",
      "22900000\n",
      "23000000\n",
      "23100000\n",
      "23200000\n",
      "23300000\n",
      "23400000\n",
      "23500000\n",
      "23600000\n",
      "23700000\n",
      "23800000\n",
      "23900000\n",
      "24000000\n",
      "24100000\n",
      "24200000\n",
      "24300000\n",
      "24400000\n",
      "24500000\n",
      "24600000\n",
      "24700000\n",
      "24800000\n",
      "24900000\n",
      "25000000\n",
      "25100000\n",
      "25200000\n",
      "25300000\n",
      "25400000\n",
      "25500000\n",
      "25600000\n",
      "25700000\n",
      "25800000\n",
      "25900000\n",
      "26000000\n",
      "26100000\n",
      "26200000\n",
      "26300000\n",
      "26400000\n",
      "26500000\n",
      "26600000\n",
      "26700000\n",
      "26800000\n",
      "26900000\n",
      "27000000\n",
      "27100000\n",
      "27200000\n",
      "27300000\n",
      "27400000\n",
      "27500000\n",
      "27600000\n",
      "27700000\n",
      "27800000\n",
      "27900000\n",
      "28000000\n",
      "28100000\n",
      "28200000\n",
      "28300000\n",
      "28400000\n",
      "28500000\n",
      "28600000\n",
      "28700000\n",
      "28800000\n",
      "28900000\n",
      "29000000\n",
      "29100000\n",
      "29200000\n",
      "29300000\n",
      "29400000\n",
      "29500000\n",
      "29600000\n",
      "29700000\n",
      "29800000\n",
      "29900000\n",
      "30000000\n",
      "30100000\n",
      "30200000\n",
      "30300000\n",
      "30400000\n",
      "30500000\n",
      "30600000\n",
      "30700000\n",
      "30800000\n",
      "30900000\n",
      "31000000\n",
      "31100000\n",
      "31200000\n",
      "31300000\n",
      "31400000\n",
      "31500000\n",
      "31600000\n",
      "31700000\n",
      "31800000\n",
      "31900000\n",
      "32000000\n",
      "32100000\n",
      "32200000\n",
      "32300000\n",
      "32400000\n",
      "32500000\n",
      "32600000\n",
      "32700000\n",
      "32800000\n",
      "32900000\n",
      "33000000\n",
      "33100000\n",
      "33200000\n",
      "33300000\n",
      "33400000\n",
      "33500000\n",
      "33600000\n",
      "33700000\n",
      "33800000\n",
      "33900000\n",
      "34000000\n",
      "34100000\n",
      "34200000\n",
      "34300000\n",
      "34400000\n",
      "34500000\n",
      "34600000\n",
      "34700000\n",
      "34800000\n",
      "34900000\n",
      "35000000\n",
      "35100000\n",
      "35200000\n",
      "35300000\n",
      "35400000\n",
      "35500000\n",
      "35600000\n",
      "35700000\n",
      "35800000\n",
      "35900000\n",
      "36000000\n",
      "36100000\n",
      "36200000\n",
      "36300000\n",
      "36400000\n",
      "36500000\n",
      "36600000\n",
      "36700000\n",
      "36800000\n",
      "36900000\n",
      "37000000\n",
      "37100000\n",
      "37200000\n",
      "37300000\n",
      "37400000\n",
      "37500000\n",
      "37600000\n",
      "37700000\n",
      "37800000\n",
      "37900000\n",
      "38000000\n",
      "38100000\n",
      "38200000\n",
      "38300000\n",
      "38400000\n",
      "38500000\n",
      "38600000\n",
      "38700000\n",
      "38800000\n",
      "38900000\n",
      "39000000\n",
      "39100000\n",
      "39200000\n",
      "39300000\n",
      "39400000\n",
      "39500000\n",
      "39600000\n",
      "39700000\n",
      "39800000\n",
      "39900000\n",
      "40000000\n",
      "40100000\n",
      "40200000\n",
      "40300000\n",
      "40400000\n",
      "40500000\n",
      "40600000\n",
      "40700000\n",
      "40800000\n",
      "40900000\n",
      "41000000\n",
      "41100000\n",
      "41200000\n",
      "41300000\n",
      "41400000\n",
      "41500000\n",
      "41600000\n",
      "41700000\n",
      "41800000\n",
      "41900000\n",
      "42000000\n",
      "42100000\n",
      "42200000\n",
      "42300000\n",
      "42400000\n",
      "42500000\n",
      "42600000\n",
      "42700000\n",
      "42800000\n",
      "42900000\n",
      "43000000\n",
      "43100000\n",
      "43200000\n",
      "43300000\n",
      "43400000\n",
      "43500000\n",
      "43600000\n",
      "43700000\n",
      "43800000\n",
      "43900000\n",
      "44000000\n",
      "44100000\n",
      "44200000\n",
      "44300000\n",
      "44400000\n",
      "44500000\n",
      "44600000\n",
      "44700000\n",
      "44800000\n",
      "44900000\n",
      "45000000\n",
      "45100000\n",
      "45200000\n",
      "45300000\n",
      "45400000\n",
      "45500000\n",
      "45600000\n",
      "45700000\n",
      "45800000\n",
      "45900000\n",
      "46000000\n",
      "46100000\n",
      "46200000\n",
      "46300000\n",
      "46400000\n",
      "46500000\n",
      "46600000\n",
      "46700000\n",
      "46800000\n",
      "46900000\n",
      "47000000\n",
      "47100000\n",
      "47200000\n",
      "47300000\n",
      "47400000\n",
      "47500000\n",
      "47600000\n",
      "47700000\n",
      "47800000\n",
      "47900000\n",
      "48000000\n",
      "48100000\n",
      "48200000\n",
      "48300000\n",
      "48400000\n",
      "48500000\n",
      "48600000\n",
      "48700000\n",
      "48800000\n",
      "48900000\n",
      "49000000\n",
      "49100000\n",
      "49200000\n",
      "49300000\n",
      "49400000\n",
      "49500000\n",
      "49600000\n",
      "49700000\n",
      "49800000\n",
      "49900000\n",
      "50000000\n",
      "50100000\n",
      "50200000\n",
      "50300000\n",
      "50400000\n",
      "50500000\n",
      "50600000\n",
      "50700000\n",
      "50800000\n",
      "50900000\n",
      "51000000\n",
      "51100000\n",
      "51200000\n",
      "51300000\n",
      "51400000\n",
      "51500000\n",
      "51600000\n",
      "51700000\n",
      "51800000\n",
      "51900000\n",
      "52000000\n",
      "52100000\n",
      "52200000\n",
      "52300000\n",
      "52400000\n",
      "52500000\n",
      "52600000\n",
      "52700000\n",
      "52800000\n",
      "52900000\n",
      "53000000\n",
      "53100000\n",
      "53200000\n",
      "53300000\n",
      "53400000\n",
      "53500000\n",
      "53600000\n",
      "53700000\n",
      "53800000\n",
      "53900000\n",
      "54000000\n",
      "54100000\n",
      "54200000\n",
      "54300000\n",
      "54400000\n",
      "54500000\n",
      "54600000\n",
      "54700000\n",
      "54800000\n",
      "54900000\n",
      "55000000\n",
      "55100000\n",
      "55200000\n",
      "55300000\n",
      "55400000\n",
      "55500000\n",
      "55600000\n",
      "55700000\n",
      "55800000\n",
      "55900000\n"
     ]
    }
   ],
   "source": [
    "# Convert above values to have one value per emar\n",
    "from collections import defaultdict\n",
    "num_emar_details = df_emar_detail.shape[0]\n",
    "route_iv = defaultdict(lambda:False)\n",
    "route_not_iv = defaultdict(lambda:False)\n",
    "\n",
    "for i in range(num_emar_details):\n",
    "    emar_id = df_emar_detail.emar_id[i]\n",
    "    route_iv[emar_id] = route_iv[emar_id] or route_iv_detail[i]\n",
    "    route_not_iv[emar_id] = route_not_iv[emar_id] or route_not_iv_detail[i]\n",
    "    \n",
    "    if i % 100000 == 0:\n",
    "        print(i)\n",
    "        "
   ]
  },
  {
   "cell_type": "code",
   "execution_count": 115,
   "metadata": {},
   "outputs": [
    {
     "name": "stdout",
     "output_type": "stream",
     "text": [
      "19269990\n"
     ]
    }
   ],
   "source": [
    "route_iv_idx = np.array([not route_not_iv[emar_id] for emar_id in df_emar.emar_id.to_numpy()])\n",
    "print(route_iv_idx.sum())"
   ]
  },
  {
   "cell_type": "code",
   "execution_count": 94,
   "metadata": {},
   "outputs": [],
   "source": [
    "# prescriptions with hadm_id associated w heart failure ICD\n",
    "in_icd = np.isin(df_emar.hadm_id, chf_hadm)\n"
   ]
  },
  {
   "cell_type": "code",
   "execution_count": 116,
   "metadata": {},
   "outputs": [],
   "source": [
    "# final cohort with all prescription fields\n",
    "cohort = df_emar[given_diuretic & in_icd & route_iv_idx]"
   ]
  },
  {
   "cell_type": "code",
   "execution_count": 117,
   "metadata": {},
   "outputs": [
    {
     "data": {
      "text/plain": [
       "array(['Furosemide', 'Furosemide-Heart Failure', 'Chlorothiazide',\n",
       "       'Bumetanide', 'Furosemide in 0.9% Sodium Chloride', 'furosemide'],\n",
       "      dtype=object)"
      ]
     },
     "execution_count": 117,
     "metadata": {},
     "output_type": "execute_result"
    }
   ],
   "source": [
    "# unique drug names to confirm no unwanted drugs are included\n",
    "cohort.medication.unique()"
   ]
  },
  {
   "cell_type": "code",
   "execution_count": 118,
   "metadata": {},
   "outputs": [
    {
     "data": {
      "text/plain": [
       "11614"
      ]
     },
     "execution_count": 118,
     "metadata": {},
     "output_type": "execute_result"
    }
   ],
   "source": [
    "cohort.hadm_id.unique().shape[0] #25691 unique HADM_IDs"
   ]
  },
  {
   "cell_type": "code",
   "execution_count": 119,
   "metadata": {},
   "outputs": [
    {
     "data": {
      "text/plain": [
       "7158"
      ]
     },
     "execution_count": 119,
     "metadata": {},
     "output_type": "execute_result"
    }
   ],
   "source": [
    "cohort.subject_id.unique().shape[0] #14757 unique SUBJECT_IDs"
   ]
  },
  {
   "cell_type": "code",
   "execution_count": 120,
   "metadata": {},
   "outputs": [],
   "source": [
    "cohort_hadm = cohort.hadm_id.unique()"
   ]
  },
  {
   "cell_type": "markdown",
   "metadata": {},
   "source": [
    "## Part V: Removing Dialysis Patients "
   ]
  },
  {
   "cell_type": "code",
   "execution_count": 121,
   "metadata": {},
   "outputs": [],
   "source": [
    "dialysis_codes = [\"Z992\", \"N186\", \"5856\", \"V4511\"]"
   ]
  },
  {
   "cell_type": "code",
   "execution_count": 122,
   "metadata": {},
   "outputs": [],
   "source": [
    "df_event[\"chronic_dialysis\"] = df_event[\"icd_code\"].str.strip().isin(dialysis_codes)"
   ]
  },
  {
   "cell_type": "code",
   "execution_count": 123,
   "metadata": {},
   "outputs": [],
   "source": [
    "dialysis_hadm = df_event[df_event[\"chronic_dialysis\"] == True].hadm_id"
   ]
  },
  {
   "cell_type": "code",
   "execution_count": 124,
   "metadata": {},
   "outputs": [],
   "source": [
    "df_event[\"chronic_dialysis\"] = df_event['hadm_id'].isin(dialysis_hadm)"
   ]
  },
  {
   "cell_type": "markdown",
   "metadata": {},
   "source": [
    "## Part VI: Final Cohort"
   ]
  },
  {
   "cell_type": "code",
   "execution_count": 125,
   "metadata": {},
   "outputs": [
    {
     "data": {
      "text/html": [
       "<div>\n",
       "<style scoped>\n",
       "    .dataframe tbody tr th:only-of-type {\n",
       "        vertical-align: middle;\n",
       "    }\n",
       "\n",
       "    .dataframe tbody tr th {\n",
       "        vertical-align: top;\n",
       "    }\n",
       "\n",
       "    .dataframe thead th {\n",
       "        text-align: right;\n",
       "    }\n",
       "</style>\n",
       "<table border=\"1\" class=\"dataframe\">\n",
       "  <thead>\n",
       "    <tr style=\"text-align: right;\">\n",
       "      <th></th>\n",
       "      <th>subject_id</th>\n",
       "      <th>hadm_id</th>\n",
       "      <th>chronic_dialysis</th>\n",
       "    </tr>\n",
       "  </thead>\n",
       "  <tbody>\n",
       "    <tr>\n",
       "      <th>0</th>\n",
       "      <td>11603789</td>\n",
       "      <td>25552978</td>\n",
       "      <td>False</td>\n",
       "    </tr>\n",
       "    <tr>\n",
       "      <th>1</th>\n",
       "      <td>11603789</td>\n",
       "      <td>25552978</td>\n",
       "      <td>False</td>\n",
       "    </tr>\n",
       "    <tr>\n",
       "      <th>2</th>\n",
       "      <td>11603789</td>\n",
       "      <td>25552978</td>\n",
       "      <td>False</td>\n",
       "    </tr>\n",
       "    <tr>\n",
       "      <th>3</th>\n",
       "      <td>11603789</td>\n",
       "      <td>25552978</td>\n",
       "      <td>False</td>\n",
       "    </tr>\n",
       "    <tr>\n",
       "      <th>4</th>\n",
       "      <td>11603789</td>\n",
       "      <td>25552978</td>\n",
       "      <td>False</td>\n",
       "    </tr>\n",
       "  </tbody>\n",
       "</table>\n",
       "</div>"
      ],
      "text/plain": [
       "   subject_id   hadm_id  chronic_dialysis\n",
       "0    11603789  25552978             False\n",
       "1    11603789  25552978             False\n",
       "2    11603789  25552978             False\n",
       "3    11603789  25552978             False\n",
       "4    11603789  25552978             False"
      ]
     },
     "execution_count": 125,
     "metadata": {},
     "output_type": "execute_result"
    }
   ],
   "source": [
    "final_cohort = df_event.drop(columns=['seq_num', 'icd_code', 'icd_version'])\n",
    "final_cohort.head()"
   ]
  },
  {
   "cell_type": "code",
   "execution_count": 126,
   "metadata": {},
   "outputs": [],
   "source": [
    "final_cohort['CHF exacerbation'] = final_cohort['hadm_id'].isin(cohort_hadm)"
   ]
  },
  {
   "cell_type": "code",
   "execution_count": 127,
   "metadata": {},
   "outputs": [],
   "source": [
    "final_cohort = final_cohort.drop_duplicates()"
   ]
  },
  {
   "cell_type": "code",
   "execution_count": 128,
   "metadata": {},
   "outputs": [
    {
     "data": {
      "text/html": [
       "<div>\n",
       "<style scoped>\n",
       "    .dataframe tbody tr th:only-of-type {\n",
       "        vertical-align: middle;\n",
       "    }\n",
       "\n",
       "    .dataframe tbody tr th {\n",
       "        vertical-align: top;\n",
       "    }\n",
       "\n",
       "    .dataframe thead th {\n",
       "        text-align: right;\n",
       "    }\n",
       "</style>\n",
       "<table border=\"1\" class=\"dataframe\">\n",
       "  <thead>\n",
       "    <tr style=\"text-align: right;\">\n",
       "      <th></th>\n",
       "      <th>subject_id</th>\n",
       "      <th>hadm_id</th>\n",
       "      <th>chronic_dialysis</th>\n",
       "      <th>CHF exacerbation</th>\n",
       "    </tr>\n",
       "  </thead>\n",
       "  <tbody>\n",
       "    <tr>\n",
       "      <th>0</th>\n",
       "      <td>11603789</td>\n",
       "      <td>25552978</td>\n",
       "      <td>False</td>\n",
       "      <td>False</td>\n",
       "    </tr>\n",
       "    <tr>\n",
       "      <th>5</th>\n",
       "      <td>16809467</td>\n",
       "      <td>29803749</td>\n",
       "      <td>False</td>\n",
       "      <td>False</td>\n",
       "    </tr>\n",
       "    <tr>\n",
       "      <th>10</th>\n",
       "      <td>11147319</td>\n",
       "      <td>25941345</td>\n",
       "      <td>False</td>\n",
       "      <td>False</td>\n",
       "    </tr>\n",
       "    <tr>\n",
       "      <th>14</th>\n",
       "      <td>12156531</td>\n",
       "      <td>29321418</td>\n",
       "      <td>False</td>\n",
       "      <td>False</td>\n",
       "    </tr>\n",
       "    <tr>\n",
       "      <th>19</th>\n",
       "      <td>14528388</td>\n",
       "      <td>29429446</td>\n",
       "      <td>False</td>\n",
       "      <td>False</td>\n",
       "    </tr>\n",
       "  </tbody>\n",
       "</table>\n",
       "</div>"
      ],
      "text/plain": [
       "    subject_id   hadm_id  chronic_dialysis  CHF exacerbation\n",
       "0     11603789  25552978             False             False\n",
       "5     16809467  29803749             False             False\n",
       "10    11147319  25941345             False             False\n",
       "14    12156531  29321418             False             False\n",
       "19    14528388  29429446             False             False"
      ]
     },
     "execution_count": 128,
     "metadata": {},
     "output_type": "execute_result"
    }
   ],
   "source": [
    "final_cohort.head()"
   ]
  },
  {
   "cell_type": "code",
   "execution_count": 129,
   "metadata": {},
   "outputs": [
    {
     "data": {
      "text/plain": [
       "443067"
      ]
     },
     "execution_count": 129,
     "metadata": {},
     "output_type": "execute_result"
    }
   ],
   "source": [
    "len(final_cohort) #536165"
   ]
  },
  {
   "cell_type": "code",
   "execution_count": 130,
   "metadata": {},
   "outputs": [
    {
     "data": {
      "text/plain": [
       "0"
      ]
     },
     "execution_count": 130,
     "metadata": {},
     "output_type": "execute_result"
    }
   ],
   "source": [
    "np.sum(final_cohort.hadm_id.value_counts() > 1)"
   ]
  },
  {
   "cell_type": "code",
   "execution_count": 131,
   "metadata": {},
   "outputs": [],
   "source": [
    "final_cohort.to_csv('final_cohort.csv')"
   ]
  },
  {
   "cell_type": "code",
   "execution_count": 132,
   "metadata": {},
   "outputs": [
    {
     "data": {
      "text/plain": [
       "430281"
      ]
     },
     "execution_count": 132,
     "metadata": {},
     "output_type": "execute_result"
    }
   ],
   "source": [
    "sum(final_cohort['chronic_dialysis']==False)"
   ]
  },
  {
   "cell_type": "code",
   "execution_count": 133,
   "metadata": {},
   "outputs": [],
   "source": [
    "final_cohort_selected = final_cohort[(final_cohort['chronic_dialysis']==False) & (final_cohort['CHF exacerbation']==True)]\n",
    "final_cohort_selected.head()\n",
    "final_cohort_selected.to_csv('final_cohort_selected.csv')"
   ]
  },
  {
   "cell_type": "code",
   "execution_count": 134,
   "metadata": {},
   "outputs": [
    {
     "data": {
      "text/plain": [
       "11213"
      ]
     },
     "execution_count": 134,
     "metadata": {},
     "output_type": "execute_result"
    }
   ],
   "source": [
    "len(final_cohort_selected)"
   ]
  },
  {
   "cell_type": "code",
   "execution_count": null,
   "metadata": {},
   "outputs": [],
   "source": []
  }
 ],
 "metadata": {
  "kernelspec": {
   "display_name": "Python 3",
   "language": "python",
   "name": "python3"
  }
 },
 "nbformat": 4,
 "nbformat_minor": 4
}
