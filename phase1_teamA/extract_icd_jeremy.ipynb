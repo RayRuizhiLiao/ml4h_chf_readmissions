{
 "cells": [
  {
   "cell_type": "code",
   "execution_count": 1,
   "metadata": {},
   "outputs": [],
   "source": [
    "import pandas as pd"
   ]
  },
  {
   "cell_type": "code",
   "execution_count": 2,
   "metadata": {},
   "outputs": [],
   "source": [
    "mimiciv_dir = './mimic_iv/'"
   ]
  },
  {
   "cell_type": "code",
   "execution_count": 11,
   "metadata": {},
   "outputs": [
    {
     "data": {
      "text/html": [
       "<div>\n",
       "<style scoped>\n",
       "    .dataframe tbody tr th:only-of-type {\n",
       "        vertical-align: middle;\n",
       "    }\n",
       "\n",
       "    .dataframe tbody tr th {\n",
       "        vertical-align: top;\n",
       "    }\n",
       "\n",
       "    .dataframe thead th {\n",
       "        text-align: right;\n",
       "    }\n",
       "</style>\n",
       "<table border=\"1\" class=\"dataframe\">\n",
       "  <thead>\n",
       "    <tr style=\"text-align: right;\">\n",
       "      <th></th>\n",
       "      <th>Unnamed: 0</th>\n",
       "      <th>subject_id</th>\n",
       "      <th>hadm_id</th>\n",
       "      <th>chronic_dialysis</th>\n",
       "      <th>CHF exacerbation</th>\n",
       "    </tr>\n",
       "  </thead>\n",
       "  <tbody>\n",
       "    <tr>\n",
       "      <th>0</th>\n",
       "      <td>0</td>\n",
       "      <td>15734973</td>\n",
       "      <td>20475282</td>\n",
       "      <td>False</td>\n",
       "      <td>False</td>\n",
       "    </tr>\n",
       "    <tr>\n",
       "      <th>1</th>\n",
       "      <td>5</td>\n",
       "      <td>11442057</td>\n",
       "      <td>21518990</td>\n",
       "      <td>False</td>\n",
       "      <td>False</td>\n",
       "    </tr>\n",
       "    <tr>\n",
       "      <th>2</th>\n",
       "      <td>11</td>\n",
       "      <td>10072949</td>\n",
       "      <td>20817034</td>\n",
       "      <td>False</td>\n",
       "      <td>False</td>\n",
       "    </tr>\n",
       "    <tr>\n",
       "      <th>3</th>\n",
       "      <td>16</td>\n",
       "      <td>13538405</td>\n",
       "      <td>24822466</td>\n",
       "      <td>False</td>\n",
       "      <td>False</td>\n",
       "    </tr>\n",
       "    <tr>\n",
       "      <th>4</th>\n",
       "      <td>21</td>\n",
       "      <td>10287061</td>\n",
       "      <td>27485182</td>\n",
       "      <td>False</td>\n",
       "      <td>False</td>\n",
       "    </tr>\n",
       "    <tr>\n",
       "      <th>5</th>\n",
       "      <td>28</td>\n",
       "      <td>16016170</td>\n",
       "      <td>21252749</td>\n",
       "      <td>False</td>\n",
       "      <td>False</td>\n",
       "    </tr>\n",
       "    <tr>\n",
       "      <th>6</th>\n",
       "      <td>31</td>\n",
       "      <td>14880075</td>\n",
       "      <td>27821335</td>\n",
       "      <td>False</td>\n",
       "      <td>False</td>\n",
       "    </tr>\n",
       "    <tr>\n",
       "      <th>7</th>\n",
       "      <td>35</td>\n",
       "      <td>14678771</td>\n",
       "      <td>28223028</td>\n",
       "      <td>False</td>\n",
       "      <td>False</td>\n",
       "    </tr>\n",
       "    <tr>\n",
       "      <th>8</th>\n",
       "      <td>40</td>\n",
       "      <td>19952612</td>\n",
       "      <td>23683577</td>\n",
       "      <td>False</td>\n",
       "      <td>False</td>\n",
       "    </tr>\n",
       "    <tr>\n",
       "      <th>9</th>\n",
       "      <td>42</td>\n",
       "      <td>17278669</td>\n",
       "      <td>25247870</td>\n",
       "      <td>False</td>\n",
       "      <td>False</td>\n",
       "    </tr>\n",
       "  </tbody>\n",
       "</table>\n",
       "</div>"
      ],
      "text/plain": [
       "   Unnamed: 0  subject_id   hadm_id  chronic_dialysis  CHF exacerbation\n",
       "0           0    15734973  20475282             False             False\n",
       "1           5    11442057  21518990             False             False\n",
       "2          11    10072949  20817034             False             False\n",
       "3          16    13538405  24822466             False             False\n",
       "4          21    10287061  27485182             False             False\n",
       "5          28    16016170  21252749             False             False\n",
       "6          31    14880075  27821335             False             False\n",
       "7          35    14678771  28223028             False             False\n",
       "8          40    19952612  23683577             False             False\n",
       "9          42    17278669  25247870             False             False"
      ]
     },
     "execution_count": 11,
     "metadata": {},
     "output_type": "execute_result"
    }
   ],
   "source": [
    "# Import and explore datasets\n",
    "diagnoses_icd_full = pd.read_csv(f'{mimiciv_dir}hosp/diagnoses_icd.csv', low_memory=False)\n",
    "diagnoses_icd = pd.read_csv(f'./final_cohort.csv', low_memory=False)\n",
    "diagnoses_icd[:10]"
   ]
  },
  {
   "cell_type": "code",
   "execution_count": 5,
   "metadata": {},
   "outputs": [
    {
     "data": {
      "text/html": [
       "<div>\n",
       "<style scoped>\n",
       "    .dataframe tbody tr th:only-of-type {\n",
       "        vertical-align: middle;\n",
       "    }\n",
       "\n",
       "    .dataframe tbody tr th {\n",
       "        vertical-align: top;\n",
       "    }\n",
       "\n",
       "    .dataframe thead th {\n",
       "        text-align: right;\n",
       "    }\n",
       "</style>\n",
       "<table border=\"1\" class=\"dataframe\">\n",
       "  <thead>\n",
       "    <tr style=\"text-align: right;\">\n",
       "      <th></th>\n",
       "      <th>Unnamed: 0</th>\n",
       "      <th>subject_id</th>\n",
       "      <th>hadm_id</th>\n",
       "      <th>chronic_dialysis</th>\n",
       "      <th>CHF exacerbation</th>\n",
       "    </tr>\n",
       "  </thead>\n",
       "  <tbody>\n",
       "    <tr>\n",
       "      <th>233</th>\n",
       "      <td>1155</td>\n",
       "      <td>16477997</td>\n",
       "      <td>25359811</td>\n",
       "      <td>False</td>\n",
       "      <td>True</td>\n",
       "    </tr>\n",
       "    <tr>\n",
       "      <th>240</th>\n",
       "      <td>1215</td>\n",
       "      <td>14959277</td>\n",
       "      <td>28740655</td>\n",
       "      <td>False</td>\n",
       "      <td>True</td>\n",
       "    </tr>\n",
       "    <tr>\n",
       "      <th>313</th>\n",
       "      <td>1668</td>\n",
       "      <td>12849817</td>\n",
       "      <td>27891695</td>\n",
       "      <td>False</td>\n",
       "      <td>True</td>\n",
       "    </tr>\n",
       "    <tr>\n",
       "      <th>332</th>\n",
       "      <td>1784</td>\n",
       "      <td>11508679</td>\n",
       "      <td>25781770</td>\n",
       "      <td>False</td>\n",
       "      <td>True</td>\n",
       "    </tr>\n",
       "    <tr>\n",
       "      <th>337</th>\n",
       "      <td>1829</td>\n",
       "      <td>18151621</td>\n",
       "      <td>25727457</td>\n",
       "      <td>False</td>\n",
       "      <td>True</td>\n",
       "    </tr>\n",
       "  </tbody>\n",
       "</table>\n",
       "</div>"
      ],
      "text/plain": [
       "     Unnamed: 0  subject_id   hadm_id  chronic_dialysis  CHF exacerbation\n",
       "233        1155    16477997  25359811             False              True\n",
       "240        1215    14959277  28740655             False              True\n",
       "313        1668    12849817  27891695             False              True\n",
       "332        1784    11508679  25781770             False              True\n",
       "337        1829    18151621  25727457             False              True"
      ]
     },
     "execution_count": 5,
     "metadata": {},
     "output_type": "execute_result"
    }
   ],
   "source": [
    "chf_diags = diagnoses_icd[diagnoses_icd[\"CHF exacerbation\"]]\n",
    "chf_diags.head()"
   ]
  },
  {
   "cell_type": "code",
   "execution_count": 26,
   "metadata": {},
   "outputs": [
    {
     "data": {
      "image/png": "[encoded data removed]",
      "text/plain": [
       "<Figure size 720x504 with 1 Axes>"
      ]
     },
     "metadata": {},
     "output_type": "display_data"
    },
    {
     "name": "stdout",
     "output_type": "stream",
     "text": [
      "0.03374722665524892\n"
     ]
    }
   ],
   "source": [
    "from matplotlib import pyplot as plt\n",
    "\n",
    "total_chf = chf_diags.size\n",
    "chf_and_dialysis = chf_diags[chf_diags[\"chronic_dialysis\"]].size\n",
    "\n",
    "# Creating dataset\n",
    "labels = [\"Dialysis\", \"No Dialysis\"]\n",
    "data = [chf_and_dialysis, total_chf - chf_and_dialysis]\n",
    "  \n",
    "# Creating plot\n",
    "fig = plt.figure(figsize =(10, 7))\n",
    "plt.pie(data, labels = labels)\n",
    "  \n",
    "# show plot\n",
    "plt.show()\n",
    "print(chf_and_dialysis / total_chf)"
   ]
  },
  {
   "cell_type": "code",
   "execution_count": 19,
   "metadata": {},
   "outputs": [
    {
     "data": {
      "text/html": [
       "<div>\n",
       "<style scoped>\n",
       "    .dataframe tbody tr th:only-of-type {\n",
       "        vertical-align: middle;\n",
       "    }\n",
       "\n",
       "    .dataframe tbody tr th {\n",
       "        vertical-align: top;\n",
       "    }\n",
       "\n",
       "    .dataframe thead th {\n",
       "        text-align: right;\n",
       "    }\n",
       "</style>\n",
       "<table border=\"1\" class=\"dataframe\">\n",
       "  <thead>\n",
       "    <tr style=\"text-align: right;\">\n",
       "      <th></th>\n",
       "      <th>Unnamed: 0</th>\n",
       "      <th>subject_id</th>\n",
       "      <th>hadm_id</th>\n",
       "      <th>chronic_dialysis</th>\n",
       "      <th>CHF exacerbation</th>\n",
       "    </tr>\n",
       "  </thead>\n",
       "  <tbody>\n",
       "    <tr>\n",
       "      <th>500</th>\n",
       "      <td>2747</td>\n",
       "      <td>18751817</td>\n",
       "      <td>29991380</td>\n",
       "      <td>True</td>\n",
       "      <td>True</td>\n",
       "    </tr>\n",
       "    <tr>\n",
       "      <th>1154</th>\n",
       "      <td>8394</td>\n",
       "      <td>14166890</td>\n",
       "      <td>20084589</td>\n",
       "      <td>True</td>\n",
       "      <td>True</td>\n",
       "    </tr>\n",
       "    <tr>\n",
       "      <th>1259</th>\n",
       "      <td>9300</td>\n",
       "      <td>13094918</td>\n",
       "      <td>28035877</td>\n",
       "      <td>True</td>\n",
       "      <td>True</td>\n",
       "    </tr>\n",
       "    <tr>\n",
       "      <th>1619</th>\n",
       "      <td>12038</td>\n",
       "      <td>15409850</td>\n",
       "      <td>28619329</td>\n",
       "      <td>True</td>\n",
       "      <td>True</td>\n",
       "    </tr>\n",
       "    <tr>\n",
       "      <th>1643</th>\n",
       "      <td>12204</td>\n",
       "      <td>17252164</td>\n",
       "      <td>27655652</td>\n",
       "      <td>True</td>\n",
       "      <td>True</td>\n",
       "    </tr>\n",
       "  </tbody>\n",
       "</table>\n",
       "</div>"
      ],
      "text/plain": [
       "      Unnamed: 0  subject_id   hadm_id  chronic_dialysis  CHF exacerbation\n",
       "500         2747    18751817  29991380              True              True\n",
       "1154        8394    14166890  20084589              True              True\n",
       "1259        9300    13094918  28035877              True              True\n",
       "1619       12038    15409850  28619329              True              True\n",
       "1643       12204    17252164  27655652              True              True"
      ]
     },
     "execution_count": 19,
     "metadata": {},
     "output_type": "execute_result"
    }
   ],
   "source": [
    "chf_diags[chf_diags[\"chronic_dialysis\"]].head()"
   ]
  },
  {
   "cell_type": "code",
   "execution_count": 27,
   "metadata": {},
   "outputs": [
    {
     "name": "stdout",
     "output_type": "stream",
     "text": [
      "0.06485057938605407\n"
     ]
    },
    {
     "data": {
      "image/png": "[encoded data removed]",
      "text/plain": [
       "<Figure size 720x504 with 1 Axes>"
      ]
     },
     "metadata": {},
     "output_type": "display_data"
    }
   ],
   "source": [
    "# Decided to use Eric's codes only based on feedback, Compare rates of ESRD vs dialysis vs both\n",
    "from matplotlib import pyplot as plt\n",
    "import numpy as np\n",
    "\n",
    "esrd_codes = [\"N186\", \"5856\"]\n",
    "renal_dialysis_codes = [\"V4511\", \"Z992\"] \n",
    "\n",
    "chf_patients = chf_diags[\"subject_id\"].unique()\n",
    "\n",
    "esrd_diags = diagnoses_icd_full[diagnoses_icd_full[\"icd_code\"].str.strip().isin(esrd_codes)]\n",
    "num_esrd_patients = np.intersect1d(esrd_diags[\"subject_id\"].unique(), chf_patients).shape[0]\n",
    "\n",
    "renal_dialysis_diags = diagnoses_icd_full[diagnoses_icd_full[\"icd_code\"].str.strip().isin(renal_dialysis_codes)]\n",
    "num_renal_dialysis_patients = np.intersect1d(renal_dialysis_diags[\"subject_id\"].unique(), chf_patients).shape[0]\n",
    "\n",
    "num_both = np.intersect1d(np.intersect1d(renal_dialysis_diags[\"subject_id\"].unique(), chf_patients), esrd_diags[\"subject_id\"].unique()).shape[0]\n",
    "num_renal_dialysis_only = num_renal_dialysis_patients - num_both\n",
    "num_esrd_only = num_esrd_patients - num_both\n",
    "\n",
    "(num_esrd_patients + num_renal_dialysis_only)      \n",
    "total_chf_patients = chf_patients.shape[0]\n",
    "  \n",
    "# Creating dataset\n",
    "labels = [\"Renal Dialysis Only\", \"ESRD Only\", \"Both\"]\n",
    "  \n",
    "data = [num_renal_dialysis_only, num_esrd_only, num_both]\n",
    "  \n",
    "# Creating plot\n",
    "fig = plt.figure(figsize =(10, 7))\n",
    "plt.pie(data, labels = labels)\n",
    "  \n",
    "# show plot\n",
    "plt.show()"
   ]
  },
  {
   "cell_type": "code",
   "execution_count": 12,
   "metadata": {},
   "outputs": [
    {
     "data": {
      "text/html": [
       "<div>\n",
       "<style scoped>\n",
       "    .dataframe tbody tr th:only-of-type {\n",
       "        vertical-align: middle;\n",
       "    }\n",
       "\n",
       "    .dataframe tbody tr th {\n",
       "        vertical-align: top;\n",
       "    }\n",
       "\n",
       "    .dataframe thead th {\n",
       "        text-align: right;\n",
       "    }\n",
       "</style>\n",
       "<table border=\"1\" class=\"dataframe\">\n",
       "  <thead>\n",
       "    <tr style=\"text-align: right;\">\n",
       "      <th></th>\n",
       "      <th>subject_id</th>\n",
       "      <th>hadm_id</th>\n",
       "      <th>seq_num</th>\n",
       "      <th>icd_code</th>\n",
       "      <th>icd_version</th>\n",
       "      <th>chronic_dialysis</th>\n",
       "    </tr>\n",
       "  </thead>\n",
       "  <tbody>\n",
       "    <tr>\n",
       "      <th>0</th>\n",
       "      <td>11603789</td>\n",
       "      <td>25552978</td>\n",
       "      <td>3</td>\n",
       "      <td>65801</td>\n",
       "      <td>9</td>\n",
       "      <td>False</td>\n",
       "    </tr>\n",
       "    <tr>\n",
       "      <th>1</th>\n",
       "      <td>11603789</td>\n",
       "      <td>25552978</td>\n",
       "      <td>4</td>\n",
       "      <td>64881</td>\n",
       "      <td>9</td>\n",
       "      <td>False</td>\n",
       "    </tr>\n",
       "    <tr>\n",
       "      <th>2</th>\n",
       "      <td>11603789</td>\n",
       "      <td>25552978</td>\n",
       "      <td>5</td>\n",
       "      <td>V270</td>\n",
       "      <td>9</td>\n",
       "      <td>False</td>\n",
       "    </tr>\n",
       "    <tr>\n",
       "      <th>3</th>\n",
       "      <td>11603789</td>\n",
       "      <td>25552978</td>\n",
       "      <td>1</td>\n",
       "      <td>65221</td>\n",
       "      <td>9</td>\n",
       "      <td>False</td>\n",
       "    </tr>\n",
       "    <tr>\n",
       "      <th>4</th>\n",
       "      <td>11603789</td>\n",
       "      <td>25552978</td>\n",
       "      <td>2</td>\n",
       "      <td>64421</td>\n",
       "      <td>9</td>\n",
       "      <td>False</td>\n",
       "    </tr>\n",
       "  </tbody>\n",
       "</table>\n",
       "</div>"
      ],
      "text/plain": [
       "   subject_id   hadm_id  seq_num icd_code  icd_version  chronic_dialysis\n",
       "0    11603789  25552978        3  65801              9             False\n",
       "1    11603789  25552978        4  64881              9             False\n",
       "2    11603789  25552978        5  V270               9             False\n",
       "3    11603789  25552978        1  65221              9             False\n",
       "4    11603789  25552978        2  64421              9             False"
      ]
     },
     "execution_count": 12,
     "metadata": {},
     "output_type": "execute_result"
    }
   ],
   "source": [
    "# Filter patients with Dialysis\n",
    "dialysis_codes = [\"Z992\", \"N186\", \"5856\", \"V4511\"]\n",
    "diagnoses_icd[\"chronic_dialysis\"] = diagnoses_icd[\"icd_code\"].str.strip().isin(dialysis_codes)\n",
    "diagnoses_icd.head()\n"
   ]
  },
  {
   "cell_type": "code",
   "execution_count": 7,
   "metadata": {},
   "outputs": [
    {
     "name": "stdout",
     "output_type": "stream",
     "text": [
      "Number of diagnoses with Eric's codes: 21649\n",
      "Number of diagnoses with ESRD / dialysis codes: 24125\n",
      "Number of patients with Eric's codes: 3576\n",
      "Number of patients with ESRD / dialysis codes: 3672\n"
     ]
    }
   ],
   "source": [
    "# Compare all patients with any Diagnosis code with the word 'dialysis' or 'end stage renal disease' \n",
    "# to codes specified by Eric\n",
    "titles = []\n",
    "for title in d_icd_diagnoses['long_title'].unique():\n",
    "  if (\"dialysis\" in title.lower() or title.lower() == \"end stage renal disease\") and not \"retin\" in title.lower() and not \"irido\" in title.lower():\n",
    "    titles.append(title)\n",
    "    \n",
    "dialysis_icds = d_icd_diagnoses[d_icd_diagnoses['long_title'].isin(titles)]\n",
    "\n",
    "all_codes = dialysis_icds[\"icd_code\"].to_numpy()\n",
    "selected_codes = [\"Z992\", \"N186\", \"5856\", \"V4511\"]\n",
    "\n",
    "total_selected_codes = diagnoses_icd[\"icd_code\"].str.strip().isin(selected_codes).sum()\n",
    "total_codes = diagnoses_icd[\"icd_code\"].isin(all_codes).sum()\n",
    "print(\"Number of diagnoses with Eric's codes:\", total_selected_codes)\n",
    "print(\"Number of diagnoses with ESRD / dialysis codes:\", total_codes)\n",
    "all_codes_diags = diagnoses_icd[diagnoses_icd[\"icd_code\"].isin(all_codes)]\n",
    "selected_codes_diags = diagnoses_icd[diagnoses_icd[\"icd_code\"].str.strip().isin(selected_codes)]\n",
    "total_patients = all_codes_diags[\"subject_id\"].unique().shape[0]\n",
    "total_selected_patients = selected_codes_diags[\"subject_id\"].unique().shape[0]\n",
    "\n",
    "print(\"Number of patients with Eric's codes:\", total_selected_patients)\n",
    "print(\"Number of patients with ESRD / dialysis codes:\", total_patients)\n"
   ]
  },
  {
   "cell_type": "code",
   "execution_count": 49,
   "metadata": {},
   "outputs": [
    {
     "data": {
      "text/plain": [
       "E8791      26\n",
       "I953       25\n",
       "99673      20\n",
       "45821      16\n",
       "T8249XA     5\n",
       "V560        4\n",
       "V561        3\n",
       "Y841        2\n",
       "Z9115       2\n",
       "99656       1\n",
       "T8242XA     1\n",
       "T8241XA     1\n",
       "T85621A     1\n",
       "E8742       1\n",
       "V4512       1\n",
       "Name: icd_code, dtype: int64"
      ]
     },
     "execution_count": 49,
     "metadata": {},
     "output_type": "execute_result"
    }
   ],
   "source": [
    "# Examine codes common in patients that have ESRD / dialysis codes but not eric's codes\n",
    "all_patients_ids = all_codes_diags[\"subject_id\"].unique()\n",
    "selected_patient_ids = selected_codes_diags[\"subject_id\"].unique()\n",
    "unselected_patient_ids = [id_num for id_num in all_patients_ids if not id_num in selected_patient_ids]\n",
    "unselected_diags = diagnoses_icd[diagnoses_icd[\"subject_id\"].isin(unselected_patient_ids)]\n",
    "unselected_diags = unselected_diags[unselected_diags[\"icd_code\"].isin(all_codes)]\n",
    "unselected_diags[\"icd_code\"].value_counts()"
   ]
  },
  {
   "cell_type": "code",
   "execution_count": 11,
   "metadata": {},
   "outputs": [
    {
     "data": {
      "image/png": "[encoded data removed]",
      "text/plain": [
       "<Figure size 720x504 with 1 Axes>"
      ]
     },
     "metadata": {},
     "output_type": "display_data"
    }
   ],
   "source": [
    "# Decided to use Eric's codes only based on feedback, Compare rates of ESRD vs dialysis vs both\n",
    "from matplotlib import pyplot as plt\n",
    "\n",
    "esrd_codes = [\"N186\", \"5856\"]\n",
    "renal_dialysis_codes = [\"V4511\", \"Z992\"] \n",
    "\n",
    "esrd_diags = diagnoses_icd[diagnoses_icd[\"icd_code\"].str.strip().isin(esrd_codes)]\n",
    "num_esrd_patients = esrd_diags[\"subject_id\"].unique().shape[0]\n",
    "\n",
    "renal_dialysis_diags = diagnoses_icd[diagnoses_icd[\"icd_code\"].str.strip().isin(renal_dialysis_codes)]\n",
    "num_renal_dialysis_patients = renal_dialysis_diags[\"subject_id\"].unique().shape[0]\n",
    "\n",
    "num_both = num_renal_dialysis_patients + num_esrd_patients - total_selected_patients\n",
    "num_renal_dialysis_only = num_renal_dialysis_patients - num_both\n",
    "num_esrd_only = num_esrd_patients - num_both\n",
    "\n",
    "  \n",
    "# Creating dataset\n",
    "labels = [\"Renal Dialysis Only\", \"ESRD Only\", \"Both\"]\n",
    "  \n",
    "data = [num_renal_dialysis_only, num_esrd_only, num_both]\n",
    "  \n",
    "# Creating plot\n",
    "fig = plt.figure(figsize =(10, 7))\n",
    "plt.pie(data, labels = labels)\n",
    "  \n",
    "# show plot\n",
    "plt.show()"
   ]
  },
  {
   "cell_type": "code",
   "execution_count": null,
   "metadata": {},
   "outputs": [],
   "source": []
  }
 ],
 "metadata": {
  "kernelspec": {
   "display_name": "Python 3",
   "language": "python",
   "name": "python3"
  },
  "language_info": {
   "codemirror_mode": {
    "name": "ipython",
    "version": 3
   },
   "file_extension": ".py",
   "mimetype": "text/x-python",
   "name": "python",
   "nbconvert_exporter": "python",
   "pygments_lexer": "ipython3",
   "version": "3.8.5"
  }
 },
 "nbformat": 4,
 "nbformat_minor": 2
}
