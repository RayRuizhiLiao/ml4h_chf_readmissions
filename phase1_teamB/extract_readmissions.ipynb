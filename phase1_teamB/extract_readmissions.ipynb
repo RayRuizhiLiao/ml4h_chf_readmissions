{
 "cells": [
  {
   "cell_type": "markdown",
   "metadata": {},
   "source": [
    "# Data Loading and Exploration"
   ]
  },
  {
   "cell_type": "code",
   "execution_count": 51,
   "metadata": {},
   "outputs": [],
   "source": [
    "import pandas as pd\n",
    "import datetime\n",
    "from dateutil import parser\n",
    "import numpy as np"
   ]
  },
  {
   "cell_type": "code",
   "execution_count": 52,
   "metadata": {},
   "outputs": [],
   "source": [
    "mimiciv_dir = '../../core/'\n",
    "hosp_dir = '../../hosp/'"
   ]
  },
  {
   "cell_type": "code",
   "execution_count": 53,
   "metadata": {
    "scrolled": true
   },
   "outputs": [
    {
     "output_type": "execute_result",
     "data": {
      "text/plain": [
       "   subject_id   hadm_id            admittime            dischtime deathtime  \\\n",
       "0    12427812  21593330  2184-01-06 11:51:00  2184-01-10 11:45:00       NaN   \n",
       "1    14029832  22059088  2120-01-18 01:28:00  2120-01-20 16:13:00       NaN   \n",
       "2    14495017  22484010  2175-01-28 15:41:00  2175-01-29 16:00:00       NaN   \n",
       "3    13676048  23865469  2193-01-19 05:27:00  2193-01-24 18:59:00       NaN   \n",
       "4    13831972  27763544  2131-01-27 04:03:00  2131-01-27 05:39:00       NaN   \n",
       "5    18523038  25414328  2142-08-26 17:14:00  2142-08-27 10:00:00       NaN   \n",
       "6    16705931  20580522  2174-10-24 11:30:00  2174-10-24 18:45:00       NaN   \n",
       "7    19963742  24951506  2171-07-04 15:58:00  2171-07-05 13:37:00       NaN   \n",
       "8    10903424  22568585  2181-01-31 13:09:00  2181-01-31 13:42:00       NaN   \n",
       "9    15030422  21975876  2149-09-21 23:54:00  2149-09-22 03:59:00       NaN   \n",
       "\n",
       "           admission_type      admission_location discharge_location  \\\n",
       "0                  URGENT      PHYSICIAN REFERRAL               HOME   \n",
       "1                  URGENT  TRANSFER FROM HOSPITAL               HOME   \n",
       "2            DIRECT EMER.      PHYSICIAN REFERRAL               HOME   \n",
       "3                  URGENT      PHYSICIAN REFERRAL               HOME   \n",
       "4          EU OBSERVATION          EMERGENCY ROOM                NaN   \n",
       "5      DIRECT OBSERVATION          PROCEDURE SITE                NaN   \n",
       "6      DIRECT OBSERVATION      PHYSICIAN REFERRAL                NaN   \n",
       "7  AMBULATORY OBSERVATION                    PACU                NaN   \n",
       "8          EU OBSERVATION          EMERGENCY ROOM                NaN   \n",
       "9          EU OBSERVATION          EMERGENCY ROOM                NaN   \n",
       "\n",
       "  insurance language marital_status ethnicity            edregtime  \\\n",
       "0     Other  ENGLISH            NaN   UNKNOWN                  NaN   \n",
       "1     Other  ENGLISH            NaN     OTHER                  NaN   \n",
       "2     Other        ?            NaN     WHITE                  NaN   \n",
       "3     Other        ?        MARRIED     WHITE                  NaN   \n",
       "4  Medicaid  ENGLISH         SINGLE     WHITE  2131-01-26 22:19:00   \n",
       "5     Other  ENGLISH         SINGLE     WHITE                  NaN   \n",
       "6     Other  ENGLISH        MARRIED     WHITE                  NaN   \n",
       "7     Other  ENGLISH         SINGLE   UNKNOWN                  NaN   \n",
       "8     Other  ENGLISH         SINGLE     WHITE                  NaN   \n",
       "9     Other  ENGLISH         SINGLE     WHITE                  NaN   \n",
       "\n",
       "             edouttime  hospital_expire_flag  \n",
       "0                  NaN                     0  \n",
       "1                  NaN                     0  \n",
       "2                  NaN                     0  \n",
       "3                  NaN                     0  \n",
       "4  2131-01-27 05:39:00                     0  \n",
       "5                  NaN                     0  \n",
       "6                  NaN                     0  \n",
       "7                  NaN                     0  \n",
       "8                  NaN                     0  \n",
       "9                  NaN                     0  "
      ],
      "text/html": "<div>\n<style scoped>\n    .dataframe tbody tr th:only-of-type {\n        vertical-align: middle;\n    }\n\n    .dataframe tbody tr th {\n        vertical-align: top;\n    }\n\n    .dataframe thead th {\n        text-align: right;\n    }\n</style>\n<table border=\"1\" class=\"dataframe\">\n  <thead>\n    <tr style=\"text-align: right;\">\n      <th></th>\n      <th>subject_id</th>\n      <th>hadm_id</th>\n      <th>admittime</th>\n      <th>dischtime</th>\n      <th>deathtime</th>\n      <th>admission_type</th>\n      <th>admission_location</th>\n      <th>discharge_location</th>\n      <th>insurance</th>\n      <th>language</th>\n      <th>marital_status</th>\n      <th>ethnicity</th>\n      <th>edregtime</th>\n      <th>edouttime</th>\n      <th>hospital_expire_flag</th>\n    </tr>\n  </thead>\n  <tbody>\n    <tr>\n      <th>0</th>\n      <td>12427812</td>\n      <td>21593330</td>\n      <td>2184-01-06 11:51:00</td>\n      <td>2184-01-10 11:45:00</td>\n      <td>NaN</td>\n      <td>URGENT</td>\n      <td>PHYSICIAN REFERRAL</td>\n      <td>HOME</td>\n      <td>Other</td>\n      <td>ENGLISH</td>\n      <td>NaN</td>\n      <td>UNKNOWN</td>\n      <td>NaN</td>\n      <td>NaN</td>\n      <td>0</td>\n    </tr>\n    <tr>\n      <th>1</th>\n      <td>14029832</td>\n      <td>22059088</td>\n      <td>2120-01-18 01:28:00</td>\n      <td>2120-01-20 16:13:00</td>\n      <td>NaN</td>\n      <td>URGENT</td>\n      <td>TRANSFER FROM HOSPITAL</td>\n      <td>HOME</td>\n      <td>Other</td>\n      <td>ENGLISH</td>\n      <td>NaN</td>\n      <td>OTHER</td>\n      <td>NaN</td>\n      <td>NaN</td>\n      <td>0</td>\n    </tr>\n    <tr>\n      <th>2</th>\n      <td>14495017</td>\n      <td>22484010</td>\n      <td>2175-01-28 15:41:00</td>\n      <td>2175-01-29 16:00:00</td>\n      <td>NaN</td>\n      <td>DIRECT EMER.</td>\n      <td>PHYSICIAN REFERRAL</td>\n      <td>HOME</td>\n      <td>Other</td>\n      <td>?</td>\n      <td>NaN</td>\n      <td>WHITE</td>\n      <td>NaN</td>\n      <td>NaN</td>\n      <td>0</td>\n    </tr>\n    <tr>\n      <th>3</th>\n      <td>13676048</td>\n      <td>23865469</td>\n      <td>2193-01-19 05:27:00</td>\n      <td>2193-01-24 18:59:00</td>\n      <td>NaN</td>\n      <td>URGENT</td>\n      <td>PHYSICIAN REFERRAL</td>\n      <td>HOME</td>\n      <td>Other</td>\n      <td>?</td>\n      <td>MARRIED</td>\n      <td>WHITE</td>\n      <td>NaN</td>\n      <td>NaN</td>\n      <td>0</td>\n    </tr>\n    <tr>\n      <th>4</th>\n      <td>13831972</td>\n      <td>27763544</td>\n      <td>2131-01-27 04:03:00</td>\n      <td>2131-01-27 05:39:00</td>\n      <td>NaN</td>\n      <td>EU OBSERVATION</td>\n      <td>EMERGENCY ROOM</td>\n      <td>NaN</td>\n      <td>Medicaid</td>\n      <td>ENGLISH</td>\n      <td>SINGLE</td>\n      <td>WHITE</td>\n      <td>2131-01-26 22:19:00</td>\n      <td>2131-01-27 05:39:00</td>\n      <td>0</td>\n    </tr>\n    <tr>\n      <th>5</th>\n      <td>18523038</td>\n      <td>25414328</td>\n      <td>2142-08-26 17:14:00</td>\n      <td>2142-08-27 10:00:00</td>\n      <td>NaN</td>\n      <td>DIRECT OBSERVATION</td>\n      <td>PROCEDURE SITE</td>\n      <td>NaN</td>\n      <td>Other</td>\n      <td>ENGLISH</td>\n      <td>SINGLE</td>\n      <td>WHITE</td>\n      <td>NaN</td>\n      <td>NaN</td>\n      <td>0</td>\n    </tr>\n    <tr>\n      <th>6</th>\n      <td>16705931</td>\n      <td>20580522</td>\n      <td>2174-10-24 11:30:00</td>\n      <td>2174-10-24 18:45:00</td>\n      <td>NaN</td>\n      <td>DIRECT OBSERVATION</td>\n      <td>PHYSICIAN REFERRAL</td>\n      <td>NaN</td>\n      <td>Other</td>\n      <td>ENGLISH</td>\n      <td>MARRIED</td>\n      <td>WHITE</td>\n      <td>NaN</td>\n      <td>NaN</td>\n      <td>0</td>\n    </tr>\n    <tr>\n      <th>7</th>\n      <td>19963742</td>\n      <td>24951506</td>\n      <td>2171-07-04 15:58:00</td>\n      <td>2171-07-05 13:37:00</td>\n      <td>NaN</td>\n      <td>AMBULATORY OBSERVATION</td>\n      <td>PACU</td>\n      <td>NaN</td>\n      <td>Other</td>\n      <td>ENGLISH</td>\n      <td>SINGLE</td>\n      <td>UNKNOWN</td>\n      <td>NaN</td>\n      <td>NaN</td>\n      <td>0</td>\n    </tr>\n    <tr>\n      <th>8</th>\n      <td>10903424</td>\n      <td>22568585</td>\n      <td>2181-01-31 13:09:00</td>\n      <td>2181-01-31 13:42:00</td>\n      <td>NaN</td>\n      <td>EU OBSERVATION</td>\n      <td>EMERGENCY ROOM</td>\n      <td>NaN</td>\n      <td>Other</td>\n      <td>ENGLISH</td>\n      <td>SINGLE</td>\n      <td>WHITE</td>\n      <td>NaN</td>\n      <td>NaN</td>\n      <td>0</td>\n    </tr>\n    <tr>\n      <th>9</th>\n      <td>15030422</td>\n      <td>21975876</td>\n      <td>2149-09-21 23:54:00</td>\n      <td>2149-09-22 03:59:00</td>\n      <td>NaN</td>\n      <td>EU OBSERVATION</td>\n      <td>EMERGENCY ROOM</td>\n      <td>NaN</td>\n      <td>Other</td>\n      <td>ENGLISH</td>\n      <td>SINGLE</td>\n      <td>WHITE</td>\n      <td>NaN</td>\n      <td>NaN</td>\n      <td>0</td>\n    </tr>\n  </tbody>\n</table>\n</div>"
     },
     "metadata": {},
     "execution_count": 53
    }
   ],
   "source": [
    "admissions = pd.read_csv(f'{mimiciv_dir}admissions.csv', low_memory=False)\n",
    "admissions[:10]"
   ]
  },
  {
   "cell_type": "code",
   "execution_count": 54,
   "metadata": {},
   "outputs": [
    {
     "output_type": "execute_result",
     "data": {
      "text/plain": [
       "   subject_id gender  anchor_age  anchor_year anchor_year_group  dod\n",
       "0    10002723      F           0         2128       2017 - 2019  NaN\n",
       "1    10003939      M           0         2184       2008 - 2010  NaN\n",
       "2    10004222      M           0         2161       2014 - 2016  NaN\n",
       "3    10005325      F           0         2154       2011 - 2013  NaN\n",
       "4    10007338      F           0         2153       2017 - 2019  NaN\n",
       "5    10008101      M           0         2142       2008 - 2010  NaN\n",
       "6    10009872      F           0         2168       2014 - 2016  NaN\n",
       "7    10011333      F           0         2132       2014 - 2016  NaN\n",
       "8    10011879      M           0         2158       2014 - 2016  NaN\n",
       "9    10012663      F           0         2171       2011 - 2013  NaN"
      ],
      "text/html": "<div>\n<style scoped>\n    .dataframe tbody tr th:only-of-type {\n        vertical-align: middle;\n    }\n\n    .dataframe tbody tr th {\n        vertical-align: top;\n    }\n\n    .dataframe thead th {\n        text-align: right;\n    }\n</style>\n<table border=\"1\" class=\"dataframe\">\n  <thead>\n    <tr style=\"text-align: right;\">\n      <th></th>\n      <th>subject_id</th>\n      <th>gender</th>\n      <th>anchor_age</th>\n      <th>anchor_year</th>\n      <th>anchor_year_group</th>\n      <th>dod</th>\n    </tr>\n  </thead>\n  <tbody>\n    <tr>\n      <th>0</th>\n      <td>10002723</td>\n      <td>F</td>\n      <td>0</td>\n      <td>2128</td>\n      <td>2017 - 2019</td>\n      <td>NaN</td>\n    </tr>\n    <tr>\n      <th>1</th>\n      <td>10003939</td>\n      <td>M</td>\n      <td>0</td>\n      <td>2184</td>\n      <td>2008 - 2010</td>\n      <td>NaN</td>\n    </tr>\n    <tr>\n      <th>2</th>\n      <td>10004222</td>\n      <td>M</td>\n      <td>0</td>\n      <td>2161</td>\n      <td>2014 - 2016</td>\n      <td>NaN</td>\n    </tr>\n    <tr>\n      <th>3</th>\n      <td>10005325</td>\n      <td>F</td>\n      <td>0</td>\n      <td>2154</td>\n      <td>2011 - 2013</td>\n      <td>NaN</td>\n    </tr>\n    <tr>\n      <th>4</th>\n      <td>10007338</td>\n      <td>F</td>\n      <td>0</td>\n      <td>2153</td>\n      <td>2017 - 2019</td>\n      <td>NaN</td>\n    </tr>\n    <tr>\n      <th>5</th>\n      <td>10008101</td>\n      <td>M</td>\n      <td>0</td>\n      <td>2142</td>\n      <td>2008 - 2010</td>\n      <td>NaN</td>\n    </tr>\n    <tr>\n      <th>6</th>\n      <td>10009872</td>\n      <td>F</td>\n      <td>0</td>\n      <td>2168</td>\n      <td>2014 - 2016</td>\n      <td>NaN</td>\n    </tr>\n    <tr>\n      <th>7</th>\n      <td>10011333</td>\n      <td>F</td>\n      <td>0</td>\n      <td>2132</td>\n      <td>2014 - 2016</td>\n      <td>NaN</td>\n    </tr>\n    <tr>\n      <th>8</th>\n      <td>10011879</td>\n      <td>M</td>\n      <td>0</td>\n      <td>2158</td>\n      <td>2014 - 2016</td>\n      <td>NaN</td>\n    </tr>\n    <tr>\n      <th>9</th>\n      <td>10012663</td>\n      <td>F</td>\n      <td>0</td>\n      <td>2171</td>\n      <td>2011 - 2013</td>\n      <td>NaN</td>\n    </tr>\n  </tbody>\n</table>\n</div>"
     },
     "metadata": {},
     "execution_count": 54
    }
   ],
   "source": [
    "patients = pd.read_csv(f'{mimiciv_dir}patients.csv', low_memory=False)\n",
    "patients[:10]"
   ]
  },
  {
   "cell_type": "code",
   "execution_count": 55,
   "metadata": {},
   "outputs": [
    {
     "output_type": "execute_result",
     "data": {
      "text/plain": [
       "       subject_id   hadm_id            admittime            dischtime  \\\n",
       "0        12427812  21593330  2184-01-06 11:51:00  2184-01-10 11:45:00   \n",
       "10253    12427812  23948770  2185-01-20 00:08:00  2185-01-21 11:45:00   \n",
       "\n",
       "      deathtime  admission_type  admission_location discharge_location  \\\n",
       "0           NaN          URGENT  PHYSICIAN REFERRAL               HOME   \n",
       "10253       NaN  EU OBSERVATION  PHYSICIAN REFERRAL                NaN   \n",
       "\n",
       "      insurance language marital_status ethnicity            edregtime  \\\n",
       "0         Other  ENGLISH            NaN   UNKNOWN                  NaN   \n",
       "10253     Other  ENGLISH        MARRIED     WHITE  2185-01-19 18:58:00   \n",
       "\n",
       "                 edouttime  hospital_expire_flag  \n",
       "0                      NaN                     0  \n",
       "10253  2185-01-20 01:34:00                     0  "
      ],
      "text/html": "<div>\n<style scoped>\n    .dataframe tbody tr th:only-of-type {\n        vertical-align: middle;\n    }\n\n    .dataframe tbody tr th {\n        vertical-align: top;\n    }\n\n    .dataframe thead th {\n        text-align: right;\n    }\n</style>\n<table border=\"1\" class=\"dataframe\">\n  <thead>\n    <tr style=\"text-align: right;\">\n      <th></th>\n      <th>subject_id</th>\n      <th>hadm_id</th>\n      <th>admittime</th>\n      <th>dischtime</th>\n      <th>deathtime</th>\n      <th>admission_type</th>\n      <th>admission_location</th>\n      <th>discharge_location</th>\n      <th>insurance</th>\n      <th>language</th>\n      <th>marital_status</th>\n      <th>ethnicity</th>\n      <th>edregtime</th>\n      <th>edouttime</th>\n      <th>hospital_expire_flag</th>\n    </tr>\n  </thead>\n  <tbody>\n    <tr>\n      <th>0</th>\n      <td>12427812</td>\n      <td>21593330</td>\n      <td>2184-01-06 11:51:00</td>\n      <td>2184-01-10 11:45:00</td>\n      <td>NaN</td>\n      <td>URGENT</td>\n      <td>PHYSICIAN REFERRAL</td>\n      <td>HOME</td>\n      <td>Other</td>\n      <td>ENGLISH</td>\n      <td>NaN</td>\n      <td>UNKNOWN</td>\n      <td>NaN</td>\n      <td>NaN</td>\n      <td>0</td>\n    </tr>\n    <tr>\n      <th>10253</th>\n      <td>12427812</td>\n      <td>23948770</td>\n      <td>2185-01-20 00:08:00</td>\n      <td>2185-01-21 11:45:00</td>\n      <td>NaN</td>\n      <td>EU OBSERVATION</td>\n      <td>PHYSICIAN REFERRAL</td>\n      <td>NaN</td>\n      <td>Other</td>\n      <td>ENGLISH</td>\n      <td>MARRIED</td>\n      <td>WHITE</td>\n      <td>2185-01-19 18:58:00</td>\n      <td>2185-01-20 01:34:00</td>\n      <td>0</td>\n    </tr>\n  </tbody>\n</table>\n</div>"
     },
     "metadata": {},
     "execution_count": 55
    }
   ],
   "source": [
    "admissions[admissions.subject_id == 12427812].head(40)"
   ]
  },
  {
   "cell_type": "code",
   "execution_count": 56,
   "metadata": {},
   "outputs": [
    {
     "output_type": "execute_result",
     "data": {
      "text/plain": [
       "  icd_code  icd_version                             long_title\n",
       "0  0010               9         Cholera due to vibrio cholerae\n",
       "1  0011               9  Cholera due to vibrio cholerae el tor\n",
       "2  0019               9                   Cholera, unspecified\n",
       "3  0020               9                          Typhoid fever\n",
       "4  0021               9                    Paratyphoid fever A\n",
       "5  0022               9                    Paratyphoid fever B\n",
       "6  0023               9                    Paratyphoid fever C\n",
       "7  0029               9         Paratyphoid fever, unspecified\n",
       "8  0030               9             Salmonella gastroenteritis\n",
       "9  0031               9                  Salmonella septicemia"
      ],
      "text/html": "<div>\n<style scoped>\n    .dataframe tbody tr th:only-of-type {\n        vertical-align: middle;\n    }\n\n    .dataframe tbody tr th {\n        vertical-align: top;\n    }\n\n    .dataframe thead th {\n        text-align: right;\n    }\n</style>\n<table border=\"1\" class=\"dataframe\">\n  <thead>\n    <tr style=\"text-align: right;\">\n      <th></th>\n      <th>icd_code</th>\n      <th>icd_version</th>\n      <th>long_title</th>\n    </tr>\n  </thead>\n  <tbody>\n    <tr>\n      <th>0</th>\n      <td>0010</td>\n      <td>9</td>\n      <td>Cholera due to vibrio cholerae</td>\n    </tr>\n    <tr>\n      <th>1</th>\n      <td>0011</td>\n      <td>9</td>\n      <td>Cholera due to vibrio cholerae el tor</td>\n    </tr>\n    <tr>\n      <th>2</th>\n      <td>0019</td>\n      <td>9</td>\n      <td>Cholera, unspecified</td>\n    </tr>\n    <tr>\n      <th>3</th>\n      <td>0020</td>\n      <td>9</td>\n      <td>Typhoid fever</td>\n    </tr>\n    <tr>\n      <th>4</th>\n      <td>0021</td>\n      <td>9</td>\n      <td>Paratyphoid fever A</td>\n    </tr>\n    <tr>\n      <th>5</th>\n      <td>0022</td>\n      <td>9</td>\n      <td>Paratyphoid fever B</td>\n    </tr>\n    <tr>\n      <th>6</th>\n      <td>0023</td>\n      <td>9</td>\n      <td>Paratyphoid fever C</td>\n    </tr>\n    <tr>\n      <th>7</th>\n      <td>0029</td>\n      <td>9</td>\n      <td>Paratyphoid fever, unspecified</td>\n    </tr>\n    <tr>\n      <th>8</th>\n      <td>0030</td>\n      <td>9</td>\n      <td>Salmonella gastroenteritis</td>\n    </tr>\n    <tr>\n      <th>9</th>\n      <td>0031</td>\n      <td>9</td>\n      <td>Salmonella septicemia</td>\n    </tr>\n  </tbody>\n</table>\n</div>"
     },
     "metadata": {},
     "execution_count": 56
    }
   ],
   "source": [
    "d_icd_diagnoses = pd.read_csv(f'{hosp_dir}d_icd_diagnoses.csv', low_memory=False)\n",
    "d_icd_diagnoses[:10]"
   ]
  },
  {
   "cell_type": "markdown",
   "metadata": {},
   "source": [
    "# Adding Readmission Label"
   ]
  },
  {
   "cell_type": "code",
   "execution_count": 57,
   "metadata": {},
   "outputs": [
    {
     "output_type": "execute_result",
     "data": {
      "text/plain": [
       "        subject_id   hadm_id           admittime           dischtime  \\\n",
       "187950    19999784  27192150 2120-01-26 00:00:00 2120-02-01 12:15:00   \n",
       "186117    19999784  27319264 2120-03-26 09:53:00 2120-04-01 13:00:00   \n",
       "187424    19999784  29324445 2120-05-28 09:07:00 2120-06-02 08:55:00   \n",
       "168474    19999784  23406899 2120-07-26 09:18:00 2120-07-31 18:15:00   \n",
       "178803    19999784  29889147 2120-10-25 09:43:00 2120-10-31 09:00:00   \n",
       "179787    19999784  29956342 2121-01-31 00:00:00 2121-02-05 12:44:00   \n",
       "187505    19999784  24755486 2121-05-30 09:22:00 2121-06-05 08:48:00   \n",
       "172700    19999828  29734428 2147-07-18 16:23:00 2147-08-04 18:10:00   \n",
       "175560    19999828  25744818 2149-01-08 16:44:00 2149-01-18 17:00:00   \n",
       "387927    19999840  26071774 2164-07-25 00:27:00 2164-07-28 12:15:00   \n",
       "\n",
       "       deathtime admission_type      admission_location discharge_location  \\\n",
       "187950       NaN       ELECTIVE      PHYSICIAN REFERRAL               HOME   \n",
       "186117       NaN       ELECTIVE      PHYSICIAN REFERRAL               HOME   \n",
       "187424       NaN       ELECTIVE      PHYSICIAN REFERRAL               HOME   \n",
       "168474       NaN       ELECTIVE      PHYSICIAN REFERRAL               HOME   \n",
       "178803       NaN       ELECTIVE      PHYSICIAN REFERRAL               HOME   \n",
       "179787       NaN       ELECTIVE      PHYSICIAN REFERRAL               HOME   \n",
       "187505       NaN       ELECTIVE      PHYSICIAN REFERRAL               HOME   \n",
       "172700       NaN       EW EMER.      PHYSICIAN REFERRAL   HOME HEALTH CARE   \n",
       "175560       NaN       EW EMER.  TRANSFER FROM HOSPITAL   HOME HEALTH CARE   \n",
       "387927       NaN       EW EMER.          EMERGENCY ROOM               HOME   \n",
       "\n",
       "       insurance language marital_status               ethnicity  \\\n",
       "187950  Medicaid  ENGLISH         SINGLE  BLACK/AFRICAN AMERICAN   \n",
       "186117  Medicaid  ENGLISH         SINGLE  BLACK/AFRICAN AMERICAN   \n",
       "187424  Medicaid  ENGLISH         SINGLE  BLACK/AFRICAN AMERICAN   \n",
       "168474  Medicaid  ENGLISH         SINGLE  BLACK/AFRICAN AMERICAN   \n",
       "178803  Medicaid  ENGLISH         SINGLE  BLACK/AFRICAN AMERICAN   \n",
       "179787  Medicaid  ENGLISH         SINGLE  BLACK/AFRICAN AMERICAN   \n",
       "187505  Medicaid  ENGLISH         SINGLE  BLACK/AFRICAN AMERICAN   \n",
       "172700     Other  ENGLISH         SINGLE                   WHITE   \n",
       "175560     Other  ENGLISH         SINGLE                   WHITE   \n",
       "387927     Other  ENGLISH        WIDOWED                   WHITE   \n",
       "\n",
       "                  edregtime            edouttime  hospital_expire_flag  \\\n",
       "187950                  NaN                  NaN                     0   \n",
       "186117                  NaN                  NaN                     0   \n",
       "187424                  NaN                  NaN                     0   \n",
       "168474                  NaN                  NaN                     0   \n",
       "178803                  NaN                  NaN                     0   \n",
       "179787                  NaN                  NaN                     0   \n",
       "187505                  NaN                  NaN                     0   \n",
       "172700  2147-07-17 17:18:00  2147-07-18 17:34:00                     0   \n",
       "175560  2149-01-08 09:11:00  2149-01-08 18:12:00                     0   \n",
       "387927  2164-07-24 21:16:00  2164-07-25 01:20:00                     0   \n",
       "\n",
       "        readmission_days  was_readmitted  \n",
       "187950                53            True  \n",
       "186117                56            True  \n",
       "187424                54            True  \n",
       "168474                85            True  \n",
       "178803                91            True  \n",
       "179787               113            True  \n",
       "187505                 0           False  \n",
       "172700               522            True  \n",
       "175560                 0           False  \n",
       "387927                44            True  "
      ],
      "text/html": "<div>\n<style scoped>\n    .dataframe tbody tr th:only-of-type {\n        vertical-align: middle;\n    }\n\n    .dataframe tbody tr th {\n        vertical-align: top;\n    }\n\n    .dataframe thead th {\n        text-align: right;\n    }\n</style>\n<table border=\"1\" class=\"dataframe\">\n  <thead>\n    <tr style=\"text-align: right;\">\n      <th></th>\n      <th>subject_id</th>\n      <th>hadm_id</th>\n      <th>admittime</th>\n      <th>dischtime</th>\n      <th>deathtime</th>\n      <th>admission_type</th>\n      <th>admission_location</th>\n      <th>discharge_location</th>\n      <th>insurance</th>\n      <th>language</th>\n      <th>marital_status</th>\n      <th>ethnicity</th>\n      <th>edregtime</th>\n      <th>edouttime</th>\n      <th>hospital_expire_flag</th>\n      <th>readmission_days</th>\n      <th>was_readmitted</th>\n    </tr>\n  </thead>\n  <tbody>\n    <tr>\n      <th>187950</th>\n      <td>19999784</td>\n      <td>27192150</td>\n      <td>2120-01-26 00:00:00</td>\n      <td>2120-02-01 12:15:00</td>\n      <td>NaN</td>\n      <td>ELECTIVE</td>\n      <td>PHYSICIAN REFERRAL</td>\n      <td>HOME</td>\n      <td>Medicaid</td>\n      <td>ENGLISH</td>\n      <td>SINGLE</td>\n      <td>BLACK/AFRICAN AMERICAN</td>\n      <td>NaN</td>\n      <td>NaN</td>\n      <td>0</td>\n      <td>53</td>\n      <td>True</td>\n    </tr>\n    <tr>\n      <th>186117</th>\n      <td>19999784</td>\n      <td>27319264</td>\n      <td>2120-03-26 09:53:00</td>\n      <td>2120-04-01 13:00:00</td>\n      <td>NaN</td>\n      <td>ELECTIVE</td>\n      <td>PHYSICIAN REFERRAL</td>\n      <td>HOME</td>\n      <td>Medicaid</td>\n      <td>ENGLISH</td>\n      <td>SINGLE</td>\n      <td>BLACK/AFRICAN AMERICAN</td>\n      <td>NaN</td>\n      <td>NaN</td>\n      <td>0</td>\n      <td>56</td>\n      <td>True</td>\n    </tr>\n    <tr>\n      <th>187424</th>\n      <td>19999784</td>\n      <td>29324445</td>\n      <td>2120-05-28 09:07:00</td>\n      <td>2120-06-02 08:55:00</td>\n      <td>NaN</td>\n      <td>ELECTIVE</td>\n      <td>PHYSICIAN REFERRAL</td>\n      <td>HOME</td>\n      <td>Medicaid</td>\n      <td>ENGLISH</td>\n      <td>SINGLE</td>\n      <td>BLACK/AFRICAN AMERICAN</td>\n      <td>NaN</td>\n      <td>NaN</td>\n      <td>0</td>\n      <td>54</td>\n      <td>True</td>\n    </tr>\n    <tr>\n      <th>168474</th>\n      <td>19999784</td>\n      <td>23406899</td>\n      <td>2120-07-26 09:18:00</td>\n      <td>2120-07-31 18:15:00</td>\n      <td>NaN</td>\n      <td>ELECTIVE</td>\n      <td>PHYSICIAN REFERRAL</td>\n      <td>HOME</td>\n      <td>Medicaid</td>\n      <td>ENGLISH</td>\n      <td>SINGLE</td>\n      <td>BLACK/AFRICAN AMERICAN</td>\n      <td>NaN</td>\n      <td>NaN</td>\n      <td>0</td>\n      <td>85</td>\n      <td>True</td>\n    </tr>\n    <tr>\n      <th>178803</th>\n      <td>19999784</td>\n      <td>29889147</td>\n      <td>2120-10-25 09:43:00</td>\n      <td>2120-10-31 09:00:00</td>\n      <td>NaN</td>\n      <td>ELECTIVE</td>\n      <td>PHYSICIAN REFERRAL</td>\n      <td>HOME</td>\n      <td>Medicaid</td>\n      <td>ENGLISH</td>\n      <td>SINGLE</td>\n      <td>BLACK/AFRICAN AMERICAN</td>\n      <td>NaN</td>\n      <td>NaN</td>\n      <td>0</td>\n      <td>91</td>\n      <td>True</td>\n    </tr>\n    <tr>\n      <th>179787</th>\n      <td>19999784</td>\n      <td>29956342</td>\n      <td>2121-01-31 00:00:00</td>\n      <td>2121-02-05 12:44:00</td>\n      <td>NaN</td>\n      <td>ELECTIVE</td>\n      <td>PHYSICIAN REFERRAL</td>\n      <td>HOME</td>\n      <td>Medicaid</td>\n      <td>ENGLISH</td>\n      <td>SINGLE</td>\n      <td>BLACK/AFRICAN AMERICAN</td>\n      <td>NaN</td>\n      <td>NaN</td>\n      <td>0</td>\n      <td>113</td>\n      <td>True</td>\n    </tr>\n    <tr>\n      <th>187505</th>\n      <td>19999784</td>\n      <td>24755486</td>\n      <td>2121-05-30 09:22:00</td>\n      <td>2121-06-05 08:48:00</td>\n      <td>NaN</td>\n      <td>ELECTIVE</td>\n      <td>PHYSICIAN REFERRAL</td>\n      <td>HOME</td>\n      <td>Medicaid</td>\n      <td>ENGLISH</td>\n      <td>SINGLE</td>\n      <td>BLACK/AFRICAN AMERICAN</td>\n      <td>NaN</td>\n      <td>NaN</td>\n      <td>0</td>\n      <td>0</td>\n      <td>False</td>\n    </tr>\n    <tr>\n      <th>172700</th>\n      <td>19999828</td>\n      <td>29734428</td>\n      <td>2147-07-18 16:23:00</td>\n      <td>2147-08-04 18:10:00</td>\n      <td>NaN</td>\n      <td>EW EMER.</td>\n      <td>PHYSICIAN REFERRAL</td>\n      <td>HOME HEALTH CARE</td>\n      <td>Other</td>\n      <td>ENGLISH</td>\n      <td>SINGLE</td>\n      <td>WHITE</td>\n      <td>2147-07-17 17:18:00</td>\n      <td>2147-07-18 17:34:00</td>\n      <td>0</td>\n      <td>522</td>\n      <td>True</td>\n    </tr>\n    <tr>\n      <th>175560</th>\n      <td>19999828</td>\n      <td>25744818</td>\n      <td>2149-01-08 16:44:00</td>\n      <td>2149-01-18 17:00:00</td>\n      <td>NaN</td>\n      <td>EW EMER.</td>\n      <td>TRANSFER FROM HOSPITAL</td>\n      <td>HOME HEALTH CARE</td>\n      <td>Other</td>\n      <td>ENGLISH</td>\n      <td>SINGLE</td>\n      <td>WHITE</td>\n      <td>2149-01-08 09:11:00</td>\n      <td>2149-01-08 18:12:00</td>\n      <td>0</td>\n      <td>0</td>\n      <td>False</td>\n    </tr>\n    <tr>\n      <th>387927</th>\n      <td>19999840</td>\n      <td>26071774</td>\n      <td>2164-07-25 00:27:00</td>\n      <td>2164-07-28 12:15:00</td>\n      <td>NaN</td>\n      <td>EW EMER.</td>\n      <td>EMERGENCY ROOM</td>\n      <td>HOME</td>\n      <td>Other</td>\n      <td>ENGLISH</td>\n      <td>WIDOWED</td>\n      <td>WHITE</td>\n      <td>2164-07-24 21:16:00</td>\n      <td>2164-07-25 01:20:00</td>\n      <td>0</td>\n      <td>44</td>\n      <td>True</td>\n    </tr>\n  </tbody>\n</table>\n</div>"
     },
     "metadata": {},
     "execution_count": 57
    }
   ],
   "source": [
    "# Sort by subject then time (assumes all admittime, dischtime ranges are exclusive)\n",
    "admissions = admissions.sort_values(by=[\"subject_id\", \"admittime\"])\n",
    "\n",
    "# Convert date strings to datetime objects\n",
    "admissions['admittime'] = admissions['admittime'].map(parser.parse)\n",
    "admissions['dischtime'] = admissions['dischtime'].map(parser.parse)\n",
    "\n",
    "# For temporary ease of understanding, append the array to itself, shifted up one on the right half\n",
    "admissions_combined = pd.concat([admissions, admissions.shift(-1).rename(lambda x: str(x) + \"_shifted\", axis=\"columns\")], axis=1)\n",
    "\n",
    "# Whether or not that visit was before a readmission of that patient (note the last visit is false)\n",
    "admissions_combined['was_readmitted'] = admissions_combined['subject_id'] == admissions_combined['subject_id_shifted']\n",
    "\n",
    "# This creates a new column that's the difference in dates between admissions, regardless of if its the same patient\n",
    "admissions_combined['readmission_days'] = (admissions_combined['admittime_shifted'] - admissions_combined['dischtime']).fillna(pd.Timedelta(seconds=-1))\n",
    "admissions_combined['readmission_days'] = admissions_combined['readmission_days'].dt.days\n",
    "admissions_combined['readmission_days'] = admissions_combined['was_readmitted'] * admissions_combined['readmission_days']\n",
    "admissions['readmission_days'] = admissions_combined['readmission_days']\n",
    "admissions['was_readmitted'] = admissions_combined['was_readmitted']\n",
    "\n",
    "# All hadm_ids belonging to people who were readmitted, fitler to last 10 for brevity of printing\n",
    "admissions[(admissions['was_readmitted']==True) | (admissions.shift(-1)['was_readmitted']==True)][-10:]"
   ]
  },
  {
   "cell_type": "code",
   "execution_count": 58,
   "metadata": {},
   "outputs": [],
   "source": [
    "# adding in an admission number because maybe we only want to look at first readmission\n",
    "admissions['counter'] = 1\n",
    "admissions = admissions.sort_values(by=[\"subject_id\", \"admittime\"])\n",
    "admissions['admission_num'] = admissions.groupby(['subject_id']).counter.cumsum() "
   ]
  },
  {
   "cell_type": "code",
   "execution_count": 59,
   "metadata": {},
   "outputs": [
    {
     "output_type": "execute_result",
     "data": {
      "text/plain": [
       "        subject_id   hadm_id           admittime           dischtime  \\\n",
       "446266    10000032  22595853 2180-05-06 22:23:00 2180-05-07 17:15:00   \n",
       "451986    10000032  22841357 2180-06-26 18:27:00 2180-06-27 18:49:00   \n",
       "423408    10000032  29079034 2180-07-23 12:35:00 2180-07-25 17:55:00   \n",
       "455511    10000032  25742920 2180-08-05 23:44:00 2180-08-07 17:50:00   \n",
       "\n",
       "       deathtime admission_type      admission_location discharge_location  \\\n",
       "446266       NaN         URGENT  TRANSFER FROM HOSPITAL               HOME   \n",
       "451986       NaN       EW EMER.          EMERGENCY ROOM               HOME   \n",
       "423408       NaN       EW EMER.          EMERGENCY ROOM               HOME   \n",
       "455511       NaN       EW EMER.          EMERGENCY ROOM            HOSPICE   \n",
       "\n",
       "       insurance language marital_status ethnicity            edregtime  \\\n",
       "446266     Other  ENGLISH        WIDOWED     WHITE  2180-05-06 19:17:00   \n",
       "451986  Medicaid  ENGLISH        WIDOWED     WHITE  2180-06-26 15:54:00   \n",
       "423408  Medicaid  ENGLISH        WIDOWED     WHITE  2180-07-23 05:54:00   \n",
       "455511  Medicaid  ENGLISH        WIDOWED     WHITE  2180-08-05 20:58:00   \n",
       "\n",
       "                  edouttime  hospital_expire_flag  readmission_days  \\\n",
       "446266  2180-05-06 23:30:00                     0                50   \n",
       "451986  2180-06-26 21:31:00                     0                25   \n",
       "423408  2180-07-23 14:00:00                     0                11   \n",
       "455511  2180-08-06 01:44:00                     0                 0   \n",
       "\n",
       "        was_readmitted  counter  admission_num  \n",
       "446266            True        1              1  \n",
       "451986            True        1              2  \n",
       "423408            True        1              3  \n",
       "455511           False        1              4  "
      ],
      "text/html": "<div>\n<style scoped>\n    .dataframe tbody tr th:only-of-type {\n        vertical-align: middle;\n    }\n\n    .dataframe tbody tr th {\n        vertical-align: top;\n    }\n\n    .dataframe thead th {\n        text-align: right;\n    }\n</style>\n<table border=\"1\" class=\"dataframe\">\n  <thead>\n    <tr style=\"text-align: right;\">\n      <th></th>\n      <th>subject_id</th>\n      <th>hadm_id</th>\n      <th>admittime</th>\n      <th>dischtime</th>\n      <th>deathtime</th>\n      <th>admission_type</th>\n      <th>admission_location</th>\n      <th>discharge_location</th>\n      <th>insurance</th>\n      <th>language</th>\n      <th>marital_status</th>\n      <th>ethnicity</th>\n      <th>edregtime</th>\n      <th>edouttime</th>\n      <th>hospital_expire_flag</th>\n      <th>readmission_days</th>\n      <th>was_readmitted</th>\n      <th>counter</th>\n      <th>admission_num</th>\n    </tr>\n  </thead>\n  <tbody>\n    <tr>\n      <th>446266</th>\n      <td>10000032</td>\n      <td>22595853</td>\n      <td>2180-05-06 22:23:00</td>\n      <td>2180-05-07 17:15:00</td>\n      <td>NaN</td>\n      <td>URGENT</td>\n      <td>TRANSFER FROM HOSPITAL</td>\n      <td>HOME</td>\n      <td>Other</td>\n      <td>ENGLISH</td>\n      <td>WIDOWED</td>\n      <td>WHITE</td>\n      <td>2180-05-06 19:17:00</td>\n      <td>2180-05-06 23:30:00</td>\n      <td>0</td>\n      <td>50</td>\n      <td>True</td>\n      <td>1</td>\n      <td>1</td>\n    </tr>\n    <tr>\n      <th>451986</th>\n      <td>10000032</td>\n      <td>22841357</td>\n      <td>2180-06-26 18:27:00</td>\n      <td>2180-06-27 18:49:00</td>\n      <td>NaN</td>\n      <td>EW EMER.</td>\n      <td>EMERGENCY ROOM</td>\n      <td>HOME</td>\n      <td>Medicaid</td>\n      <td>ENGLISH</td>\n      <td>WIDOWED</td>\n      <td>WHITE</td>\n      <td>2180-06-26 15:54:00</td>\n      <td>2180-06-26 21:31:00</td>\n      <td>0</td>\n      <td>25</td>\n      <td>True</td>\n      <td>1</td>\n      <td>2</td>\n    </tr>\n    <tr>\n      <th>423408</th>\n      <td>10000032</td>\n      <td>29079034</td>\n      <td>2180-07-23 12:35:00</td>\n      <td>2180-07-25 17:55:00</td>\n      <td>NaN</td>\n      <td>EW EMER.</td>\n      <td>EMERGENCY ROOM</td>\n      <td>HOME</td>\n      <td>Medicaid</td>\n      <td>ENGLISH</td>\n      <td>WIDOWED</td>\n      <td>WHITE</td>\n      <td>2180-07-23 05:54:00</td>\n      <td>2180-07-23 14:00:00</td>\n      <td>0</td>\n      <td>11</td>\n      <td>True</td>\n      <td>1</td>\n      <td>3</td>\n    </tr>\n    <tr>\n      <th>455511</th>\n      <td>10000032</td>\n      <td>25742920</td>\n      <td>2180-08-05 23:44:00</td>\n      <td>2180-08-07 17:50:00</td>\n      <td>NaN</td>\n      <td>EW EMER.</td>\n      <td>EMERGENCY ROOM</td>\n      <td>HOSPICE</td>\n      <td>Medicaid</td>\n      <td>ENGLISH</td>\n      <td>WIDOWED</td>\n      <td>WHITE</td>\n      <td>2180-08-05 20:58:00</td>\n      <td>2180-08-06 01:44:00</td>\n      <td>0</td>\n      <td>0</td>\n      <td>False</td>\n      <td>1</td>\n      <td>4</td>\n    </tr>\n  </tbody>\n</table>\n</div>"
     },
     "metadata": {},
     "execution_count": 59
    }
   ],
   "source": [
    "# sanity checks to make sure that admission_num flag is correct\n",
    "admissions[admissions.subject_id == 12427812][['admission_num']][-10:]\n",
    "admissions[admissions.admission_num>3]\n",
    "admissions[admissions.subject_id == 10000032].head()"
   ]
  },
  {
   "cell_type": "markdown",
   "metadata": {},
   "source": [
    "# Adding in Heart Failure Information"
   ]
  },
  {
   "cell_type": "code",
   "execution_count": 60,
   "metadata": {
    "scrolled": true
   },
   "outputs": [
    {
     "output_type": "stream",
     "name": "stdout",
     "text": [
      "0          False\n1          False\n2          False\n3          False\n4          False\n           ...  \n4677919    False\n4677920    False\n4677921    False\n4677922    False\n4677923    False\nName: heart_failure, Length: 4677924, dtype: bool\n"
     ]
    }
   ],
   "source": [
    "##inner join admissions with diagnoses_icd\n",
    "diagnosis_icd = pd.read_csv(f'{hosp_dir}diagnoses_icd.csv', low_memory=False)\n",
    "#diagnosis_icd = diagnosis_icd.iloc[0:100]\n",
    "admissions = pd.merge(left = admissions, right = diagnosis_icd, how = 'inner', on = ['subject_id','hadm_id'], suffixes =('_adm', '_diag'))\n",
    "\n",
    "#from Group A\n",
    "chf_icd = pd.read_csv('CHF_ICD.csv', low_memory=False)\n",
    "\n",
    "# for comparison\n",
    "chf_icd['icd_code'] = chf_icd['icd_code'].apply(str)\n",
    "admissions = admissions.apply(lambda x: x.str.strip() if x.dtype == \"object\" else x)\n",
    "chf_icd = chf_icd.apply(lambda x: x.str.strip() if x.dtype == \"object\" else x)\n",
    "#merge admissions table containing readmission days and icd_codes with appropriate icd_code for heart failure\n",
    "#admissions_icd = pd.merge(left = admissions_icd, right = chf_icd, how = 'inner', on = ['icd_code','icd_version'], suffixes =('_adm', '_diag'))\n",
    "admissions['heart_failure'] = admissions['icd_code'].isin(chf_icd['icd_code']).values\n",
    "print(admissions['heart_failure'])\n"
   ]
  },
  {
   "cell_type": "markdown",
   "metadata": {},
   "source": [
    "# Adding in Emergency Department Information"
   ]
  },
  {
   "cell_type": "code",
   "execution_count": 61,
   "metadata": {},
   "outputs": [
    {
     "output_type": "execute_result",
     "data": {
      "text/plain": [
       "EMERGENCY ROOM                            2216126\n",
       "PHYSICIAN REFERRAL                        1157531\n",
       "TRANSFER FROM HOSPITAL                     545127\n",
       "WALK-IN/SELF REFERRAL                      201537\n",
       "CLINIC REFERRAL                            117237\n",
       "TRANSFER FROM SKILLED NURSING FACILITY      74938\n",
       "PROCEDURE SITE                              66193\n",
       "PACU                                        46364\n",
       "INTERNAL TRANSFER TO OR FROM PSYCH          40586\n",
       "INFORMATION NOT AVAILABLE                    5399\n",
       "AMBULATORY SURGERY TRANSFER                  2909\n",
       "Name: admission_location, dtype: int64"
      ]
     },
     "metadata": {},
     "execution_count": 61
    }
   ],
   "source": [
    "admissions.admission_location.value_counts()"
   ]
  },
  {
   "cell_type": "code",
   "execution_count": 62,
   "metadata": {
    "scrolled": true
   },
   "outputs": [
    {
     "output_type": "execute_result",
     "data": {
      "text/plain": [
       "   subject_id  admit_to_emergency      admission_location\n",
       "0    10000032                   0  TRANSFER FROM HOSPITAL\n",
       "1    10000032                   0  TRANSFER FROM HOSPITAL\n",
       "2    10000032                   0  TRANSFER FROM HOSPITAL\n",
       "3    10000032                   0  TRANSFER FROM HOSPITAL\n",
       "4    10000032                   0  TRANSFER FROM HOSPITAL"
      ],
      "text/html": "<div>\n<style scoped>\n    .dataframe tbody tr th:only-of-type {\n        vertical-align: middle;\n    }\n\n    .dataframe tbody tr th {\n        vertical-align: top;\n    }\n\n    .dataframe thead th {\n        text-align: right;\n    }\n</style>\n<table border=\"1\" class=\"dataframe\">\n  <thead>\n    <tr style=\"text-align: right;\">\n      <th></th>\n      <th>subject_id</th>\n      <th>admit_to_emergency</th>\n      <th>admission_location</th>\n    </tr>\n  </thead>\n  <tbody>\n    <tr>\n      <th>0</th>\n      <td>10000032</td>\n      <td>0</td>\n      <td>TRANSFER FROM HOSPITAL</td>\n    </tr>\n    <tr>\n      <th>1</th>\n      <td>10000032</td>\n      <td>0</td>\n      <td>TRANSFER FROM HOSPITAL</td>\n    </tr>\n    <tr>\n      <th>2</th>\n      <td>10000032</td>\n      <td>0</td>\n      <td>TRANSFER FROM HOSPITAL</td>\n    </tr>\n    <tr>\n      <th>3</th>\n      <td>10000032</td>\n      <td>0</td>\n      <td>TRANSFER FROM HOSPITAL</td>\n    </tr>\n    <tr>\n      <th>4</th>\n      <td>10000032</td>\n      <td>0</td>\n      <td>TRANSFER FROM HOSPITAL</td>\n    </tr>\n  </tbody>\n</table>\n</div>"
     },
     "metadata": {},
     "execution_count": 62
    }
   ],
   "source": [
    "admissions['admit_to_emergency'] = np.where(admissions.admission_location.notnull() & admissions.admission_location.str.contains('EMERGENCY'), 1, 0)\n",
    "admissions[['subject_id', 'admit_to_emergency', 'admission_location']].head()"
   ]
  },
  {
   "cell_type": "code",
   "execution_count": 63,
   "metadata": {},
   "outputs": [
    {
     "output_type": "execute_result",
     "data": {
      "text/plain": [
       "EMERGENCY ROOM    2216126\n",
       "Name: admission_location, dtype: int64"
      ]
     },
     "metadata": {},
     "execution_count": 63
    }
   ],
   "source": [
    "# sanity check to make sure that admit_to_emergency is only true when admit location is ER\n",
    "admissions[admissions.admit_to_emergency == 1].admission_location.value_counts(dropna=False)"
   ]
  },
  {
   "cell_type": "code",
   "execution_count": 64,
   "metadata": {},
   "outputs": [
    {
     "output_type": "execute_result",
     "data": {
      "text/plain": [
       "0    2461798\n",
       "1    2216126\n",
       "Name: admit_to_emergency, dtype: int64"
      ]
     },
     "metadata": {},
     "execution_count": 64
    }
   ],
   "source": [
    "admissions.admit_to_emergency.value_counts(dropna=False)"
   ]
  },
  {
   "cell_type": "markdown",
   "metadata": {},
   "source": [
    "# Expanding to 8 Output Channels"
   ]
  },
  {
   "cell_type": "markdown",
   "metadata": {},
   "source": [
    "Output Channels to Add\n",
    "\n",
    "1) 48h readmission due to HF exacerbation\n",
    "\n",
    "2) 14-day readmission due to HF exacerbation\n",
    "\n",
    "3) 30-day readmission due to HF exacerbation\n",
    "\n",
    "4) ED visit due to HF exacerbation\n",
    "\n",
    "5) 48h readmission due to any reason\n",
    "\n",
    "6) 14-day readmission due to any reason\n",
    "\n",
    "7) 30-day readmission due to any reason\n",
    "\n",
    "8) ED visit due to any reason\n"
   ]
  },
  {
   "cell_type": "code",
   "execution_count": 65,
   "metadata": {},
   "outputs": [
    {
     "output_type": "execute_result",
     "data": {
      "text/plain": [
       "0    4660282\n",
       "1      17642\n",
       "Name: 48h_hf, dtype: int64"
      ]
     },
     "metadata": {},
     "execution_count": 65
    }
   ],
   "source": [
    "admissions['48h_hf'] = np.where((admissions.heart_failure == 1) & (admissions.readmission_days <=2), 1, 0)\n",
    "admissions['48h_hf'].value_counts()"
   ]
  },
  {
   "cell_type": "code",
   "execution_count": 66,
   "metadata": {},
   "outputs": [
    {
     "output_type": "execute_result",
     "data": {
      "text/plain": [
       "0    4653640\n",
       "1      24284\n",
       "Name: 14d_hf, dtype: int64"
      ]
     },
     "metadata": {},
     "execution_count": 66
    }
   ],
   "source": [
    "admissions['14d_hf'] = np.where((admissions.heart_failure == 1) & (admissions.readmission_days <=14), 1, 0)\n",
    "admissions['14d_hf'].value_counts()"
   ]
  },
  {
   "cell_type": "code",
   "execution_count": 67,
   "metadata": {},
   "outputs": [
    {
     "output_type": "execute_result",
     "data": {
      "text/plain": [
       "0    4648556\n",
       "1      29368\n",
       "Name: 30d_hf, dtype: int64"
      ]
     },
     "metadata": {},
     "execution_count": 67
    }
   ],
   "source": [
    "admissions['30d_hf'] = np.where((admissions.heart_failure == 1) & (admissions.readmission_days <=30), 1, 0)\n",
    "admissions['30d_hf'].value_counts()"
   ]
  },
  {
   "cell_type": "code",
   "execution_count": 68,
   "metadata": {},
   "outputs": [
    {
     "output_type": "execute_result",
     "data": {
      "text/plain": [
       "0    4639648\n",
       "1      38276\n",
       "Name: er_hf, dtype: int64"
      ]
     },
     "metadata": {},
     "execution_count": 68
    }
   ],
   "source": [
    "admissions['er_hf'] = np.where((admissions.heart_failure == 1) & (admissions.admit_to_emergency == 1), 1, 0)\n",
    "admissions['er_hf'].value_counts()"
   ]
  },
  {
   "cell_type": "code",
   "execution_count": 69,
   "metadata": {},
   "outputs": [
    {
     "output_type": "execute_result",
     "data": {
      "text/plain": [
       "0    2470084\n",
       "1    2207840\n",
       "Name: 48h, dtype: int64"
      ]
     },
     "metadata": {},
     "execution_count": 69
    }
   ],
   "source": [
    "admissions['48h'] = np.where(admissions.readmission_days <=2, 1, 0)\n",
    "admissions['48h'].value_counts()"
   ]
  },
  {
   "cell_type": "code",
   "execution_count": 70,
   "metadata": {},
   "outputs": [
    {
     "output_type": "execute_result",
     "data": {
      "text/plain": [
       "1    2693177\n",
       "0    1984747\n",
       "Name: 14d, dtype: int64"
      ]
     },
     "metadata": {},
     "execution_count": 70
    }
   ],
   "source": [
    "admissions['14d'] = np.where(admissions.readmission_days <=14, 1, 0)\n",
    "admissions['14d'].value_counts()"
   ]
  },
  {
   "cell_type": "code",
   "execution_count": 71,
   "metadata": {},
   "outputs": [
    {
     "output_type": "execute_result",
     "data": {
      "text/plain": [
       "1    3032310\n",
       "0    1645614\n",
       "Name: 30d, dtype: int64"
      ]
     },
     "metadata": {},
     "execution_count": 71
    }
   ],
   "source": [
    "admissions['30d'] = np.where(admissions.readmission_days <=30, 1, 0)\n",
    "admissions['30d'].value_counts()"
   ]
  },
  {
   "cell_type": "code",
   "execution_count": 72,
   "metadata": {},
   "outputs": [
    {
     "output_type": "execute_result",
     "data": {
      "text/plain": [
       "0    2461798\n",
       "1    2216126\n",
       "Name: er, dtype: int64"
      ]
     },
     "metadata": {},
     "execution_count": 72
    }
   ],
   "source": [
    "admissions['er'] = np.where(admissions.admit_to_emergency == 1, 1, 0)\n",
    "admissions['er'].value_counts()"
   ]
  },
  {
   "cell_type": "code",
   "execution_count": 73,
   "metadata": {},
   "outputs": [],
   "source": [
    "#dropping unnecessary variables\n",
    "admissions.drop(['heart_failure', 'admit_to_emergency', 'readmission_days'], inplace = True, axis = 1)"
   ]
  },
  {
   "cell_type": "code",
   "execution_count": 91,
   "metadata": {},
   "outputs": [],
   "source": [
    "def print_stats(df, var_name, total_count = 0, extra_info = False):\n",
    "    print('--------------------Current cohort %s --------------------' %var_name)\n",
    "    print('Proportion of patients in cohort: %s' % str((sum(admissions[var_name])) / total_count))\n",
    "    total_patients = sum(admissions[var_name])\n",
    "    if extra_info:\n",
    "        cohort = df[df[var_name] == 1]\n",
    "        print('Gender Breakdown: \\n%s' %str((cohort.gender.value_counts()) / total_patients) +'\\n')\n",
    "        print('Insurance Breakdown: \\n%s' %str((cohort.insurance.value_counts()) / total_patients) +'\\n')\n",
    "        print('Ethnicity Breakdown: \\n%s' %str((cohort.ethnicity.value_counts()) / total_patients) +'\\n')\n"
   ]
  },
  {
   "cell_type": "code",
   "execution_count": 92,
   "metadata": {},
   "outputs": [
    {
     "output_type": "stream",
     "name": "stdout",
     "text": [
      "Total Number of patients 4677924: \n",
      "--------------------Current cohort 48h_hf --------------------\n",
      "Proportion of patients in cohort: 0.003771331043428666\n",
      "Gender Breakdown: \n",
      "M    0.506462\n",
      "F    0.493538\n",
      "Name: gender, dtype: float64\n",
      "\n",
      "Insurance Breakdown: \n",
      "Medicare    0.635019\n",
      "Other       0.321676\n",
      "Medicaid    0.043306\n",
      "Name: insurance, dtype: float64\n",
      "\n",
      "Ethnicity Breakdown: \n",
      "WHITE                            0.726618\n",
      "BLACK/AFRICAN AMERICAN           0.112232\n",
      "UNKNOWN                          0.052885\n",
      "OTHER                            0.039678\n",
      "HISPANIC/LATINO                  0.033160\n",
      "ASIAN                            0.022900\n",
      "UNABLE TO OBTAIN                 0.010203\n",
      "AMERICAN INDIAN/ALASKA NATIVE    0.002324\n",
      "Name: ethnicity, dtype: float64\n",
      "\n",
      "--------------------Current cohort 14d_hf --------------------\n",
      "Proportion of patients in cohort: 0.005191191648261066\n",
      "Gender Breakdown: \n",
      "M    0.507577\n",
      "F    0.492423\n",
      "Name: gender, dtype: float64\n",
      "\n",
      "Insurance Breakdown: \n",
      "Medicare    0.638610\n",
      "Other       0.315146\n",
      "Medicaid    0.046244\n",
      "Name: insurance, dtype: float64\n",
      "\n",
      "Ethnicity Breakdown: \n",
      "WHITE                            0.712074\n",
      "BLACK/AFRICAN AMERICAN           0.136015\n",
      "HISPANIC/LATINO                  0.041056\n",
      "UNKNOWN                          0.039944\n",
      "OTHER                            0.038009\n",
      "ASIAN                            0.022813\n",
      "UNABLE TO OBTAIN                 0.007824\n",
      "AMERICAN INDIAN/ALASKA NATIVE    0.002265\n",
      "Name: ethnicity, dtype: float64\n",
      "\n",
      "--------------------Current cohort 30d_hf --------------------\n",
      "Proportion of patients in cohort: 0.006277998530972286\n",
      "Gender Breakdown: \n",
      "M    0.508547\n",
      "F    0.491453\n",
      "Name: gender, dtype: float64\n",
      "\n",
      "Insurance Breakdown: \n",
      "Medicare    0.643217\n",
      "Other       0.307580\n",
      "Medicaid    0.049203\n",
      "Name: insurance, dtype: float64\n",
      "\n",
      "Ethnicity Breakdown: \n",
      "WHITE                            0.704747\n",
      "BLACK/AFRICAN AMERICAN           0.149142\n",
      "HISPANIC/LATINO                  0.042904\n",
      "OTHER                            0.037694\n",
      "UNKNOWN                          0.034357\n",
      "ASIAN                            0.022133\n",
      "UNABLE TO OBTAIN                 0.007014\n",
      "AMERICAN INDIAN/ALASKA NATIVE    0.002009\n",
      "Name: ethnicity, dtype: float64\n",
      "\n",
      "--------------------Current cohort er_hf --------------------\n",
      "Proportion of patients in cohort: 0.008182262046155516\n",
      "Gender Breakdown: \n",
      "F    0.501959\n",
      "M    0.498041\n",
      "Name: gender, dtype: float64\n",
      "\n",
      "Insurance Breakdown: \n",
      "Medicare    0.660231\n",
      "Other       0.287648\n",
      "Medicaid    0.052121\n",
      "Name: insurance, dtype: float64\n",
      "\n",
      "Ethnicity Breakdown: \n",
      "WHITE                            0.678598\n",
      "BLACK/AFRICAN AMERICAN           0.204854\n",
      "HISPANIC/LATINO                  0.051573\n",
      "OTHER                            0.029444\n",
      "ASIAN                            0.022521\n",
      "UNKNOWN                          0.008987\n",
      "AMERICAN INDIAN/ALASKA NATIVE    0.002221\n",
      "UNABLE TO OBTAIN                 0.001803\n",
      "Name: ethnicity, dtype: float64\n",
      "\n",
      "--------------------Current cohort 48h --------------------\n",
      "Proportion of patients in cohort: 0.4719700448318528\n",
      "Gender Breakdown: \n",
      "M    0.502328\n",
      "F    0.497672\n",
      "Name: gender, dtype: float64\n",
      "\n",
      "Insurance Breakdown: \n",
      "Other       0.536889\n",
      "Medicare    0.391091\n",
      "Medicaid    0.072020\n",
      "Name: insurance, dtype: float64\n",
      "\n",
      "Ethnicity Breakdown: \n",
      "WHITE                            0.665598\n",
      "BLACK/AFRICAN AMERICAN           0.124445\n",
      "UNKNOWN                          0.063673\n",
      "OTHER                            0.051943\n",
      "HISPANIC/LATINO                  0.044397\n",
      "ASIAN                            0.041075\n",
      "UNABLE TO OBTAIN                 0.005511\n",
      "AMERICAN INDIAN/ALASKA NATIVE    0.003358\n",
      "Name: ethnicity, dtype: float64\n",
      "\n",
      "--------------------Current cohort 14d --------------------\n",
      "Proportion of patients in cohort: 0.5757205546733979\n",
      "Gender Breakdown: \n",
      "M    0.506081\n",
      "F    0.493919\n",
      "Name: gender, dtype: float64\n",
      "\n",
      "Insurance Breakdown: \n",
      "Other       0.520806\n",
      "Medicare    0.405189\n",
      "Medicaid    0.074005\n",
      "Name: insurance, dtype: float64\n",
      "\n",
      "Ethnicity Breakdown: \n",
      "WHITE                            0.671438\n",
      "BLACK/AFRICAN AMERICAN           0.131778\n",
      "UNKNOWN                          0.053893\n",
      "OTHER                            0.049880\n",
      "HISPANIC/LATINO                  0.045813\n",
      "ASIAN                            0.039192\n",
      "UNABLE TO OBTAIN                 0.004732\n",
      "AMERICAN INDIAN/ALASKA NATIVE    0.003274\n",
      "Name: ethnicity, dtype: float64\n",
      "\n",
      "--------------------Current cohort 30d --------------------\n",
      "Proportion of patients in cohort: 0.6482170296054404\n",
      "Gender Breakdown: \n",
      "M    0.50732\n",
      "F    0.49268\n",
      "Name: gender, dtype: float64\n",
      "\n",
      "Insurance Breakdown: \n",
      "Other       0.511557\n",
      "Medicare    0.413386\n",
      "Medicaid    0.075057\n",
      "Name: insurance, dtype: float64\n",
      "\n",
      "Ethnicity Breakdown: \n",
      "WHITE                            0.673703\n",
      "BLACK/AFRICAN AMERICAN           0.136310\n",
      "OTHER                            0.049112\n",
      "UNKNOWN                          0.048967\n",
      "HISPANIC/LATINO                  0.046641\n",
      "ASIAN                            0.037674\n",
      "UNABLE TO OBTAIN                 0.004380\n",
      "AMERICAN INDIAN/ALASKA NATIVE    0.003212\n",
      "Name: ethnicity, dtype: float64\n",
      "\n",
      "--------------------Current cohort er --------------------\n",
      "Proportion of patients in cohort: 0.4737413433822354\n",
      "Gender Breakdown: \n",
      "F    0.501939\n",
      "M    0.498061\n",
      "Name: gender, dtype: float64\n",
      "\n",
      "Insurance Breakdown: \n",
      "Medicare    0.482165\n",
      "Other       0.429085\n",
      "Medicaid    0.088750\n",
      "Name: insurance, dtype: float64\n",
      "\n",
      "Ethnicity Breakdown: \n",
      "WHITE                            0.678867\n",
      "BLACK/AFRICAN AMERICAN           0.175327\n",
      "HISPANIC/LATINO                  0.054535\n",
      "OTHER                            0.037558\n",
      "ASIAN                            0.028022\n",
      "UNKNOWN                          0.021001\n",
      "AMERICAN INDIAN/ALASKA NATIVE    0.002514\n",
      "UNABLE TO OBTAIN                 0.002176\n",
      "Name: ethnicity, dtype: float64\n",
      "\n"
     ]
    }
   ],
   "source": [
    "#printing final statistics\n",
    "patients = patients[['subject_id', 'gender']]\n",
    "stats = admissions.merge(patients, on = ['subject_id'], how = 'left')\n",
    "total_count = stats.shape[0] * 1.0\n",
    "print(\"Total Number of patients %d: \" % total_count)\n",
    "for var in ['48h_hf', '14d_hf', '30d_hf', 'er_hf', '48h', '14d', '30d', 'er']:\n",
    "    print_stats(stats, var, total_count = total_count, extra_info = True)"
   ]
  },
  {
   "cell_type": "code",
   "execution_count": null,
   "metadata": {},
   "outputs": [],
   "source": []
  }
 ],
 "metadata": {
  "kernelspec": {
   "name": "python385jvsc74a57bd0f85c0ae1067a86ad6a96b144378883e79fd1516474b579ba33ee3a7084540002",
   "display_name": "Python 3.8.5 64-bit ('base': conda)"
  },
  "language_info": {
   "codemirror_mode": {
    "name": "ipython",
    "version": 3
   },
   "file_extension": ".py",
   "mimetype": "text/x-python",
   "name": "python",
   "nbconvert_exporter": "python",
   "pygments_lexer": "ipython3",
   "version": "3.8.5-final"
  },
  "metadata": {
   "interpreter": {
    "hash": "5edc29c2ed010d6458d71a83433b383a96a8cbd3efe8531bc90c4b8a5b8bcec9"
   }
  }
 },
 "nbformat": 4,
 "nbformat_minor": 2
}