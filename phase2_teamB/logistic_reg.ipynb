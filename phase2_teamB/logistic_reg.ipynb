{
 "cells": [
  {
   "cell_type": "code",
   "execution_count": 110,
   "metadata": {},
   "outputs": [],
   "source": [
    "import pandas as pd\n",
    "import numpy as np\n",
    "import pickle, os\n",
    "from dateutil import parser\n",
    "from sklearn.model_selection import train_test_split\n"
   ]
  },
  {
   "cell_type": "code",
   "execution_count": 111,
   "metadata": {},
   "outputs": [],
   "source": [
    "features_dir = './'"
   ]
  },
  {
   "cell_type": "code",
   "execution_count": 112,
   "metadata": {},
   "outputs": [],
   "source": [
    "test_size = 0.2\n",
    "val_size = 0.16\n",
    "train_size = 0.64\n",
    "assert(test_size + val_size + train_size == 1)"
   ]
  },
  {
   "cell_type": "markdown",
   "metadata": {},
   "source": [
    "## Load and Merge Features"
   ]
  },
  {
   "cell_type": "code",
   "execution_count": 200,
   "metadata": {},
   "outputs": [],
   "source": [
    "features = pd.read_csv(f'{features_dir}features.csv', low_memory=False)\n",
    "dem_comorbidity_features = pd.read_csv(f'{features_dir}demographic_comorbidity_features.csv', low_memory=False)\n",
    "labels = pd.read_csv('../phase1_teamB/final_cohort_with_outcome_labels.csv')"
   ]
  },
  {
   "cell_type": "code",
   "execution_count": 201,
   "metadata": {},
   "outputs": [],
   "source": [
    "features = features.drop(['admittime', 'dischtime'], axis=1).set_index('hadm_id')\n",
    "dem_comorbidity_features = dem_comorbidity_features.drop(['admittime', 'dischtime', 'Unnamed: 0'], axis=1).set_index('hadm_id')\n",
    "labels = labels[[\"hadm_id\", \"48h_hf\", \"14d_hf\", \"30d_hf\", \"er_hf\", \"48h\", \"14d\", \"30d\", \"er\"]].set_index('hadm_id')"
   ]
  },
  {
   "cell_type": "code",
   "execution_count": 202,
   "metadata": {},
   "outputs": [],
   "source": [
    "features = features.join(dem_comorbidity_features, how='outer')"
   ]
  },
  {
   "cell_type": "code",
   "execution_count": 204,
   "metadata": {},
   "outputs": [
    {
     "name": "stderr",
     "output_type": "stream",
     "text": [
      "<ipython-input-204-be7cd38dc1ba>:2: SettingWithCopyWarning: \n",
      "A value is trying to be set on a copy of a slice from a DataFrame.\n",
      "Try using .loc[row_indexer,col_indexer] = value instead\n",
      "\n",
      "See the caveats in the documentation: https://pandas.pydata.org/pandas-docs/stable/user_guide/indexing.html#returning-a-view-versus-a-copy\n",
      "  new_features[features.columns[0]] = features[features.columns[0]]\n"
     ]
    }
   ],
   "source": [
    "new_features = features[features.columns[1221:]]\n",
    "new_features[features.columns[0]] = features[features.columns[0]]"
   ]
  },
  {
   "cell_type": "code",
   "execution_count": 205,
   "metadata": {},
   "outputs": [
    {
     "data": {
      "text/html": [
       "<div>\n",
       "<style scoped>\n",
       "    .dataframe tbody tr th:only-of-type {\n",
       "        vertical-align: middle;\n",
       "    }\n",
       "\n",
       "    .dataframe tbody tr th {\n",
       "        vertical-align: top;\n",
       "    }\n",
       "\n",
       "    .dataframe thead th {\n",
       "        text-align: right;\n",
       "    }\n",
       "</style>\n",
       "<table border=\"1\" class=\"dataframe\">\n",
       "  <thead>\n",
       "    <tr style=\"text-align: right;\">\n",
       "      <th></th>\n",
       "      <th>Albumin Latest</th>\n",
       "      <th>Albumin Delta</th>\n",
       "      <th>Urea Nitrogen Latest</th>\n",
       "      <th>Urea Nitrogen Delta</th>\n",
       "      <th>Calcium, Total Latest</th>\n",
       "      <th>Calcium, Total Delta</th>\n",
       "      <th>Bicarbonate Latest</th>\n",
       "      <th>Bicarbonate Delta</th>\n",
       "      <th>Chloride Latest</th>\n",
       "      <th>Chloride Delta</th>\n",
       "      <th>...</th>\n",
       "      <th>eth_other</th>\n",
       "      <th>eth_white</th>\n",
       "      <th>eth_unknown</th>\n",
       "      <th>insurance_medicaid</th>\n",
       "      <th>insurance_medicare</th>\n",
       "      <th>insurance_other</th>\n",
       "      <th>eci_count</th>\n",
       "      <th>ahrq_score</th>\n",
       "      <th>vanWalraven_score</th>\n",
       "      <th>stay_duration_hrs</th>\n",
       "    </tr>\n",
       "    <tr>\n",
       "      <th>hadm_id</th>\n",
       "      <th></th>\n",
       "      <th></th>\n",
       "      <th></th>\n",
       "      <th></th>\n",
       "      <th></th>\n",
       "      <th></th>\n",
       "      <th></th>\n",
       "      <th></th>\n",
       "      <th></th>\n",
       "      <th></th>\n",
       "      <th></th>\n",
       "      <th></th>\n",
       "      <th></th>\n",
       "      <th></th>\n",
       "      <th></th>\n",
       "      <th></th>\n",
       "      <th></th>\n",
       "      <th></th>\n",
       "      <th></th>\n",
       "      <th></th>\n",
       "      <th></th>\n",
       "    </tr>\n",
       "  </thead>\n",
       "  <tbody>\n",
       "    <tr>\n",
       "      <th>20001395</th>\n",
       "      <td>NaN</td>\n",
       "      <td>NaN</td>\n",
       "      <td>37.0</td>\n",
       "      <td>19.0</td>\n",
       "      <td>9.6</td>\n",
       "      <td>0.3</td>\n",
       "      <td>20.0</td>\n",
       "      <td>-4.0</td>\n",
       "      <td>100.0</td>\n",
       "      <td>0.0</td>\n",
       "      <td>...</td>\n",
       "      <td>0</td>\n",
       "      <td>0</td>\n",
       "      <td>0</td>\n",
       "      <td>0</td>\n",
       "      <td>0</td>\n",
       "      <td>1</td>\n",
       "      <td>7</td>\n",
       "      <td>25</td>\n",
       "      <td>24</td>\n",
       "      <td>209.966667</td>\n",
       "    </tr>\n",
       "    <tr>\n",
       "      <th>20002497</th>\n",
       "      <td>NaN</td>\n",
       "      <td>NaN</td>\n",
       "      <td>22.0</td>\n",
       "      <td>6.0</td>\n",
       "      <td>9.4</td>\n",
       "      <td>0.8</td>\n",
       "      <td>30.0</td>\n",
       "      <td>-9.0</td>\n",
       "      <td>98.0</td>\n",
       "      <td>2.0</td>\n",
       "      <td>...</td>\n",
       "      <td>0</td>\n",
       "      <td>0</td>\n",
       "      <td>0</td>\n",
       "      <td>0</td>\n",
       "      <td>0</td>\n",
       "      <td>1</td>\n",
       "      <td>8</td>\n",
       "      <td>15</td>\n",
       "      <td>14</td>\n",
       "      <td>262.150000</td>\n",
       "    </tr>\n",
       "    <tr>\n",
       "      <th>20003491</th>\n",
       "      <td>3.0</td>\n",
       "      <td>NaN</td>\n",
       "      <td>41.0</td>\n",
       "      <td>0.0</td>\n",
       "      <td>8.7</td>\n",
       "      <td>0.5</td>\n",
       "      <td>28.0</td>\n",
       "      <td>9.0</td>\n",
       "      <td>96.0</td>\n",
       "      <td>-4.0</td>\n",
       "      <td>...</td>\n",
       "      <td>0</td>\n",
       "      <td>0</td>\n",
       "      <td>0</td>\n",
       "      <td>0</td>\n",
       "      <td>1</td>\n",
       "      <td>0</td>\n",
       "      <td>5</td>\n",
       "      <td>17</td>\n",
       "      <td>16</td>\n",
       "      <td>252.650000</td>\n",
       "    </tr>\n",
       "    <tr>\n",
       "      <th>20003739</th>\n",
       "      <td>NaN</td>\n",
       "      <td>NaN</td>\n",
       "      <td>16.0</td>\n",
       "      <td>-14.0</td>\n",
       "      <td>8.9</td>\n",
       "      <td>-1.0</td>\n",
       "      <td>28.0</td>\n",
       "      <td>0.0</td>\n",
       "      <td>95.0</td>\n",
       "      <td>1.0</td>\n",
       "      <td>...</td>\n",
       "      <td>0</td>\n",
       "      <td>0</td>\n",
       "      <td>0</td>\n",
       "      <td>0</td>\n",
       "      <td>1</td>\n",
       "      <td>0</td>\n",
       "      <td>7</td>\n",
       "      <td>43</td>\n",
       "      <td>36</td>\n",
       "      <td>220.716667</td>\n",
       "    </tr>\n",
       "    <tr>\n",
       "      <th>20003880</th>\n",
       "      <td>2.8</td>\n",
       "      <td>0.1</td>\n",
       "      <td>60.0</td>\n",
       "      <td>-23.0</td>\n",
       "      <td>8.1</td>\n",
       "      <td>-0.4</td>\n",
       "      <td>28.0</td>\n",
       "      <td>7.0</td>\n",
       "      <td>100.0</td>\n",
       "      <td>0.0</td>\n",
       "      <td>...</td>\n",
       "      <td>0</td>\n",
       "      <td>0</td>\n",
       "      <td>0</td>\n",
       "      <td>0</td>\n",
       "      <td>1</td>\n",
       "      <td>0</td>\n",
       "      <td>8</td>\n",
       "      <td>42</td>\n",
       "      <td>31</td>\n",
       "      <td>213.050000</td>\n",
       "    </tr>\n",
       "  </tbody>\n",
       "</table>\n",
       "<p>5 rows × 175 columns</p>\n",
       "</div>"
      ],
      "text/plain": [
       "          Albumin Latest  Albumin Delta  Urea Nitrogen Latest  \\\n",
       "hadm_id                                                         \n",
       "20001395             NaN            NaN                  37.0   \n",
       "20002497             NaN            NaN                  22.0   \n",
       "20003491             3.0            NaN                  41.0   \n",
       "20003739             NaN            NaN                  16.0   \n",
       "20003880             2.8            0.1                  60.0   \n",
       "\n",
       "          Urea Nitrogen Delta  Calcium, Total Latest  Calcium, Total Delta  \\\n",
       "hadm_id                                                                      \n",
       "20001395                 19.0                    9.6                   0.3   \n",
       "20002497                  6.0                    9.4                   0.8   \n",
       "20003491                  0.0                    8.7                   0.5   \n",
       "20003739                -14.0                    8.9                  -1.0   \n",
       "20003880                -23.0                    8.1                  -0.4   \n",
       "\n",
       "          Bicarbonate Latest  Bicarbonate Delta  Chloride Latest  \\\n",
       "hadm_id                                                            \n",
       "20001395                20.0               -4.0            100.0   \n",
       "20002497                30.0               -9.0             98.0   \n",
       "20003491                28.0                9.0             96.0   \n",
       "20003739                28.0                0.0             95.0   \n",
       "20003880                28.0                7.0            100.0   \n",
       "\n",
       "          Chloride Delta  ...  eth_other  eth_white  eth_unknown  \\\n",
       "hadm_id                   ...                                      \n",
       "20001395             0.0  ...          0          0            0   \n",
       "20002497             2.0  ...          0          0            0   \n",
       "20003491            -4.0  ...          0          0            0   \n",
       "20003739             1.0  ...          0          0            0   \n",
       "20003880             0.0  ...          0          0            0   \n",
       "\n",
       "          insurance_medicaid  insurance_medicare  insurance_other  eci_count  \\\n",
       "hadm_id                                                                        \n",
       "20001395                   0                   0                1          7   \n",
       "20002497                   0                   0                1          8   \n",
       "20003491                   0                   1                0          5   \n",
       "20003739                   0                   1                0          7   \n",
       "20003880                   0                   1                0          8   \n",
       "\n",
       "          ahrq_score  vanWalraven_score  stay_duration_hrs  \n",
       "hadm_id                                                     \n",
       "20001395          25                 24         209.966667  \n",
       "20002497          15                 14         262.150000  \n",
       "20003491          17                 16         252.650000  \n",
       "20003739          43                 36         220.716667  \n",
       "20003880          42                 31         213.050000  \n",
       "\n",
       "[5 rows x 175 columns]"
      ]
     },
     "execution_count": 205,
     "metadata": {},
     "output_type": "execute_result"
    }
   ],
   "source": [
    "new_features.head()"
   ]
  },
  {
   "cell_type": "markdown",
   "metadata": {},
   "source": [
    "## Test/Train/Validate Split and Feature Normalization"
   ]
  },
  {
   "cell_type": "code",
   "execution_count": 206,
   "metadata": {},
   "outputs": [],
   "source": [
    "features_train_val, features_test, labels_train_val, labels_test  = train_test_split(new_features, labels, test_size=test_size)\n",
    "features_train, features_val, labels_train, labels_val = train_test_split(features_train_val, labels_train_val, test_size=val_size / (val_size + train_size))\n",
    "features_train = features_train.dropna(thresh=2, axis=1)\n",
    "features_val = features_val[features_train.columns]\n",
    "features_test = features_test[features_train.columns]\n",
    "feature_variances = features_train.std(axis=0)"
   ]
  },
  {
   "cell_type": "code",
   "execution_count": 207,
   "metadata": {},
   "outputs": [],
   "source": [
    "# Get whether column is binary\n",
    "is_binary = ((features_train == 0) | (features_train == 1) | features_train.isnull()).prod(axis=0)\n",
    "normalizing_variances = is_binary + (1 - is_binary) * feature_variances"
   ]
  },
  {
   "cell_type": "code",
   "execution_count": 208,
   "metadata": {},
   "outputs": [],
   "source": [
    "feature_means = features_train.mean(axis=0)\n",
    "features_train_norm = (features_train - feature_means).fillna(0) / normalizing_variances\n",
    "features_val_norm = (features_val - feature_means).fillna(0) / normalizing_variances\n",
    "features_test_norm = (features_test - feature_means).fillna(0) / normalizing_variances"
   ]
  },
  {
   "cell_type": "code",
   "execution_count": 209,
   "metadata": {},
   "outputs": [
    {
     "data": {
      "text/plain": [
       "Series([], dtype: int64)"
      ]
     },
     "execution_count": 209,
     "metadata": {},
     "output_type": "execute_result"
    }
   ],
   "source": [
    "nulls = features_train_norm.isnull().sum()\n",
    "nulls[nulls > 0]"
   ]
  },
  {
   "cell_type": "markdown",
   "metadata": {},
   "source": [
    "## Train Model"
   ]
  },
  {
   "cell_type": "code",
   "execution_count": 222,
   "metadata": {},
   "outputs": [
    {
     "name": "stdout",
     "output_type": "stream",
     "text": [
      "48h_hf\n",
      "0.9873651911014845\n",
      "0.6247187265605467\n",
      "1.0\n",
      "1\n",
      "1.0\n",
      "0.6240936744728729\n",
      "1.0\n",
      "1\n",
      "1.0\n",
      "0.47187265605467127\n",
      "1.0\n",
      "1\n",
      "1.0\n",
      "0.3732186015501292\n",
      "1.0\n",
      "1\n",
      "14d_hf\n",
      "0.7744530494689373\n",
      "0.5353500795750591\n",
      "1.0\n",
      "1\n",
      "0.9739481850572302\n",
      "0.5079473689545764\n",
      "1.0\n",
      "1\n",
      "1.0\n",
      "0.5726312481626777\n",
      "1.0\n",
      "1\n",
      "1.0\n",
      "0.5301726322618576\n",
      "1.0\n",
      "1\n",
      "30d_hf\n",
      "0.7262557078941188\n",
      "0.5146985162515958\n",
      "1.0\n",
      "1\n",
      "0.9281820003084803\n",
      "0.5307470053204811\n",
      "1.0\n",
      "1\n",
      "1.0\n",
      "0.48748068195006933\n",
      "1.0\n",
      "1\n",
      "1.0\n",
      "0.47525151642874164\n",
      "1.0\n",
      "1\n",
      "er_hf\n",
      "0.7149125449451611\n",
      "0.48719161280404255\n",
      "1.0\n",
      "1\n",
      "0.9527105771562208\n",
      "0.5251422040117908\n",
      "1.0\n",
      "1\n",
      "0.9999923897898884\n",
      "0.4892118789645008\n",
      "1.0\n",
      "1\n",
      "1.0\n",
      "0.4870462338495679\n",
      "1.0\n",
      "1\n",
      "48h\n",
      "0.9122825967938113\n",
      "0.5849556809024979\n",
      "1.0\n",
      "1\n",
      "0.9999615281037202\n",
      "0.5828847703464948\n",
      "1.0\n",
      "1\n",
      "1.0\n",
      "0.580515713134569\n",
      "1.0\n",
      "1\n",
      "1.0\n",
      "0.5489605157131345\n",
      "1.0\n",
      "1\n",
      "14d\n",
      "0.6999410040533411\n",
      "0.5224041644367803\n",
      "1.0\n",
      "1\n",
      "0.9199021306343271\n",
      "0.5151384511704425\n",
      "1.0\n",
      "1\n",
      "0.9999918948765488\n",
      "0.49334750550038653\n",
      "1.0\n",
      "1\n",
      "1.0\n",
      "0.4842049711601356\n",
      "1.0\n",
      "1\n",
      "30d\n",
      "0.6843926850635349\n",
      "0.49053496495299714\n",
      "1.0\n",
      "1\n",
      "0.9106777115081451\n",
      "0.48100546217502393\n",
      "1.0\n",
      "1\n",
      "0.9999948485509328\n",
      "0.49883120840994105\n",
      "1.0\n",
      "1\n",
      "1.0\n",
      "0.46612011426696004\n",
      "1.0\n",
      "1\n",
      "er\n",
      "0.6743951943589784\n",
      "0.5090437966135236\n",
      "1.0\n",
      "1\n",
      "0.8994210036970763\n",
      "0.5215198327788153\n",
      "1.0\n",
      "1\n",
      "0.9999914357577454\n",
      "0.49267170474081956\n",
      "1.0\n",
      "1\n",
      "1.0\n",
      "0.5002523159886705\n",
      "1.0\n",
      "1\n"
     ]
    }
   ],
   "source": [
    "from sklearn.multioutput import MultiOutputClassifier\n",
    "from sklearn.metrics import roc_auc_score, confusion_matrix\n",
    "from sklearn.ensemble import RandomForestClassifier, GradientBoostingClassifier\n",
    "cs = [0.1, 0.2, 0.5, 1.]\n",
    "# penalties = [\"l1\", \"l2\"]\n",
    "penalties = [1]\n",
    "depths = [2, 5, 10, 20]\n",
    "#iters = [25, 50, 100, 250]\n",
    "best_C = 0\n",
    "best_pen = \"l1\"\n",
    "best_params = []\n",
    "best_clf = 0\n",
    "best_clfs = []\n",
    "best_aucs = []\n",
    "# Learn best meta-parameters\n",
    "for label_header in labels.columns:\n",
    "    best_auc = 0\n",
    "    print(label_header)\n",
    "#     for c in cs:\n",
    "    for depth in depths:\n",
    "        for pen in penalties:\n",
    "            clf = GradientBoostingClassifier(max_depth = depth, ).fit(features_train_norm, labels_train[label_header])\n",
    "#             clf = RandomForestClassifier(max_depth = depth).fit(features_train_norm, labels_train[label_header])\n",
    "#             clf = LogisticRegression(solver='liblinear', C=c, penalty=pen, max_iter=100).fit(features_train_norm, labels_train[label_header])\n",
    "#             clf = MultiOutputClassifier(LogisticRegression(solver='liblinear', C=c, penalty=pen, max_iter=100), n_jobs=4).fit(features_train_norm, labels_train)\n",
    "            train_auc = roc_auc_score(labels_train[label_header], clf.predict_proba(features_train_norm)[:, 1])\n",
    "            print(train_auc)\n",
    "            val_auc = roc_auc_score(labels_val[label_header], clf.predict_proba(features_val_norm)[:, 1])\n",
    "            print(val_auc)\n",
    "            print(c)\n",
    "            print(pen)\n",
    "            if val_auc > best_auc:\n",
    "                best_auc = val_auc\n",
    "                best_clf = clf\n",
    "    best_clfs.append(best_clf)\n",
    "    best_aucs.append(best_auc)"
   ]
  },
  {
   "cell_type": "code",
   "execution_count": 224,
   "metadata": {},
   "outputs": [
    {
     "data": {
      "text/plain": [
       "[0.6247187265605467,\n",
       " 0.5726312481626777,\n",
       " 0.5307470053204811,\n",
       " 0.5251422040117908,\n",
       " 0.5849556809024979,\n",
       " 0.5224041644367803,\n",
       " 0.49883120840994105,\n",
       " 0.5215198327788153]"
      ]
     },
     "execution_count": 224,
     "metadata": {},
     "output_type": "execute_result"
    }
   ],
   "source": [
    "best_aucs_gb = best_aucs\n",
    "best_aucs"
   ]
  },
  {
   "cell_type": "markdown",
   "metadata": {},
   "source": [
    "## Save to file"
   ]
  },
  {
   "cell_type": "code",
   "execution_count": 47,
   "metadata": {},
   "outputs": [],
   "source": [
    "features.to_csv('features.csv')"
   ]
  },
  {
   "cell_type": "code",
   "execution_count": 203,
   "metadata": {},
   "outputs": [
    {
     "data": {
      "text/plain": [
       "Index(['rare_medication', 'Albumin Latest', 'Albumin Delta',\n",
       "       'Urea Nitrogen Latest', 'Urea Nitrogen Delta', 'Calcium, Total Latest',\n",
       "       'Calcium, Total Delta', 'Bicarbonate Latest', 'Bicarbonate Delta',\n",
       "       'Chloride Latest',\n",
       "       ...\n",
       "       'eth_hispanic', 'eth_other', 'eth_white', 'eth_unknown',\n",
       "       'insurance_medicaid', 'insurance_medicare', 'insurance_other',\n",
       "       'eci_count', 'ahrq_score', 'vanWalraven_score'],\n",
       "      dtype='object', length=175)"
      ]
     },
     "execution_count": 203,
     "metadata": {},
     "output_type": "execute_result"
    }
   ],
   "source": [
    "features.columns[1221:]"
   ]
  },
  {
   "cell_type": "code",
   "execution_count": 211,
   "metadata": {},
   "outputs": [
    {
     "data": {
      "text/plain": [
       "48h_hf      66\n",
       "14d_hf     687\n",
       "30d_hf    1246\n",
       "er_hf     1125\n",
       "48h        200\n",
       "14d       1575\n",
       "30d       2716\n",
       "er        4471\n",
       "dtype: int64"
      ]
     },
     "execution_count": 211,
     "metadata": {},
     "output_type": "execute_result"
    }
   ],
   "source": [
    "labels.sum()"
   ]
  },
  {
   "cell_type": "code",
   "execution_count": null,
   "metadata": {},
   "outputs": [],
   "source": []
  }
 ],
 "metadata": {
  "kernelspec": {
   "display_name": "Python 3",
   "language": "python",
   "name": "python3"
  },
  "language_info": {
   "codemirror_mode": {
    "name": "ipython",
    "version": 3
   },
   "file_extension": ".py",
   "mimetype": "text/x-python",
   "name": "python",
   "nbconvert_exporter": "python",
   "pygments_lexer": "ipython3",
   "version": "3.8.5"
  }
 },
 "nbformat": 4,
 "nbformat_minor": 2
}
