{
 "cells": [
  {
   "cell_type": "code",
   "execution_count": 1,
   "metadata": {
    "collapsed": true
   },
   "outputs": [],
   "source": [
    "import pandas as pd\n",
    "import numpy as np\n",
    "import pickle, os"
   ]
  },
  {
   "cell_type": "code",
   "execution_count": 2,
   "metadata": {
    "collapsed": true
   },
   "outputs": [],
   "source": [
    "mimiciv_dir = '/data/vision/polina/projects/chestxray/data_mimic_iv/0.4/'"
   ]
  },
  {
   "cell_type": "markdown",
   "metadata": {},
   "source": [
    "## BNP"
   ]
  },
  {
   "cell_type": "code",
   "execution_count": 3,
   "metadata": {
    "collapsed": true
   },
   "outputs": [],
   "source": [
    "labev = pd.read_csv(f'{mimiciv_dir}hosp/labevents.csv', low_memory=False)"
   ]
  },
  {
   "cell_type": "code",
   "execution_count": 9,
   "metadata": {},
   "outputs": [
    {
     "name": "stderr",
     "output_type": "stream",
     "text": [
      "/data/vision/polina/shared_software/anaconda3-4.3.1/envs/chestxray_joint_new/lib/python3.6/site-packages/ipykernel_launcher.py:1: UserWarning: Boolean Series key will be reindexed to match DataFrame index.\n",
      "  \"\"\"Entry point for launching an IPython kernel.\n"
     ]
    },
    {
     "name": "stdout",
     "output_type": "stream",
     "text": [
      "file exists\n",
      "{'2184-09-27 13:09:00': 504.0, '2184-09-19 02:35:00': 502.0, '2181-01-22 14:55:00': 430.0, '2184-09-18 17:10:00': 492.0, '2180-12-16 08:50:00': 378.0, '2180-06-04 01:05:00': 723.0, '2176-05-21 21:50:00': 740.0, '2181-04-02 16:11:00': 378.0, '2180-07-09 12:30:00': 856.0, '2180-06-19 10:12:00': 385.0, '2179-04-19 18:05:00': 509.0, '2180-12-10 13:14:00': 350.0, '2180-05-02 16:06:00': 680.0, '2176-05-24 05:25:00': 445.0, '2180-06-10 07:00:00': 296.0}\n"
     ]
    }
   ],
   "source": [
    "bnp_dict = labev.loc[labev.itemid==50963][~labev.valuenum.isnull()][['subject_id','charttime','valuenum']]\\\n",
    ".groupby('subject_id')['charttime','valuenum']\\\n",
    ".apply(lambda x: x.set_index('charttime').to_dict()['valuenum']).to_dict()\n",
    "\n",
    "bnpfile = 'bnp.pkl'\n",
    "if not os.path.exists(bnpfile):\n",
    "    print ('saving file')\n",
    "    with open(bnpfile,'wb') as f:\n",
    "        pickle.dump(bnp_dict,f)\n",
    "else:\n",
    "    print ('file exists')\n",
    "\n",
    "print(bnp_dict[13815268]) #BNP data from patient 13815268"
   ]
  },
  {
   "cell_type": "markdown",
   "metadata": {},
   "source": [
    "## Creatinine"
   ]
  },
  {
   "cell_type": "code",
   "execution_count": 10,
   "metadata": {},
   "outputs": [
    {
     "name": "stdout",
     "output_type": "stream",
     "text": [
      "file exists\n",
      "{'2180-03-23 11:51:00': 0.4, '2180-05-06 22:25:00': 0.3, '2180-05-07 05:05:00': 0.3, '2180-06-03 12:00:00': 0.4, '2180-06-22 11:15:00': 0.3, '2180-06-26 16:10:00': 0.6, '2180-06-27 05:10:00': 0.3, '2180-07-23 06:39:00': 0.7, '2180-07-23 21:45:00': 0.5, '2180-07-24 06:35:00': 0.4, '2180-07-25 04:45:00': 0.4, '2180-07-27 08:30:00': 0.6, '2180-08-05 21:20:00': 0.6, '2180-08-06 06:36:00': 0.6, '2180-08-07 00:59:00': 0.4, '2180-08-07 06:15:00': 0.4, '2180-08-10 12:00:00': 0.8}\n"
     ]
    }
   ],
   "source": [
    "creatinine_dict = labev.loc[labev.itemid==50912][['subject_id','charttime','valuenum']]\\\n",
    ".groupby('subject_id')['charttime','valuenum']\\\n",
    ".apply(lambda x: x.set_index('charttime').to_dict()['valuenum']).to_dict()\n",
    "\n",
    "creatinine_file = 'creatinine.pkl'\n",
    "if not os.path.exists(creatinine_file):\n",
    "    print ('saving file')\n",
    "    with open(creatinine_file,'wb') as f:\n",
    "        pickle.dump(creatinine_dict, f)\n",
    "else:\n",
    "    print ('file exists')\n",
    "    \n",
    "print(creatinine_dict[10000032]) #creatinine data from patient 10000032"
   ]
  },
  {
   "cell_type": "code",
   "execution_count": null,
   "metadata": {
    "collapsed": true
   },
   "outputs": [],
   "source": []
  }
 ],
 "metadata": {
  "kernelspec": {
   "display_name": "Python 3",
   "language": "python",
   "name": "python3"
  },
  "language_info": {
   "codemirror_mode": {
    "name": "ipython",
    "version": 3
   },
   "file_extension": ".py",
   "mimetype": "text/x-python",
   "name": "python",
   "nbconvert_exporter": "python",
   "pygments_lexer": "ipython3",
   "version": "3.6.2"
  }
 },
 "nbformat": 4,
 "nbformat_minor": 2
}
