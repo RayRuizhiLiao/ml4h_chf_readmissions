{
 "cells": [
  {
   "cell_type": "code",
   "execution_count": 10,
   "metadata": {},
   "outputs": [],
   "source": [
    "import pandas as pd\n",
    "import numpy as np\n",
    "import pickle, os\n",
    "from dateutil import parser\n"
   ]
  },
  {
   "cell_type": "code",
   "execution_count": 11,
   "metadata": {},
   "outputs": [],
   "source": [
    "mimiciv_dir = '../../../mimic_iv/'\n",
    "cohort_dir = '../phase1_teamA/'"
   ]
  },
  {
   "cell_type": "code",
   "execution_count": 12,
   "metadata": {},
   "outputs": [],
   "source": [
    "predischg_interval_hrs = 48\n",
    "delta_interval_hrs = 24\n",
    "rare_med_threshold = 10"
   ]
  },
  {
   "cell_type": "markdown",
   "metadata": {},
   "source": [
    "## Load Data"
   ]
  },
  {
   "cell_type": "code",
   "execution_count": 13,
   "metadata": {},
   "outputs": [],
   "source": [
    "cohort = pd.read_csv(f'{cohort_dir}final_cohort_selected.csv', low_memory=False)\n",
    "cohort_ids = set(cohort.hadm_id.unique())"
   ]
  },
  {
   "cell_type": "code",
   "execution_count": 14,
   "metadata": {},
   "outputs": [],
   "source": [
    "all_admissions = pd.read_csv(f'{mimiciv_dir}core/admissions.csv', low_memory=False)\n",
    "selected_admissions = all_admissions[all_admissions.hadm_id.isin(cohort_ids)]"
   ]
  },
  {
   "cell_type": "code",
   "execution_count": 15,
   "metadata": {},
   "outputs": [],
   "source": [
    "d_labitems = pd.read_csv(f'{mimiciv_dir}hosp/d_labitems.csv', low_memory=False)"
   ]
  },
  {
   "cell_type": "code",
   "execution_count": 16,
   "metadata": {},
   "outputs": [],
   "source": [
    "# For vitals\n",
    "iter_chartevents = pd.read_csv(f'{mimiciv_dir}icu/chartevents.csv', low_memory=False, iterator=True, chunksize=100000)\n",
    "d_items = pd.read_csv(f'{mimiciv_dir}icu/d_items.csv', low_memory=False)"
   ]
  },
  {
   "cell_type": "code",
   "execution_count": 17,
   "metadata": {},
   "outputs": [],
   "source": [
    "iter_emar = pd.read_csv(f'{mimiciv_dir}hosp/emar.csv', iterator=True, chunksize=100000)\n",
    "selected_emars = pd.concat([chunk[chunk.hadm_id.isin(cohort_ids)] for chunk in iter_emar])"
   ]
  },
  {
   "cell_type": "code",
   "execution_count": 18,
   "metadata": {},
   "outputs": [
    {
     "output_type": "stream",
     "name": "stderr",
     "text": [
      "/usr/local/Caskroom/miniconda/base/lib/python3.8/site-packages/IPython/core/interactiveshell.py:3357: DtypeWarning: Columns (7) have mixed types.Specify dtype option on import or set low_memory=False.\n",
      "  if (await self.run_code(code, result,  async_=asy)):\n",
      "/usr/local/Caskroom/miniconda/base/lib/python3.8/site-packages/IPython/core/interactiveshell.py:3357: DtypeWarning: Columns (14) have mixed types.Specify dtype option on import or set low_memory=False.\n",
      "  if (await self.run_code(code, result,  async_=asy)):\n",
      "/usr/local/Caskroom/miniconda/base/lib/python3.8/site-packages/IPython/core/interactiveshell.py:3357: DtypeWarning: Columns (9) have mixed types.Specify dtype option on import or set low_memory=False.\n",
      "  if (await self.run_code(code, result,  async_=asy)):\n",
      "/usr/local/Caskroom/miniconda/base/lib/python3.8/site-packages/IPython/core/interactiveshell.py:3357: DtypeWarning: Columns (9,12,13) have mixed types.Specify dtype option on import or set low_memory=False.\n",
      "  if (await self.run_code(code, result,  async_=asy)):\n",
      "/usr/local/Caskroom/miniconda/base/lib/python3.8/site-packages/IPython/core/interactiveshell.py:3357: DtypeWarning: Columns (7,12) have mixed types.Specify dtype option on import or set low_memory=False.\n",
      "  if (await self.run_code(code, result,  async_=asy)):\n",
      "/usr/local/Caskroom/miniconda/base/lib/python3.8/site-packages/IPython/core/interactiveshell.py:3357: DtypeWarning: Columns (9,12) have mixed types.Specify dtype option on import or set low_memory=False.\n",
      "  if (await self.run_code(code, result,  async_=asy)):\n",
      "/usr/local/Caskroom/miniconda/base/lib/python3.8/site-packages/IPython/core/interactiveshell.py:3357: DtypeWarning: Columns (12) have mixed types.Specify dtype option on import or set low_memory=False.\n",
      "  if (await self.run_code(code, result,  async_=asy)):\n",
      "/usr/local/Caskroom/miniconda/base/lib/python3.8/site-packages/IPython/core/interactiveshell.py:3357: DtypeWarning: Columns (6,7,9,12) have mixed types.Specify dtype option on import or set low_memory=False.\n",
      "  if (await self.run_code(code, result,  async_=asy)):\n",
      "/usr/local/Caskroom/miniconda/base/lib/python3.8/site-packages/IPython/core/interactiveshell.py:3357: DtypeWarning: Columns (7,9,12) have mixed types.Specify dtype option on import or set low_memory=False.\n",
      "  if (await self.run_code(code, result,  async_=asy)):\n"
     ]
    }
   ],
   "source": [
    "iter_labs = pd.read_csv(f'{mimiciv_dir}hosp/labevents.csv', iterator=True, chunksize=100000)\n",
    "selected_labevs = pd.concat([chunk[chunk.hadm_id.isin(cohort_ids)] for chunk in iter_labs])"
   ]
  },
  {
   "cell_type": "code",
   "execution_count": 19,
   "metadata": {},
   "outputs": [
    {
     "output_type": "execute_result",
     "data": {
      "text/plain": [
       "      labevent_id  subject_id     hadm_id  specimen_id  itemid  \\\n",
       "6257        96618    10007677  27180483.0     83066528   50947   \n",
       "7410        96701    10007677  27180483.0     19111229   51678   \n",
       "7546        96767    10007677  27180483.0     19319201   50934   \n",
       "7973        95893    10007677  27180483.0     72730729   51678   \n",
       "7980        96543    10007677  27180483.0     23515865   50947   \n",
       "\n",
       "                charttime            storetime value  valuenum valueuom  \\\n",
       "6257  2120-12-08 08:06:00  2120-12-08 10:15:00     1       1.0      NaN   \n",
       "7410  2120-12-10 06:55:00  2120-12-10 09:33:00     5       5.0      NaN   \n",
       "7546  2120-12-12 08:14:00  2120-12-12 09:32:00     2       2.0      NaN   \n",
       "7973  2120-11-24 07:22:00  2120-11-24 10:02:00     8       8.0      NaN   \n",
       "7980  2120-12-06 16:00:00  2120-12-06 17:09:00     1       1.0      NaN   \n",
       "\n",
       "      ref_range_lower  ref_range_upper flag priority comments  \n",
       "6257              NaN              NaN  NaN  ROUTINE      NaN  \n",
       "7410              NaN              NaN  NaN  ROUTINE      NaN  \n",
       "7546              NaN              NaN  NaN     STAT      NaN  \n",
       "7973              NaN              NaN  NaN  ROUTINE      NaN  \n",
       "7980              NaN              NaN  NaN  ROUTINE      NaN  "
      ],
      "text/html": "<div>\n<style scoped>\n    .dataframe tbody tr th:only-of-type {\n        vertical-align: middle;\n    }\n\n    .dataframe tbody tr th {\n        vertical-align: top;\n    }\n\n    .dataframe thead th {\n        text-align: right;\n    }\n</style>\n<table border=\"1\" class=\"dataframe\">\n  <thead>\n    <tr style=\"text-align: right;\">\n      <th></th>\n      <th>labevent_id</th>\n      <th>subject_id</th>\n      <th>hadm_id</th>\n      <th>specimen_id</th>\n      <th>itemid</th>\n      <th>charttime</th>\n      <th>storetime</th>\n      <th>value</th>\n      <th>valuenum</th>\n      <th>valueuom</th>\n      <th>ref_range_lower</th>\n      <th>ref_range_upper</th>\n      <th>flag</th>\n      <th>priority</th>\n      <th>comments</th>\n    </tr>\n  </thead>\n  <tbody>\n    <tr>\n      <th>6257</th>\n      <td>96618</td>\n      <td>10007677</td>\n      <td>27180483.0</td>\n      <td>83066528</td>\n      <td>50947</td>\n      <td>2120-12-08 08:06:00</td>\n      <td>2120-12-08 10:15:00</td>\n      <td>1</td>\n      <td>1.0</td>\n      <td>NaN</td>\n      <td>NaN</td>\n      <td>NaN</td>\n      <td>NaN</td>\n      <td>ROUTINE</td>\n      <td>NaN</td>\n    </tr>\n    <tr>\n      <th>7410</th>\n      <td>96701</td>\n      <td>10007677</td>\n      <td>27180483.0</td>\n      <td>19111229</td>\n      <td>51678</td>\n      <td>2120-12-10 06:55:00</td>\n      <td>2120-12-10 09:33:00</td>\n      <td>5</td>\n      <td>5.0</td>\n      <td>NaN</td>\n      <td>NaN</td>\n      <td>NaN</td>\n      <td>NaN</td>\n      <td>ROUTINE</td>\n      <td>NaN</td>\n    </tr>\n    <tr>\n      <th>7546</th>\n      <td>96767</td>\n      <td>10007677</td>\n      <td>27180483.0</td>\n      <td>19319201</td>\n      <td>50934</td>\n      <td>2120-12-12 08:14:00</td>\n      <td>2120-12-12 09:32:00</td>\n      <td>2</td>\n      <td>2.0</td>\n      <td>NaN</td>\n      <td>NaN</td>\n      <td>NaN</td>\n      <td>NaN</td>\n      <td>STAT</td>\n      <td>NaN</td>\n    </tr>\n    <tr>\n      <th>7973</th>\n      <td>95893</td>\n      <td>10007677</td>\n      <td>27180483.0</td>\n      <td>72730729</td>\n      <td>51678</td>\n      <td>2120-11-24 07:22:00</td>\n      <td>2120-11-24 10:02:00</td>\n      <td>8</td>\n      <td>8.0</td>\n      <td>NaN</td>\n      <td>NaN</td>\n      <td>NaN</td>\n      <td>NaN</td>\n      <td>ROUTINE</td>\n      <td>NaN</td>\n    </tr>\n    <tr>\n      <th>7980</th>\n      <td>96543</td>\n      <td>10007677</td>\n      <td>27180483.0</td>\n      <td>23515865</td>\n      <td>50947</td>\n      <td>2120-12-06 16:00:00</td>\n      <td>2120-12-06 17:09:00</td>\n      <td>1</td>\n      <td>1.0</td>\n      <td>NaN</td>\n      <td>NaN</td>\n      <td>NaN</td>\n      <td>NaN</td>\n      <td>ROUTINE</td>\n      <td>NaN</td>\n    </tr>\n  </tbody>\n</table>\n</div>"
     },
     "metadata": {},
     "execution_count": 19
    }
   ],
   "source": [
    "selected_labevs.head()"
   ]
  },
  {
   "cell_type": "markdown",
   "metadata": {},
   "source": [
    "## Admission and Discharge"
   ]
  },
  {
   "cell_type": "code",
   "execution_count": 20,
   "metadata": {},
   "outputs": [],
   "source": [
    "admittimes = selected_admissions['admittime'].map(parser.parse)\n",
    "dischtimes = selected_admissions['dischtime'].map(parser.parse)\n",
    "stay_duration = (dischtimes - admittimes) / np.timedelta64(1, 'h')\n"
   ]
  },
  {
   "cell_type": "code",
   "execution_count": 21,
   "metadata": {},
   "outputs": [],
   "source": [
    "# intialise data of lists.\n",
    "features_data = {'hadm_id': selected_admissions.hadm_id.to_numpy(),\n",
    "        'stay_duration_hrs': stay_duration.to_numpy(),\n",
    "        'admittime': admittimes,\n",
    "         'dischtime': dischtimes};\n",
    "  \n",
    "# Create DataFrame\n",
    "features = pd.DataFrame(features_data)\n",
    "features = features.set_index('hadm_id')"
   ]
  },
  {
   "cell_type": "code",
   "execution_count": 22,
   "metadata": {},
   "outputs": [
    {
     "output_type": "execute_result",
     "data": {
      "text/plain": [
       "          stay_duration_hrs           admittime           dischtime\n",
       "hadm_id                                                            \n",
       "26732088          24.433333 2131-09-04 14:26:00 2131-09-05 14:52:00\n",
       "25141335          19.133333 2186-10-18 17:52:00 2186-10-19 13:00:00\n",
       "23337747          25.166667 2134-08-11 16:06:00 2134-08-12 17:16:00\n",
       "26726555          42.083333 2135-05-26 19:25:00 2135-05-28 13:30:00\n",
       "25401613          50.700000 2123-10-18 07:15:00 2123-10-20 09:57:00"
      ],
      "text/html": "<div>\n<style scoped>\n    .dataframe tbody tr th:only-of-type {\n        vertical-align: middle;\n    }\n\n    .dataframe tbody tr th {\n        vertical-align: top;\n    }\n\n    .dataframe thead th {\n        text-align: right;\n    }\n</style>\n<table border=\"1\" class=\"dataframe\">\n  <thead>\n    <tr style=\"text-align: right;\">\n      <th></th>\n      <th>stay_duration_hrs</th>\n      <th>admittime</th>\n      <th>dischtime</th>\n    </tr>\n    <tr>\n      <th>hadm_id</th>\n      <th></th>\n      <th></th>\n      <th></th>\n    </tr>\n  </thead>\n  <tbody>\n    <tr>\n      <th>26732088</th>\n      <td>24.433333</td>\n      <td>2131-09-04 14:26:00</td>\n      <td>2131-09-05 14:52:00</td>\n    </tr>\n    <tr>\n      <th>25141335</th>\n      <td>19.133333</td>\n      <td>2186-10-18 17:52:00</td>\n      <td>2186-10-19 13:00:00</td>\n    </tr>\n    <tr>\n      <th>23337747</th>\n      <td>25.166667</td>\n      <td>2134-08-11 16:06:00</td>\n      <td>2134-08-12 17:16:00</td>\n    </tr>\n    <tr>\n      <th>26726555</th>\n      <td>42.083333</td>\n      <td>2135-05-26 19:25:00</td>\n      <td>2135-05-28 13:30:00</td>\n    </tr>\n    <tr>\n      <th>25401613</th>\n      <td>50.700000</td>\n      <td>2123-10-18 07:15:00</td>\n      <td>2123-10-20 09:57:00</td>\n    </tr>\n  </tbody>\n</table>\n</div>"
     },
     "metadata": {},
     "execution_count": 22
    }
   ],
   "source": [
    "features.head()"
   ]
  },
  {
   "cell_type": "markdown",
   "metadata": {},
   "source": [
    "## Medications"
   ]
  },
  {
   "cell_type": "code",
   "execution_count": 23,
   "metadata": {},
   "outputs": [],
   "source": [
    "med_list = selected_emars.medication.value_counts() # TODO switch to using training set only"
   ]
  },
  {
   "cell_type": "code",
   "execution_count": 24,
   "metadata": {},
   "outputs": [],
   "source": [
    "first_rare = np.argmax(med_list.to_numpy() < rare_med_threshold)\n",
    "meds = [k for k in med_list.keys()] # Get list of meds\n",
    "for i in range(first_rare): # For nonrare meds, get which hadms have the med\n",
    "    hadms = set(selected_emars.hadm_id[selected_emars.medication == meds[i]].unique())\n",
    "    features[meds[i]] = features.index.isin(hadms)\n",
    "\n",
    "rare_meds = set([meds[i] for i in range(first_rare, len(meds))])\n",
    "hadms = set(selected_emars.hadm_id[selected_emars.medication.isin(rare_meds)].unique())\n",
    "features[\"rare_medication\"] = features.index.isin(hadms)"
   ]
  },
  {
   "cell_type": "code",
   "execution_count": 25,
   "metadata": {},
   "outputs": [
    {
     "output_type": "execute_result",
     "data": {
      "text/plain": [
       "          stay_duration_hrs           admittime           dischtime  \\\n",
       "hadm_id                                                               \n",
       "26732088          24.433333 2131-09-04 14:26:00 2131-09-05 14:52:00   \n",
       "25141335          19.133333 2186-10-18 17:52:00 2186-10-19 13:00:00   \n",
       "23337747          25.166667 2134-08-11 16:06:00 2134-08-12 17:16:00   \n",
       "26726555          42.083333 2135-05-26 19:25:00 2135-05-28 13:30:00   \n",
       "25401613          50.700000 2123-10-18 07:15:00 2123-10-20 09:57:00   \n",
       "\n",
       "          Sodium Chloride 0.9%  Flush  Insulin  Heparin  Furosemide  \\\n",
       "hadm_id                                                               \n",
       "26732088                         True    False    False        True   \n",
       "25141335                         True     True    False        True   \n",
       "23337747                         True    False    False        True   \n",
       "26726555                         True    False    False        True   \n",
       "25401613                         True     True    False        True   \n",
       "\n",
       "          Metoprolol Tartrate  Docusate Sodium  Acetaminophen  ...  \\\n",
       "hadm_id                                                        ...   \n",
       "26732088                False            False          False  ...   \n",
       "25141335                False            False          False  ...   \n",
       "23337747                False            False          False  ...   \n",
       "26726555                 True            False          False  ...   \n",
       "25401613                False            False           True  ...   \n",
       "\n",
       "          LaMICtal XR  aclidinium bromide  Phenytoin  CycloPHOSPHAMIDE  \\\n",
       "hadm_id                                                                  \n",
       "26732088        False               False      False             False   \n",
       "25141335        False               False      False             False   \n",
       "23337747        False               False      False             False   \n",
       "26726555        False               False      False             False   \n",
       "25401613        False               False      False             False   \n",
       "\n",
       "          Midodrine 20 mg TID or Placebo  Aliskiren  rivaroxaban  Nesiritide  \\\n",
       "hadm_id                                                                        \n",
       "26732088                           False      False        False       False   \n",
       "25141335                           False      False        False       False   \n",
       "23337747                           False      False        False       False   \n",
       "26726555                           False      False        False       False   \n",
       "25401613                           False      False        False       False   \n",
       "\n",
       "          Alphagan P  rare_medication  \n",
       "hadm_id                                \n",
       "26732088       False            False  \n",
       "25141335       False            False  \n",
       "23337747       False            False  \n",
       "26726555       False            False  \n",
       "25401613       False            False  \n",
       "\n",
       "[5 rows x 1207 columns]"
      ],
      "text/html": "<div>\n<style scoped>\n    .dataframe tbody tr th:only-of-type {\n        vertical-align: middle;\n    }\n\n    .dataframe tbody tr th {\n        vertical-align: top;\n    }\n\n    .dataframe thead th {\n        text-align: right;\n    }\n</style>\n<table border=\"1\" class=\"dataframe\">\n  <thead>\n    <tr style=\"text-align: right;\">\n      <th></th>\n      <th>stay_duration_hrs</th>\n      <th>admittime</th>\n      <th>dischtime</th>\n      <th>Sodium Chloride 0.9%  Flush</th>\n      <th>Insulin</th>\n      <th>Heparin</th>\n      <th>Furosemide</th>\n      <th>Metoprolol Tartrate</th>\n      <th>Docusate Sodium</th>\n      <th>Acetaminophen</th>\n      <th>...</th>\n      <th>LaMICtal XR</th>\n      <th>aclidinium bromide</th>\n      <th>Phenytoin</th>\n      <th>CycloPHOSPHAMIDE</th>\n      <th>Midodrine 20 mg TID or Placebo</th>\n      <th>Aliskiren</th>\n      <th>rivaroxaban</th>\n      <th>Nesiritide</th>\n      <th>Alphagan P</th>\n      <th>rare_medication</th>\n    </tr>\n    <tr>\n      <th>hadm_id</th>\n      <th></th>\n      <th></th>\n      <th></th>\n      <th></th>\n      <th></th>\n      <th></th>\n      <th></th>\n      <th></th>\n      <th></th>\n      <th></th>\n      <th></th>\n      <th></th>\n      <th></th>\n      <th></th>\n      <th></th>\n      <th></th>\n      <th></th>\n      <th></th>\n      <th></th>\n      <th></th>\n      <th></th>\n    </tr>\n  </thead>\n  <tbody>\n    <tr>\n      <th>26732088</th>\n      <td>24.433333</td>\n      <td>2131-09-04 14:26:00</td>\n      <td>2131-09-05 14:52:00</td>\n      <td>True</td>\n      <td>False</td>\n      <td>False</td>\n      <td>True</td>\n      <td>False</td>\n      <td>False</td>\n      <td>False</td>\n      <td>...</td>\n      <td>False</td>\n      <td>False</td>\n      <td>False</td>\n      <td>False</td>\n      <td>False</td>\n      <td>False</td>\n      <td>False</td>\n      <td>False</td>\n      <td>False</td>\n      <td>False</td>\n    </tr>\n    <tr>\n      <th>25141335</th>\n      <td>19.133333</td>\n      <td>2186-10-18 17:52:00</td>\n      <td>2186-10-19 13:00:00</td>\n      <td>True</td>\n      <td>True</td>\n      <td>False</td>\n      <td>True</td>\n      <td>False</td>\n      <td>False</td>\n      <td>False</td>\n      <td>...</td>\n      <td>False</td>\n      <td>False</td>\n      <td>False</td>\n      <td>False</td>\n      <td>False</td>\n      <td>False</td>\n      <td>False</td>\n      <td>False</td>\n      <td>False</td>\n      <td>False</td>\n    </tr>\n    <tr>\n      <th>23337747</th>\n      <td>25.166667</td>\n      <td>2134-08-11 16:06:00</td>\n      <td>2134-08-12 17:16:00</td>\n      <td>True</td>\n      <td>False</td>\n      <td>False</td>\n      <td>True</td>\n      <td>False</td>\n      <td>False</td>\n      <td>False</td>\n      <td>...</td>\n      <td>False</td>\n      <td>False</td>\n      <td>False</td>\n      <td>False</td>\n      <td>False</td>\n      <td>False</td>\n      <td>False</td>\n      <td>False</td>\n      <td>False</td>\n      <td>False</td>\n    </tr>\n    <tr>\n      <th>26726555</th>\n      <td>42.083333</td>\n      <td>2135-05-26 19:25:00</td>\n      <td>2135-05-28 13:30:00</td>\n      <td>True</td>\n      <td>False</td>\n      <td>False</td>\n      <td>True</td>\n      <td>True</td>\n      <td>False</td>\n      <td>False</td>\n      <td>...</td>\n      <td>False</td>\n      <td>False</td>\n      <td>False</td>\n      <td>False</td>\n      <td>False</td>\n      <td>False</td>\n      <td>False</td>\n      <td>False</td>\n      <td>False</td>\n      <td>False</td>\n    </tr>\n    <tr>\n      <th>25401613</th>\n      <td>50.700000</td>\n      <td>2123-10-18 07:15:00</td>\n      <td>2123-10-20 09:57:00</td>\n      <td>True</td>\n      <td>True</td>\n      <td>False</td>\n      <td>True</td>\n      <td>False</td>\n      <td>False</td>\n      <td>True</td>\n      <td>...</td>\n      <td>False</td>\n      <td>False</td>\n      <td>False</td>\n      <td>False</td>\n      <td>False</td>\n      <td>False</td>\n      <td>False</td>\n      <td>False</td>\n      <td>False</td>\n      <td>False</td>\n    </tr>\n  </tbody>\n</table>\n<p>5 rows × 1207 columns</p>\n</div>"
     },
     "metadata": {},
     "execution_count": 25
    }
   ],
   "source": [
    "features.head()"
   ]
  },
  {
   "cell_type": "markdown",
   "metadata": {},
   "source": [
    "## Labs"
   ]
  },
  {
   "cell_type": "code",
   "execution_count": 26,
   "metadata": {},
   "outputs": [
    {
     "output_type": "execute_result",
     "data": {
      "text/plain": [
       "     itemid                           label                fluid   category  \\\n",
       "938   50813                         Lactate                Blood  Blood Gas   \n",
       "939   52442                         Lactate                Blood  Blood Gas   \n",
       "940   50843  Lactate Dehydrogenase, Ascites              Ascites  Chemistry   \n",
       "941   51795      Lactate Dehydrogenase, CSF  Cerebrospinal Fluid  Chemistry   \n",
       "942   50954      Lactate Dehydrogenase (LD)                Blood  Chemistry   \n",
       "943   51054  Lactate Dehydrogenase, Pleural              Pleural  Chemistry   \n",
       "944   51944    Lactate Dehydrogenase, Stool                Stool  Chemistry   \n",
       "\n",
       "    loinc_code  \n",
       "938        NaN  \n",
       "939        NaN  \n",
       "940        NaN  \n",
       "941        NaN  \n",
       "942     2532-0  \n",
       "943        NaN  \n",
       "944        NaN  "
      ],
      "text/html": "<div>\n<style scoped>\n    .dataframe tbody tr th:only-of-type {\n        vertical-align: middle;\n    }\n\n    .dataframe tbody tr th {\n        vertical-align: top;\n    }\n\n    .dataframe thead th {\n        text-align: right;\n    }\n</style>\n<table border=\"1\" class=\"dataframe\">\n  <thead>\n    <tr style=\"text-align: right;\">\n      <th></th>\n      <th>itemid</th>\n      <th>label</th>\n      <th>fluid</th>\n      <th>category</th>\n      <th>loinc_code</th>\n    </tr>\n  </thead>\n  <tbody>\n    <tr>\n      <th>938</th>\n      <td>50813</td>\n      <td>Lactate</td>\n      <td>Blood</td>\n      <td>Blood Gas</td>\n      <td>NaN</td>\n    </tr>\n    <tr>\n      <th>939</th>\n      <td>52442</td>\n      <td>Lactate</td>\n      <td>Blood</td>\n      <td>Blood Gas</td>\n      <td>NaN</td>\n    </tr>\n    <tr>\n      <th>940</th>\n      <td>50843</td>\n      <td>Lactate Dehydrogenase, Ascites</td>\n      <td>Ascites</td>\n      <td>Chemistry</td>\n      <td>NaN</td>\n    </tr>\n    <tr>\n      <th>941</th>\n      <td>51795</td>\n      <td>Lactate Dehydrogenase, CSF</td>\n      <td>Cerebrospinal Fluid</td>\n      <td>Chemistry</td>\n      <td>NaN</td>\n    </tr>\n    <tr>\n      <th>942</th>\n      <td>50954</td>\n      <td>Lactate Dehydrogenase (LD)</td>\n      <td>Blood</td>\n      <td>Chemistry</td>\n      <td>2532-0</td>\n    </tr>\n    <tr>\n      <th>943</th>\n      <td>51054</td>\n      <td>Lactate Dehydrogenase, Pleural</td>\n      <td>Pleural</td>\n      <td>Chemistry</td>\n      <td>NaN</td>\n    </tr>\n    <tr>\n      <th>944</th>\n      <td>51944</td>\n      <td>Lactate Dehydrogenase, Stool</td>\n      <td>Stool</td>\n      <td>Chemistry</td>\n      <td>NaN</td>\n    </tr>\n  </tbody>\n</table>\n</div>"
     },
     "metadata": {},
     "execution_count": 26
    }
   ],
   "source": [
    "d_labitems[d_labitems.label.str.contains(\"lactate\", case=False, na=False)]\n"
   ]
  },
  {
   "cell_type": "code",
   "execution_count": 27,
   "metadata": {},
   "outputs": [
    {
     "output_type": "stream",
     "name": "stdout",
     "text": [
      "['Alanine Aminotransferase (ALT)' 'Albumin' 'Alkaline Phosphatase'\n 'Asparate Aminotransferase (AST)' 'Bicarbonate' 'Bilirubin, Total'\n 'Calcium, Total' 'Chloride' 'Chloride, Urine' 'C-Reactive Protein'\n 'Creatine Kinase (CK)' 'Creatinine' 'Glucose' 'INR(PT)'\n 'Lactate Dehydrogenase (LD)' 'Lipase' 'NTproBNP' 'Platelet Count'\n 'Potassium' 'Potassium, Urine' 'Protein, Total' 'PT' 'Red Blood Cells'\n 'Sedimentation Rate' 'Sodium' 'Sodium, Urine' 'Urea Nitrogen'\n 'White Blood Cells']\n"
     ]
    }
   ],
   "source": [
    "lab_itemids = [50862, 51006, 50893, 50882, 50902, 50912, 50931, 50971, 50983, 50885, 50976, 50861, 50863, 50878,#CMP\n",
    "                51265, 51279, 51301, #CBC \n",
    "                50954, 51274, #LFTs\n",
    "                51237, #INR\n",
    "                51100, 51078, 51097,#Urine Studies\n",
    "                50910, 50956, 51288, 50889, #Injury/Inflammatory markers\n",
    "                50963, # BNP\n",
    "                50817, # Oxygen\n",
    "                220227 # Arterial O2 Saturation\n",
    "              ]\n",
    "lab_itemnames = d_labitems[d_labitems.itemid.isin(lab_itemids)].label.to_numpy()\n",
    "print(lab_itemnames)"
   ]
  },
  {
   "cell_type": "code",
   "execution_count": 28,
   "metadata": {},
   "outputs": [
    {
     "output_type": "execute_result",
     "data": {
      "text/plain": [
       "1470"
      ]
     },
     "metadata": {},
     "execution_count": 28
    }
   ],
   "source": [
    "(selected_labevs.itemid == 50889).sum()"
   ]
  },
  {
   "cell_type": "code",
   "execution_count": 29,
   "metadata": {},
   "outputs": [],
   "source": [
    "selected_labevs['charttime'] = pd.to_datetime(selected_labevs['charttime'])"
   ]
  },
  {
   "cell_type": "code",
   "execution_count": 44,
   "metadata": {},
   "outputs": [],
   "source": [
    "# Example args: features, d_labitems, lab_itemids, selected_labevs\n",
    "def fetch_by_itemid(features, d_item_table, itemid_list, selected_patients):\n",
    "    # intialise data of lists.\n",
    "    # features_data = {'hadm_id': selected_patients.hadm_id.to_numpy()}\n",
    "    \n",
    "    # # Create DataFrame\n",
    "    # features = pd.DataFrame(features_data)\n",
    "    # features = features.set_index('hadm_id')\n",
    "\n",
    "    for itemid in itemid_list:\n",
    "        # Get lab name\n",
    "        item_name = d_item_table[d_item_table.itemid == itemid].label.to_numpy()[0]\n",
    "        features.reset_index()\n",
    "        # Get first and last lab in stay \n",
    "        labs = selected_patients.loc[(selected_patients.itemid==itemid) & ~selected_patients.valuenum.isnull()][['hadm_id','charttime','valuenum']]\n",
    "        labs = labs.merge(features, how='left', left_on= 'hadm_id', right_on= 'hadm_id')\n",
    "        hrs_before_disch = (labs.dischtime - labs.charttime)/ np.timedelta64(1, 'h')\n",
    "        labs = labs[(hrs_before_disch > 0) & (hrs_before_disch < labs.stay_duration_hrs)]\n",
    "        latest_labs = labs.loc[labs.groupby('hadm_id').charttime.idxmax()].set_index('hadm_id')\n",
    "        initial_labs = labs.loc[labs.groupby('hadm_id').charttime.idxmin()].set_index('hadm_id')\n",
    "        features = features.join(latest_labs[['charttime', 'valuenum']].add_suffix(\"_latest\"), how='outer')\n",
    "        features = features.join(initial_labs[['charttime', 'valuenum']].add_suffix(\"_init\"), how='outer')\n",
    "        features[str(item_name) + \" Latest\"] = features.valuenum_latest\n",
    "        delta_valid =  (features.charttime_latest - features.charttime_init) / np.timedelta64(1, 'h') > delta_interval_hrs\n",
    "        features[str(item_name) + \" Delta\"] = (features.valuenum_latest - features.valuenum_init)[delta_valid]\n",
    "        features = features.drop(['charttime_latest', 'charttime_init', 'valuenum_latest', 'valuenum_init'], axis=1)\n",
    "    return features\n",
    "features = fetch_by_itemid(features, d_labitems, lab_itemids, selected_labevs)"
   ]
  },
  {
   "cell_type": "code",
   "execution_count": 45,
   "metadata": {},
   "outputs": [
    {
     "output_type": "execute_result",
     "data": {
      "text/plain": [
       "          stay_duration_hrs           admittime           dischtime  \\\n",
       "hadm_id                                                               \n",
       "20001395         209.966667 2180-04-23 22:52:00 2180-05-02 16:50:00   \n",
       "20002497         262.150000 2121-08-19 19:33:00 2121-08-30 17:42:00   \n",
       "20003491         252.650000 2197-12-18 04:50:00 2197-12-28 17:29:00   \n",
       "20003739         220.716667 2183-10-06 12:41:00 2183-10-15 17:24:00   \n",
       "20003880         213.050000 2187-09-16 21:52:00 2187-09-25 18:55:00   \n",
       "\n",
       "          Sodium Chloride 0.9%  Flush  Insulin  Heparin  Furosemide  \\\n",
       "hadm_id                                                               \n",
       "20001395                         True    False     True        True   \n",
       "20002497                         True     True     True        True   \n",
       "20003491                         True     True     True        True   \n",
       "20003739                         True    False     True        True   \n",
       "20003880                         True     True     True        True   \n",
       "\n",
       "          Metoprolol Tartrate  Docusate Sodium  Acetaminophen  ...  \\\n",
       "hadm_id                                                        ...   \n",
       "20001395                False            False          False  ...   \n",
       "20002497                 True            False          False  ...   \n",
       "20003491                False             True          False  ...   \n",
       "20003739                 True            False          False  ...   \n",
       "20003880                 True             True           True  ...   \n",
       "\n",
       "          PAR-Respiration Latest  PAR-Respiration Delta  EtCO2 Latest  \\\n",
       "hadm_id                                                                 \n",
       "20001395                     NaN                    NaN           NaN   \n",
       "20002497                     NaN                    NaN           NaN   \n",
       "20003491                     NaN                    NaN           NaN   \n",
       "20003739                     NaN                    NaN           NaN   \n",
       "20003880                     NaN                    NaN           NaN   \n",
       "\n",
       "          EtCO2 Delta  EtCO2 Clinical indication Latest  \\\n",
       "hadm_id                                                   \n",
       "20001395          NaN                               NaN   \n",
       "20002497          NaN                               NaN   \n",
       "20003491          NaN                               NaN   \n",
       "20003739          NaN                               NaN   \n",
       "20003880          NaN                               NaN   \n",
       "\n",
       "          EtCO2 Clinical indication Delta  \\\n",
       "hadm_id                                     \n",
       "20001395                              NaN   \n",
       "20002497                              NaN   \n",
       "20003491                              NaN   \n",
       "20003739                              NaN   \n",
       "20003880                              NaN   \n",
       "\n",
       "          Forehead SpO2 Sensor in Place Latest  \\\n",
       "hadm_id                                          \n",
       "20001395                                   NaN   \n",
       "20002497                                   NaN   \n",
       "20003491                                   NaN   \n",
       "20003739                                   NaN   \n",
       "20003880                                   NaN   \n",
       "\n",
       "          Forehead SpO2 Sensor in Place Delta  \\\n",
       "hadm_id                                         \n",
       "20001395                                  NaN   \n",
       "20002497                                  NaN   \n",
       "20003491                                  NaN   \n",
       "20003739                                  NaN   \n",
       "20003880                                  NaN   \n",
       "\n",
       "          Forehead Sensor Position Changed Latest  \\\n",
       "hadm_id                                             \n",
       "20001395                                      NaN   \n",
       "20002497                                      NaN   \n",
       "20003491                                      NaN   \n",
       "20003739                                      NaN   \n",
       "20003880                                      NaN   \n",
       "\n",
       "          Forehead Sensor Position Changed Delta  \n",
       "hadm_id                                           \n",
       "20001395                                     NaN  \n",
       "20002497                                     NaN  \n",
       "20003491                                     NaN  \n",
       "20003739                                     NaN  \n",
       "20003880                                     NaN  \n",
       "\n",
       "[5 rows x 1363 columns]"
      ],
      "text/html": "<div>\n<style scoped>\n    .dataframe tbody tr th:only-of-type {\n        vertical-align: middle;\n    }\n\n    .dataframe tbody tr th {\n        vertical-align: top;\n    }\n\n    .dataframe thead th {\n        text-align: right;\n    }\n</style>\n<table border=\"1\" class=\"dataframe\">\n  <thead>\n    <tr style=\"text-align: right;\">\n      <th></th>\n      <th>stay_duration_hrs</th>\n      <th>admittime</th>\n      <th>dischtime</th>\n      <th>Sodium Chloride 0.9%  Flush</th>\n      <th>Insulin</th>\n      <th>Heparin</th>\n      <th>Furosemide</th>\n      <th>Metoprolol Tartrate</th>\n      <th>Docusate Sodium</th>\n      <th>Acetaminophen</th>\n      <th>...</th>\n      <th>PAR-Respiration Latest</th>\n      <th>PAR-Respiration Delta</th>\n      <th>EtCO2 Latest</th>\n      <th>EtCO2 Delta</th>\n      <th>EtCO2 Clinical indication Latest</th>\n      <th>EtCO2 Clinical indication Delta</th>\n      <th>Forehead SpO2 Sensor in Place Latest</th>\n      <th>Forehead SpO2 Sensor in Place Delta</th>\n      <th>Forehead Sensor Position Changed Latest</th>\n      <th>Forehead Sensor Position Changed Delta</th>\n    </tr>\n    <tr>\n      <th>hadm_id</th>\n      <th></th>\n      <th></th>\n      <th></th>\n      <th></th>\n      <th></th>\n      <th></th>\n      <th></th>\n      <th></th>\n      <th></th>\n      <th></th>\n      <th></th>\n      <th></th>\n      <th></th>\n      <th></th>\n      <th></th>\n      <th></th>\n      <th></th>\n      <th></th>\n      <th></th>\n      <th></th>\n      <th></th>\n    </tr>\n  </thead>\n  <tbody>\n    <tr>\n      <th>20001395</th>\n      <td>209.966667</td>\n      <td>2180-04-23 22:52:00</td>\n      <td>2180-05-02 16:50:00</td>\n      <td>True</td>\n      <td>False</td>\n      <td>True</td>\n      <td>True</td>\n      <td>False</td>\n      <td>False</td>\n      <td>False</td>\n      <td>...</td>\n      <td>NaN</td>\n      <td>NaN</td>\n      <td>NaN</td>\n      <td>NaN</td>\n      <td>NaN</td>\n      <td>NaN</td>\n      <td>NaN</td>\n      <td>NaN</td>\n      <td>NaN</td>\n      <td>NaN</td>\n    </tr>\n    <tr>\n      <th>20002497</th>\n      <td>262.150000</td>\n      <td>2121-08-19 19:33:00</td>\n      <td>2121-08-30 17:42:00</td>\n      <td>True</td>\n      <td>True</td>\n      <td>True</td>\n      <td>True</td>\n      <td>True</td>\n      <td>False</td>\n      <td>False</td>\n      <td>...</td>\n      <td>NaN</td>\n      <td>NaN</td>\n      <td>NaN</td>\n      <td>NaN</td>\n      <td>NaN</td>\n      <td>NaN</td>\n      <td>NaN</td>\n      <td>NaN</td>\n      <td>NaN</td>\n      <td>NaN</td>\n    </tr>\n    <tr>\n      <th>20003491</th>\n      <td>252.650000</td>\n      <td>2197-12-18 04:50:00</td>\n      <td>2197-12-28 17:29:00</td>\n      <td>True</td>\n      <td>True</td>\n      <td>True</td>\n      <td>True</td>\n      <td>False</td>\n      <td>True</td>\n      <td>False</td>\n      <td>...</td>\n      <td>NaN</td>\n      <td>NaN</td>\n      <td>NaN</td>\n      <td>NaN</td>\n      <td>NaN</td>\n      <td>NaN</td>\n      <td>NaN</td>\n      <td>NaN</td>\n      <td>NaN</td>\n      <td>NaN</td>\n    </tr>\n    <tr>\n      <th>20003739</th>\n      <td>220.716667</td>\n      <td>2183-10-06 12:41:00</td>\n      <td>2183-10-15 17:24:00</td>\n      <td>True</td>\n      <td>False</td>\n      <td>True</td>\n      <td>True</td>\n      <td>True</td>\n      <td>False</td>\n      <td>False</td>\n      <td>...</td>\n      <td>NaN</td>\n      <td>NaN</td>\n      <td>NaN</td>\n      <td>NaN</td>\n      <td>NaN</td>\n      <td>NaN</td>\n      <td>NaN</td>\n      <td>NaN</td>\n      <td>NaN</td>\n      <td>NaN</td>\n    </tr>\n    <tr>\n      <th>20003880</th>\n      <td>213.050000</td>\n      <td>2187-09-16 21:52:00</td>\n      <td>2187-09-25 18:55:00</td>\n      <td>True</td>\n      <td>True</td>\n      <td>True</td>\n      <td>True</td>\n      <td>True</td>\n      <td>True</td>\n      <td>True</td>\n      <td>...</td>\n      <td>NaN</td>\n      <td>NaN</td>\n      <td>NaN</td>\n      <td>NaN</td>\n      <td>NaN</td>\n      <td>NaN</td>\n      <td>NaN</td>\n      <td>NaN</td>\n      <td>NaN</td>\n      <td>NaN</td>\n    </tr>\n  </tbody>\n</table>\n<p>5 rows × 1363 columns</p>\n</div>"
     },
     "metadata": {},
     "execution_count": 45
    }
   ],
   "source": [
    "features.head()"
   ]
  },
  {
   "source": [
    "## Vitals"
   ],
   "cell_type": "markdown",
   "metadata": {}
  },
  {
   "cell_type": "code",
   "execution_count": 32,
   "metadata": {},
   "outputs": [
    {
     "output_type": "stream",
     "name": "stdout",
     "text": [
      "      subject_id   hadm_id   stay_id            charttime  \\\n",
      "6881    10007677  27180483  34992648  2120-11-16 23:59:00   \n",
      "6882    10007677  27180483  34992648  2120-11-17 00:00:00   \n",
      "6883    10007677  27180483  34992648  2120-11-17 00:00:00   \n",
      "6884    10007677  27180483  34992648  2120-11-17 00:00:00   \n",
      "6885    10007677  27180483  34992648  2120-11-17 00:00:00   \n",
      "\n",
      "                storetime  itemid  value  valuenum valueuom  warning  \n",
      "6881  2120-11-17 00:00:00  223761   98.5      98.5       °F        0  \n",
      "6882  2120-11-17 02:35:00  220046  130.0     130.0      bpm        0  \n",
      "6883  2120-11-17 02:35:00  220047   50.0      50.0      bpm        0  \n",
      "6884  2120-11-17 02:35:00  223751  150.0     150.0     mmHg        0  \n",
      "6885  2120-11-17 02:35:00  223752   90.0      90.0     mmHg        0  \n",
      "1                                  Heart Rate\n",
      "4                                Heart Rhythm\n",
      "5            Arterial Blood Pressure systolic\n",
      "6           Arterial Blood Pressure diastolic\n",
      "7                Arterial Blood Pressure mean\n",
      "22       Non Invasive Blood Pressure systolic\n",
      "23      Non Invasive Blood Pressure diastolic\n",
      "24           Non Invasive Blood Pressure mean\n",
      "184                                       QTc\n",
      "220                    Temperature Fahrenheit\n",
      "221                       Temperature Celsius\n",
      "222                          Bladder Pressure\n",
      "223                      Orthostatic HR lying\n",
      "224                    Orthostatic HR sitting\n",
      "225                  Orthostatic BPs standing\n",
      "413                                Doppler BP\n",
      "414       Manual Blood Pressure Systolic Left\n",
      "431                          Pulsus Paradoxus\n",
      "589                          Temperature Site\n",
      "590      Manual Blood Pressure Diastolic Left\n",
      "591                     Orthostatic BPs lying\n",
      "592                   Orthostatic BPs sitting\n",
      "593                   Orthostatic HR standing\n",
      "594                             Ectopy Type 1\n",
      "595                        Ectopy Frequency 1\n",
      "926                           ART BP Systolic\n",
      "927                          ART BP Diastolic\n",
      "928                               ART BP Mean\n",
      "1349                    Orthostatic BPd lying\n",
      "1350                  Orthostatic BPd sitting\n",
      "1351                 Orthostatic BPd standing\n",
      "1405                Blood Temperature CCO (C)\n",
      "1437                            Ectopy Type 2\n",
      "1438                       Ectopy Frequency 2\n",
      "1726    Manual Blood Pressure Diastolic Right\n",
      "1727     Manual Blood Pressure Systolic Right\n",
      "1848              Arctic Sun Temp #1 Location\n",
      "1849              Arctic Sun Temp #2 Location\n",
      "1850              Arctic Sun/Alsius Temp #1 C\n",
      "1851              Arctic Sun/Alsius Temp #2 C\n",
      "2204                             PAR-Activity\n",
      "2205                          PAR-Circulation\n",
      "2206                        PAR-Consciousness\n",
      "2207                    PAR-Oxygen saturation\n",
      "2208                       PAR-Remain sedated\n",
      "2209                          PAR-Respiration\n",
      "2486                                    EtCO2\n",
      "2487                EtCO2 Clinical indication\n",
      "3293            Forehead SpO2 Sensor in Place\n",
      "3294         Forehead Sensor Position Changed\n",
      "Name: label, dtype: object\n",
      "      subject_id   hadm_id   stay_id           charttime            storetime  \\\n",
      "6881    10007677  27180483  34992648 2120-11-16 23:59:00  2120-11-17 00:00:00   \n",
      "6895    10007677  27180483  34992648 2120-11-17 00:03:00  2120-11-17 02:30:00   \n",
      "6896    10007677  27180483  34992648 2120-11-17 00:03:00  2120-11-17 02:30:00   \n",
      "6897    10007677  27180483  34992648 2120-11-17 00:03:00  2120-11-17 02:30:00   \n",
      "6898    10007677  27180483  34992648 2120-11-17 00:03:00  2120-11-17 02:30:00   \n",
      "\n",
      "      itemid  value  valuenum valueuom  warning  \n",
      "6881  223761   98.5      98.5       °F        0  \n",
      "6895  220045   84.0      84.0      bpm        0  \n",
      "6896  220179  108.0     108.0     mmHg        0  \n",
      "6897  220180   61.0      61.0     mmHg        0  \n",
      "6898  220181   75.0      75.0     mmHg        0  \n",
      "<ipython-input-32-02dafe133d9e>:11: SettingWithCopyWarning: \n",
      "A value is trying to be set on a copy of a slice from a DataFrame.\n",
      "Try using .loc[row_indexer,col_indexer] = value instead\n",
      "\n",
      "See the caveats in the documentation: https://pandas.pydata.org/pandas-docs/stable/user_guide/indexing.html#returning-a-view-versus-a-copy\n",
      "  selected_chartevents_vitals['charttime'] = pd.to_datetime(selected_chartevents_vitals['charttime'])\n"
     ]
    }
   ],
   "source": [
    "# Get events, vitals, and then only events that include those vitals\n",
    "selected_chartevents = pd.concat([chunk[chunk.hadm_id.isin(cohort_ids)] for chunk in iter_chartevents])\n",
    "print(selected_chartevents.head())\n",
    "\n",
    "vitals = d_items[d_items.category.str.contains(\"vital\", case=False, na=False)] # Includes BPM, BP, Temp, SpO2\n",
    "vital_itemids = list(vitals.itemid)\n",
    "print(vitals.label)\n",
    "\n",
    "\n",
    "selected_chartevents_vitals = selected_chartevents[selected_chartevents.itemid.isin(vital_itemids)]\n",
    "selected_chartevents_vitals['charttime'] = pd.to_datetime(selected_chartevents_vitals['charttime'])\n",
    "print(selected_chartevents_vitals.head())"
   ]
  },
  {
   "cell_type": "code",
   "execution_count": 46,
   "metadata": {},
   "outputs": [],
   "source": [
    "features = fetch_by_itemid(features, d_items, vital_itemids, selected_chartevents_vitals)"
   ]
  },
  {
   "cell_type": "code",
   "execution_count": 43,
   "metadata": {},
   "outputs": [
    {
     "output_type": "execute_result",
     "data": {
      "text/plain": [
       "          stay_duration_hrs           admittime           dischtime  \\\n",
       "hadm_id                                                               \n",
       "20040003         386.866667 2181-03-02 17:48:00 2181-03-18 20:40:00   \n",
       "23680853         272.366667 2133-03-21 04:23:00 2133-04-01 12:45:00   \n",
       "25382044         382.083333 2131-11-13 19:19:00 2131-11-29 17:24:00   \n",
       "26690757         241.916667 2143-01-13 14:55:00 2143-01-23 16:50:00   \n",
       "28259228         122.966667 2136-09-28 18:22:00 2136-10-03 21:20:00   \n",
       "\n",
       "          Sodium Chloride 0.9%  Flush  Insulin  Heparin  Furosemide  \\\n",
       "hadm_id                                                               \n",
       "20040003                         True    False    False        True   \n",
       "23680853                         True    False     True        True   \n",
       "25382044                         True     True     True        True   \n",
       "26690757                         True     True     True        True   \n",
       "28259228                         True     True     True        True   \n",
       "\n",
       "          Metoprolol Tartrate  Docusate Sodium  Acetaminophen  ...  \\\n",
       "hadm_id                                                        ...   \n",
       "20040003                 True            False          False  ...   \n",
       "23680853                False            False           True  ...   \n",
       "25382044                 True            False          False  ...   \n",
       "26690757                 True            False          False  ...   \n",
       "28259228                 True             True          False  ...   \n",
       "\n",
       "          PAR-Respiration Latest  PAR-Respiration Delta  EtCO2 Latest  \\\n",
       "hadm_id                                                                 \n",
       "20040003                     NaN                    NaN           NaN   \n",
       "23680853                     NaN                    NaN          44.0   \n",
       "25382044                     NaN                    NaN           NaN   \n",
       "26690757                     NaN                    NaN          20.0   \n",
       "28259228                     2.0                    NaN           NaN   \n",
       "\n",
       "          EtCO2 Delta  EtCO2 Clinical indication Latest  \\\n",
       "hadm_id                                                   \n",
       "20040003          NaN                               NaN   \n",
       "23680853         -3.0                               NaN   \n",
       "25382044          NaN                               NaN   \n",
       "26690757          NaN                               NaN   \n",
       "28259228          NaN                               NaN   \n",
       "\n",
       "          EtCO2 Clinical indication Delta  \\\n",
       "hadm_id                                     \n",
       "20040003                              NaN   \n",
       "23680853                              NaN   \n",
       "25382044                              NaN   \n",
       "26690757                              NaN   \n",
       "28259228                              NaN   \n",
       "\n",
       "          Forehead SpO2 Sensor in Place Latest  \\\n",
       "hadm_id                                          \n",
       "20040003                                   1.0   \n",
       "23680853                                   1.0   \n",
       "25382044                                   1.0   \n",
       "26690757                                   1.0   \n",
       "28259228                                   1.0   \n",
       "\n",
       "          Forehead SpO2 Sensor in Place Delta  \\\n",
       "hadm_id                                         \n",
       "20040003                                  NaN   \n",
       "23680853                                  NaN   \n",
       "25382044                                  NaN   \n",
       "26690757                                  NaN   \n",
       "28259228                                  0.0   \n",
       "\n",
       "          Forehead Sensor Position Changed Latest  \\\n",
       "hadm_id                                             \n",
       "20040003                                      1.0   \n",
       "23680853                                      1.0   \n",
       "25382044                                      NaN   \n",
       "26690757                                      1.0   \n",
       "28259228                                      1.0   \n",
       "\n",
       "          Forehead Sensor Position Changed Delta  \n",
       "hadm_id                                           \n",
       "20040003                                     NaN  \n",
       "23680853                                     NaN  \n",
       "25382044                                     NaN  \n",
       "26690757                                     NaN  \n",
       "28259228                                     0.0  \n",
       "\n",
       "[5 rows x 1363 columns]"
      ],
      "text/html": "<div>\n<style scoped>\n    .dataframe tbody tr th:only-of-type {\n        vertical-align: middle;\n    }\n\n    .dataframe tbody tr th {\n        vertical-align: top;\n    }\n\n    .dataframe thead th {\n        text-align: right;\n    }\n</style>\n<table border=\"1\" class=\"dataframe\">\n  <thead>\n    <tr style=\"text-align: right;\">\n      <th></th>\n      <th>stay_duration_hrs</th>\n      <th>admittime</th>\n      <th>dischtime</th>\n      <th>Sodium Chloride 0.9%  Flush</th>\n      <th>Insulin</th>\n      <th>Heparin</th>\n      <th>Furosemide</th>\n      <th>Metoprolol Tartrate</th>\n      <th>Docusate Sodium</th>\n      <th>Acetaminophen</th>\n      <th>...</th>\n      <th>PAR-Respiration Latest</th>\n      <th>PAR-Respiration Delta</th>\n      <th>EtCO2 Latest</th>\n      <th>EtCO2 Delta</th>\n      <th>EtCO2 Clinical indication Latest</th>\n      <th>EtCO2 Clinical indication Delta</th>\n      <th>Forehead SpO2 Sensor in Place Latest</th>\n      <th>Forehead SpO2 Sensor in Place Delta</th>\n      <th>Forehead Sensor Position Changed Latest</th>\n      <th>Forehead Sensor Position Changed Delta</th>\n    </tr>\n    <tr>\n      <th>hadm_id</th>\n      <th></th>\n      <th></th>\n      <th></th>\n      <th></th>\n      <th></th>\n      <th></th>\n      <th></th>\n      <th></th>\n      <th></th>\n      <th></th>\n      <th></th>\n      <th></th>\n      <th></th>\n      <th></th>\n      <th></th>\n      <th></th>\n      <th></th>\n      <th></th>\n      <th></th>\n      <th></th>\n      <th></th>\n    </tr>\n  </thead>\n  <tbody>\n    <tr>\n      <th>20040003</th>\n      <td>386.866667</td>\n      <td>2181-03-02 17:48:00</td>\n      <td>2181-03-18 20:40:00</td>\n      <td>True</td>\n      <td>False</td>\n      <td>False</td>\n      <td>True</td>\n      <td>True</td>\n      <td>False</td>\n      <td>False</td>\n      <td>...</td>\n      <td>NaN</td>\n      <td>NaN</td>\n      <td>NaN</td>\n      <td>NaN</td>\n      <td>NaN</td>\n      <td>NaN</td>\n      <td>1.0</td>\n      <td>NaN</td>\n      <td>1.0</td>\n      <td>NaN</td>\n    </tr>\n    <tr>\n      <th>23680853</th>\n      <td>272.366667</td>\n      <td>2133-03-21 04:23:00</td>\n      <td>2133-04-01 12:45:00</td>\n      <td>True</td>\n      <td>False</td>\n      <td>True</td>\n      <td>True</td>\n      <td>False</td>\n      <td>False</td>\n      <td>True</td>\n      <td>...</td>\n      <td>NaN</td>\n      <td>NaN</td>\n      <td>44.0</td>\n      <td>-3.0</td>\n      <td>NaN</td>\n      <td>NaN</td>\n      <td>1.0</td>\n      <td>NaN</td>\n      <td>1.0</td>\n      <td>NaN</td>\n    </tr>\n    <tr>\n      <th>25382044</th>\n      <td>382.083333</td>\n      <td>2131-11-13 19:19:00</td>\n      <td>2131-11-29 17:24:00</td>\n      <td>True</td>\n      <td>True</td>\n      <td>True</td>\n      <td>True</td>\n      <td>True</td>\n      <td>False</td>\n      <td>False</td>\n      <td>...</td>\n      <td>NaN</td>\n      <td>NaN</td>\n      <td>NaN</td>\n      <td>NaN</td>\n      <td>NaN</td>\n      <td>NaN</td>\n      <td>1.0</td>\n      <td>NaN</td>\n      <td>NaN</td>\n      <td>NaN</td>\n    </tr>\n    <tr>\n      <th>26690757</th>\n      <td>241.916667</td>\n      <td>2143-01-13 14:55:00</td>\n      <td>2143-01-23 16:50:00</td>\n      <td>True</td>\n      <td>True</td>\n      <td>True</td>\n      <td>True</td>\n      <td>True</td>\n      <td>False</td>\n      <td>False</td>\n      <td>...</td>\n      <td>NaN</td>\n      <td>NaN</td>\n      <td>20.0</td>\n      <td>NaN</td>\n      <td>NaN</td>\n      <td>NaN</td>\n      <td>1.0</td>\n      <td>NaN</td>\n      <td>1.0</td>\n      <td>NaN</td>\n    </tr>\n    <tr>\n      <th>28259228</th>\n      <td>122.966667</td>\n      <td>2136-09-28 18:22:00</td>\n      <td>2136-10-03 21:20:00</td>\n      <td>True</td>\n      <td>True</td>\n      <td>True</td>\n      <td>True</td>\n      <td>True</td>\n      <td>True</td>\n      <td>False</td>\n      <td>...</td>\n      <td>2.0</td>\n      <td>NaN</td>\n      <td>NaN</td>\n      <td>NaN</td>\n      <td>NaN</td>\n      <td>NaN</td>\n      <td>1.0</td>\n      <td>0.0</td>\n      <td>1.0</td>\n      <td>0.0</td>\n    </tr>\n  </tbody>\n</table>\n<p>5 rows × 1363 columns</p>\n</div>"
     },
     "metadata": {},
     "execution_count": 43
    }
   ],
   "source": [
    "features[features[\"Forehead SpO2 Sensor in Place Latest\"] > 0]\n",
    "# Make sure not everything is NaNs"
   ]
  },
  {
   "cell_type": "markdown",
   "metadata": {},
   "source": [
    "## Save features to file"
   ]
  },
  {
   "cell_type": "code",
   "execution_count": 47,
   "metadata": {},
   "outputs": [],
   "source": [
    "features.to_csv('features.csv')"
   ]
  },
  {
   "cell_type": "code",
   "execution_count": null,
   "metadata": {},
   "outputs": [],
   "source": []
  }
 ],
 "metadata": {
  "kernelspec": {
   "name": "python385jvsc74a57bd0f85c0ae1067a86ad6a96b144378883e79fd1516474b579ba33ee3a7084540002",
   "display_name": "Python 3.8.5 64-bit ('base': conda)"
  },
  "language_info": {
   "codemirror_mode": {
    "name": "ipython",
    "version": 3
   },
   "file_extension": ".py",
   "mimetype": "text/x-python",
   "name": "python",
   "nbconvert_exporter": "python",
   "pygments_lexer": "ipython3",
   "version": "3.8.5"
  }
 },
 "nbformat": 4,
 "nbformat_minor": 2
}